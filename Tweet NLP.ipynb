{
 "cells": [
  {
   "cell_type": "code",
   "execution_count": 1,
   "metadata": {},
   "outputs": [],
   "source": [
    "import pandas as pd\n",
    "import numpy as np\n",
    "import matplotlib.pyplot as plt\n",
    "import seaborn as sns\n",
    "import nltk"
   ]
  },
  {
   "cell_type": "code",
   "execution_count": 2,
   "metadata": {},
   "outputs": [],
   "source": [
    "from nltk.tokenize import word_tokenize"
   ]
  },
  {
   "cell_type": "code",
   "execution_count": 3,
   "metadata": {},
   "outputs": [],
   "source": [
    "data = 'E:/Kaggle/Tweets NLP/train.csv'"
   ]
  },
  {
   "cell_type": "code",
   "execution_count": 4,
   "metadata": {},
   "outputs": [],
   "source": [
    "data_test = 'E:/Kaggle/Tweets NLP/test.csv'"
   ]
  },
  {
   "cell_type": "code",
   "execution_count": 5,
   "metadata": {},
   "outputs": [],
   "source": [
    "df = pd.read_csv(data)\n",
    "df_test = pd.read_csv(data_test)"
   ]
  },
  {
   "cell_type": "code",
   "execution_count": 6,
   "metadata": {},
   "outputs": [
    {
     "data": {
      "text/html": [
       "<div>\n",
       "<style scoped>\n",
       "    .dataframe tbody tr th:only-of-type {\n",
       "        vertical-align: middle;\n",
       "    }\n",
       "\n",
       "    .dataframe tbody tr th {\n",
       "        vertical-align: top;\n",
       "    }\n",
       "\n",
       "    .dataframe thead th {\n",
       "        text-align: right;\n",
       "    }\n",
       "</style>\n",
       "<table border=\"1\" class=\"dataframe\">\n",
       "  <thead>\n",
       "    <tr style=\"text-align: right;\">\n",
       "      <th></th>\n",
       "      <th>id</th>\n",
       "      <th>keyword</th>\n",
       "      <th>location</th>\n",
       "      <th>text</th>\n",
       "      <th>target</th>\n",
       "    </tr>\n",
       "  </thead>\n",
       "  <tbody>\n",
       "    <tr>\n",
       "      <td>0</td>\n",
       "      <td>1</td>\n",
       "      <td>NaN</td>\n",
       "      <td>NaN</td>\n",
       "      <td>Our Deeds are the Reason of this #earthquake M...</td>\n",
       "      <td>1</td>\n",
       "    </tr>\n",
       "    <tr>\n",
       "      <td>1</td>\n",
       "      <td>4</td>\n",
       "      <td>NaN</td>\n",
       "      <td>NaN</td>\n",
       "      <td>Forest fire near La Ronge Sask. Canada</td>\n",
       "      <td>1</td>\n",
       "    </tr>\n",
       "    <tr>\n",
       "      <td>2</td>\n",
       "      <td>5</td>\n",
       "      <td>NaN</td>\n",
       "      <td>NaN</td>\n",
       "      <td>All residents asked to 'shelter in place' are ...</td>\n",
       "      <td>1</td>\n",
       "    </tr>\n",
       "    <tr>\n",
       "      <td>3</td>\n",
       "      <td>6</td>\n",
       "      <td>NaN</td>\n",
       "      <td>NaN</td>\n",
       "      <td>13,000 people receive #wildfires evacuation or...</td>\n",
       "      <td>1</td>\n",
       "    </tr>\n",
       "    <tr>\n",
       "      <td>4</td>\n",
       "      <td>7</td>\n",
       "      <td>NaN</td>\n",
       "      <td>NaN</td>\n",
       "      <td>Just got sent this photo from Ruby #Alaska as ...</td>\n",
       "      <td>1</td>\n",
       "    </tr>\n",
       "  </tbody>\n",
       "</table>\n",
       "</div>"
      ],
      "text/plain": [
       "   id keyword location                                               text  \\\n",
       "0   1     NaN      NaN  Our Deeds are the Reason of this #earthquake M...   \n",
       "1   4     NaN      NaN             Forest fire near La Ronge Sask. Canada   \n",
       "2   5     NaN      NaN  All residents asked to 'shelter in place' are ...   \n",
       "3   6     NaN      NaN  13,000 people receive #wildfires evacuation or...   \n",
       "4   7     NaN      NaN  Just got sent this photo from Ruby #Alaska as ...   \n",
       "\n",
       "   target  \n",
       "0       1  \n",
       "1       1  \n",
       "2       1  \n",
       "3       1  \n",
       "4       1  "
      ]
     },
     "execution_count": 6,
     "metadata": {},
     "output_type": "execute_result"
    }
   ],
   "source": [
    "df.head()"
   ]
  },
  {
   "cell_type": "code",
   "execution_count": 7,
   "metadata": {},
   "outputs": [
    {
     "data": {
      "text/plain": [
       "id          0.000000\n",
       "keyword     0.008013\n",
       "location    0.332720\n",
       "text        0.000000\n",
       "target      0.000000\n",
       "dtype: float64"
      ]
     },
     "execution_count": 7,
     "metadata": {},
     "output_type": "execute_result"
    }
   ],
   "source": [
    "df.isnull().sum()/df.shape[0]"
   ]
  },
  {
   "cell_type": "code",
   "execution_count": 8,
   "metadata": {},
   "outputs": [
    {
     "data": {
      "text/plain": [
       "id           int64\n",
       "keyword     object\n",
       "location    object\n",
       "text        object\n",
       "target       int64\n",
       "dtype: object"
      ]
     },
     "execution_count": 8,
     "metadata": {},
     "output_type": "execute_result"
    }
   ],
   "source": [
    "df.dtypes"
   ]
  },
  {
   "cell_type": "code",
   "execution_count": 9,
   "metadata": {},
   "outputs": [],
   "source": [
    "df['keyword'].fillna('None',inplace=True)"
   ]
  },
  {
   "cell_type": "code",
   "execution_count": 10,
   "metadata": {},
   "outputs": [],
   "source": [
    "df['location'].fillna('None',inplace=True)"
   ]
  },
  {
   "cell_type": "code",
   "execution_count": 11,
   "metadata": {},
   "outputs": [],
   "source": [
    "df['text'] = df['text'].astype(str) + df['location'] + df['keyword']"
   ]
  },
  {
   "cell_type": "code",
   "execution_count": 12,
   "metadata": {},
   "outputs": [
    {
     "data": {
      "text/plain": [
       "0    Our Deeds are the Reason of this #earthquake M...\n",
       "Name: text, dtype: object"
      ]
     },
     "execution_count": 12,
     "metadata": {},
     "output_type": "execute_result"
    }
   ],
   "source": [
    "df['text'][:1]"
   ]
  },
  {
   "cell_type": "code",
   "execution_count": 13,
   "metadata": {},
   "outputs": [
    {
     "data": {
      "text/plain": [
       "(7613, 5)"
      ]
     },
     "execution_count": 13,
     "metadata": {},
     "output_type": "execute_result"
    }
   ],
   "source": [
    "df.shape"
   ]
  },
  {
   "cell_type": "code",
   "execution_count": 14,
   "metadata": {},
   "outputs": [],
   "source": [
    "from sklearn.model_selection import train_test_split\n",
    "from sklearn.feature_extraction.text import CountVectorizer"
   ]
  },
  {
   "cell_type": "code",
   "execution_count": 15,
   "metadata": {},
   "outputs": [],
   "source": [
    "import re"
   ]
  },
  {
   "cell_type": "markdown",
   "metadata": {},
   "source": [
    "df['text'] = df['text'].map(lambda x: x.lower())"
   ]
  },
  {
   "cell_type": "code",
   "execution_count": 16,
   "metadata": {},
   "outputs": [],
   "source": [
    "df['text'] = df['text'].map(lambda x:re.sub(r\"http\\S+\", \"\", x))"
   ]
  },
  {
   "cell_type": "code",
   "execution_count": 17,
   "metadata": {},
   "outputs": [],
   "source": [
    "df['text'] = df['text'].map(lambda x:re.sub(r\"[0-9]\", \"\", x))"
   ]
  },
  {
   "cell_type": "code",
   "execution_count": 18,
   "metadata": {},
   "outputs": [
    {
     "data": {
      "text/plain": [
       "0       Our Deeds are the Reason of this #earthquake M...\n",
       "1          Forest fire near La Ronge Sask. CanadaNoneNone\n",
       "2       All residents asked to 'shelter in place' are ...\n",
       "3       , people receive #wildfires evacuation orders ...\n",
       "4       Just got sent this photo from Ruby #Alaska as ...\n",
       "                              ...                        \n",
       "7608    Two giant cranes holding a bridge collapse int...\n",
       "7609    @aria_ahrary @TheTawniest The out of control w...\n",
       "7610                  M. [: UTC]?km S of Volcano Hawaii. \n",
       "7611    Police investigating after an e-bike collided ...\n",
       "7612    The Latest: More Homes Razed by Northern Calif...\n",
       "Name: text, Length: 7613, dtype: object"
      ]
     },
     "execution_count": 18,
     "metadata": {},
     "output_type": "execute_result"
    }
   ],
   "source": [
    "df['text']"
   ]
  },
  {
   "cell_type": "markdown",
   "metadata": {},
   "source": [
    "# Lemmitize"
   ]
  },
  {
   "cell_type": "code",
   "execution_count": 154,
   "metadata": {},
   "outputs": [],
   "source": [
    "from nltk.stem import WordNetLemmatizer "
   ]
  },
  {
   "cell_type": "code",
   "execution_count": 155,
   "metadata": {},
   "outputs": [],
   "source": [
    "lemmatizer = WordNetLemmatizer() "
   ]
  },
  {
   "cell_type": "code",
   "execution_count": 162,
   "metadata": {},
   "outputs": [],
   "source": [
    "lem_x= lemmatizer.lemmatize(lem)"
   ]
  },
  {
   "cell_type": "code",
   "execution_count": 161,
   "metadata": {},
   "outputs": [],
   "source": [
    "lem = str(cv.get_feature_names())"
   ]
  },
  {
   "cell_type": "code",
   "execution_count": 163,
   "metadata": {},
   "outputs": [
    {
     "data": {
      "text/plain": [
       "\"['__', '__ohhmyjoshh', '_animaladvocate', '_ashj', '_charleyisqueen', '_dangdaddy', '_dangerousbeans', '_dc', '_dmerida', '_doofus_', '_edvinnn', '_freemarketeer', '_gaabyx', '_itsdanie_', '_itsmegss_', '_itzsteven', '_keits', '_minimehh', '_ohhsehuns', '_oliviaann_', '_one', '_reddevillife_', '_rosewell', '_stiiilo', '_wildfire__', 'a__cee', 'aa', 'aaaa', 'aaaaaand', 'aaarrrgghhh', 'aace_org', 'aamerica', 'aannnnd', 'aar', 'aashiqui', 'ab', 'aba', 'abablaze', 'abandon', 'abandoned', 'abandonedpics', 'abandoning', 'abbandoned', 'abbott', 'abbruchsimulator', 'abbswinston', 'abc', 'abcnews', 'abcnonebioterrorism', 'abcnorio', 'abdisaster', 'abe', 'abemergency', 'aberdeen', 'aberdeenshirefirst', 'abha', 'abhail', 'abhailstorm', 'abia', 'ability', 'ablaze', 'ablazenoneablaze', 'ablazephiladelphia', 'able', 'ableg', 'abninfvet', 'abomb', 'abomination', 'abortion', 'abortions', 'abouts', 'abq', 'abran_caballero', 'abs', 'absecon', 'absence', 'absolut_sumyaindiacollapse', 'absolute', 'absolutely', 'abstorm', 'abstormcalgary', 'abstormcochrane', 'abstormleduc', 'abstormnonehail', 'abstract', 'absurd', 'absurdly', 'abu_baraa', 'abuja', 'abujaablaze', 'abuse', 'abused', 'abuses', 'abusing', 'ac', 'academianonewounded', 'academy', 'academyscreams', 'acarewornheart', 'accept', 'accepte', 'accepts', 'access', 'accident', 'accidentally', 'accidentindonesiaairplane', 'accidents', 'accionempresa', 'accompanying', 'according', 'accordinglynoneobliterated', 'account', 'accountable', 'accra', 'accratyphoon', 'accuracy', 'accused', 'accuses', 'acdcd', 'acdelco', 'ace', 'acebabes', 'acebreakingnews', 'acesse', 'achedin', 'achieve', 'achievement', 'achieving', 'achimota', 'aching', 'acid', 'acmilan', 'acoustic', 'acquire', 'acquired', 'acquisitions', 'acquisitionsmadison', 'acres', 'acrylic', 'act', 'acted', 'actin', 'acting', 'action', 'actionheat', 'actionmoviestaughtus', 'actions', 'activate', 'activated', 'activates', 'active', 'actively', 'activist', 'activities', 'activity', 'actnoneharm', 'actor', 'actress', 'acts', 'actual', 'actually', 'actweapon', 'acute', 'ad', 'adam', 'adamantly', 'adamnibloe', 'adamrubinespn', 'adanne___', 'adaptation', 'add', 'added', 'addict', 'addiction', 'addicts', 'adding', 'addition', 'address', 'addtexastonextdtour', 'adeaths', 'adelaide', 'aderail', 'adidas', 'adjust', 'adjustable', 'adjusted', 'admin', 'administration', 'admit', 'admits', 'adopt', 'adoption', 'adorable', 'adrian_peel', 'adriasimon_', 'ads', 'adult', 'adultblackmale', 'adultnonedeaths', 'adults', 'adumbbb', 'advance', 'advanced', 'advances', 'advantages', 'adventist', 'adventurenatural', 'adventures', 'adverse', 'advertise', 'advice', 'advised', 'advisory', 'adweek', 'aeg', 'aelinrhee', 'aerospace', 'aesop', 'aesthetic', 'aesthijacking', 'aevacuate', 'af', 'afc', 'affair', 'affect', 'affected', 'affecting', 'affects', 'affiliation', 'affleck', 'affliction', 'afghan', 'afghanistan', 'afghetc', 'afloat', 'afp', 'afpnonebioterrorism', 'afraid', 'africa', 'africaablaze', 'africaburning', 'africacollided', 'africademolish', 'africaeyewitness', 'africahijacker', 'africainundated', 'african', 'africans', 'africanterrorist', 'africanuclear', 'africaquarantine', 'africaquarantined', 'africarubble', 'africastructural', 'africasuicide', 'africaupheaval', 'africawild', 'africawreckage', 'afrin', 'afte', 'afterhaiyan', 'afterlife', 'afterlifenonehellfire', 'aftermath', 'afternoon', 'aftershock', 'aftershock_delo', 'aftershock_orgnoneaftershock', 'aftershocknoneaftershock', 'aftershocks', 'afycso', 'ag_usanonedrown', 'againcalifornia', 'againnonecurfew', 'agalloch', 'agb', 'agdq', 'age', 'aged', 'agencies', 'agency', 'agents', 'ages', 'aggarwal', 'aggressif', 'aggressive', 'aggressively', 'aggressivemalaysiabloody', 'ago', 'agononebleeding', 'agontario', 'agony', 'agree', 'agreed', 'agreedbirmingham', 'agreements', 'agrees', 'agscreamed', 'aguero', 'agw', 'ah', 'ahead', 'ahh', 'ahhhh', 'ahhhhh', 'ahhtheenikki', 'aia', 'aid', 'aida_de', 'aidan', 'aids', 'aiginsurance', 'aiiamericangiri', 'aiii', 'aim', 'ain', 'aintsheperty', 'air', 'airasia', 'airbullet', 'aircraft', 'aires', 'airesblood', 'airescrashed', 'airhead', 'airhorns', 'airlift', 'airlines', 'airnonebombing', 'airplane', 'airplaneåê', 'airport', 'airportrefugees', 'airports', 'airstrikes', 'airwaves', 'aisle', 'aitchkaycee', 'aix', 'ajabrown', 'ajw', 'ak', 'aka', 'akarb', 'akcsl', 'akderailed', 'akemergency', 'akfatal', 'akgovbillwalker', 'akilah', 'akito', 'akram', 'akron', 'aks', 'akwa', 'akxbskdn', 'akxnoneemergency', 'al', 'alabama', 'alabamaburned', 'alabamaemergency', 'alabamaflooding', 'alabamaquake', 'aladdin', 'alam', 'alameda', 'alamexplode', 'alamodc', 'alanhahn', 'alarm', 'alarmed', 'alarming', 'alarmingly', 'alarms', 'alas', 'alaska', 'alaskan', 'alaskaseafood', 'alba', 'albany', 'alberta', 'albertablight', 'albertabomb', 'albertafatal', 'albertahailstorm', 'albertans', 'albertastorm', 'albertatwister', 'albuildings', 'album', 'albums', 'albuquerque', 'alchemist', 'alcohol', 'alcoholandmetal', 'alcoholism', 'aldridge', 'alec', 'alegre', 'alekalicante', 'alert', 'alerts', 'alex', 'alexalltimelow', 'alexandrapullin', 'alexandria', 'alexandrian', 'alexeivolkov', 'alexis', 'alexis_sanchez', 'alexjacobsonpfs', 'alextucker', 'alfapedia', 'alflooding', 'alhaji', 'alicante', 'alien', 'aliens', 'alifadithamedan', 'align', 'alipaper', 'alisonannyoung', 'alive', 'aliveafter', 'allah', 'allay', 'allday_cumshots', 'allegations', 'alleged', 'allegedly', 'allegiance', 'allergic', 'alley', 'alliance', 'allied', 'allies', 'allinwithchris', 'alllivesmatter', 'allnonenone', 'allocating', 'allow', 'allowed', 'allowing', 'allows', 'alloy', 'allthekidneybeansandsorbetmisha', 'allthenewsindiaattack', 'ally', 'alma', 'almass', 'almighty', 'aloil', 'alois', 'alonenonesuicide', 'alot', 'alpha', 'alps', 'alrasyiditurasya', 'alright', 'alrighty', 'alsobombed', 'alsosomewhere', 'alsowhat', 'alt', 'altamonte', 'alternative', 'alternatives', 'alto', 'alton', 'aluminum', 'alvarez', 'alvin', 'alvinnelson', 'alwsl', 'ama', 'amageddon', 'amalie', 'amarillooil', 'amateur', 'amateurnesterukblight', 'amazed', 'amazin', 'amazing', 'amazingall', 'amazingness', 'amazon', 'amazondeals', 'amazonthe', 'amber', 'ambleside', 'ambulance', 'ambulancenorth', 'ambulances', 'amc', 'amcx', 'ameenshaikh', 'amends', 'ameribag', 'america', 'americaarsonist', 'americaattacked', 'americafloods', 'american', 'americans', 'americarainstorm', 'americarioting', 'americas', 'americatragedy', 'americatyphoon', 'americaupheaval', 'ames', 'amesocialaction', 'amico', 'amicospizzato', 'amid', 'amiibos', 'amin_akh', 'aminespn', 'amirite', 'amiritelondon', 'amman', 'amnew', 'amotorry', 'amp', 'amreading', 'amritsar', 'amssummerraleigh', 'amsterdam', 'amsterdamambulance', 'amukpanicking', 'amumumux', 'amznfavorites', 'ana', 'anaheimablaze', 'anakin', 'analog', 'analysis', 'anarchic_teapot', 'anathemazhiv', 'anatomy', 'anchorage', 'ancient', 'anders', 'anderson', 'andnonesunk', 'andre', 'andrea', 'andrew', 'andy', 'andygilder', 'andåêchina', 'anellatulip', 'angel', 'angel_star', 'angeles', 'angelesblown', 'angelesderailment', 'angelesdisaster', 'angelesdrought', 'angelesfire', 'angeleshellfire', 'angelesinjury', 'angelesmass', 'angelesnatural', 'angelespandemonium', 'angelesriot', 'angelina', 'angelriveralib', 'angels', 'anger', 'angharadjames', 'angioplasty', 'angry', 'anhqdc', 'ani', 'animal', 'animallogic', 'animalrescue', 'animalrescuenonerescue', 'animals', 'anime', 'aniston', 'anjem', 'ankle', 'ankles', 'anna', 'annaciclismo', 'anne', 'annealiz', 'annihilated', 'annihilating', 'annihilation', 'annihilationrock', 'annihilationwild', 'anniversary', 'annonymous', 'announced', 'announcement', 'announces', 'annoyed', 'annoying', 'annual', 'anonchimp', 'anoneinundation', 'anonymousmass', 'anonymousnor', 'answer', 'answers', 'ant', 'antarcticamass', 'ante', 'anthology', 'anthonys', 'anthrax', 'anthxvy', 'anti', 'antichrist', 'antigua', 'antioch', 'antiochhickoryhollow', 'antioquiasmoke', 'antisscreamed', 'antonio', 'antoniooooo', 'antony', 'antpips', 'anu', 'anusawounded', 'anxiety', 'anxietyproblemssouth', 'anxious', 'anybody', 'anymore', 'anymoreazerothcatastrophe', 'anythingsheffield', 'anytime', 'anywayaustin', 'anyways', 'anywherefatalities', 'anywhereoutbreak', 'anza', 'anzio', 'aoms', 'ap', 'apano', 'apart', 'apartment', 'apartments', 'apazcrayford', 'apc', 'apch', 'apcåêpdp', 'apd', 'apga', 'aphiabeta', 'aphl', 'apiece', 'aplos', 'apocalpytic', 'apocalypse', 'apocalypsealbuquerqueapocalypse', 'apocalypsenoneapocalypse', 'apocalypsenoneevacuate', 'apocalyptic', 'apollo', 'apollobrown', 'apologies', 'apologise', 'apologized', 'app', 'appalling', 'apparent', 'apparently', 'appclick', 'appealsadelaideemergency', 'appears', 'appease', 'appetite', 'applaud', 'apple', 'applications', 'applied', 'applies', 'apply', 'appointment', 'appraisal', 'appreciate', 'appreciatednoneemergency', 'appreciativeinquiry', 'approach', 'approaches', 'approaching', 'appropriation', 'approval', 'approvalnonenuclear', 'approves', 'appx', 'apr', 'april', 'apropos', 'aptly_engineerd', 'apts', 'aqua', 'aquarium', 'aquecollide', 'ar', 'ara', 'arab', 'arabia', 'arabiacollapse', 'arabian', 'arabiasuicide', 'arabic', 'araulobliterate', 'arcade', 'arceen', 'archipelagowolves', 'architect', 'architects', 'architecture', 'arcollide', 'ardrowning', 'area', 'areaarsonist', 'areabioterror', 'areablown', 'areaburned', 'areacollapsed', 'areadesolate', 'areahostage', 'areaobliteration', 'arearescue', 'areas', 'aren', 'arena', 'arent', 'areva', 'argentaelite', 'argentina', 'argentinaapocalypse', 'argentinadestroyed', 'argentinaearthquake', 'argentinasinking', 'argentinawreck', 'argentinean', 'argh', 'argue', 'argues', 'argument', 'argus_', 'ari', 'aria_ahrary', 'ariabrisard', 'arian', 'ariana', 'arianagrande', 'arizona', 'arizonadot', 'arizonamassacre', 'arkan', 'arkansas', 'arkansasscreamed', 'arkansasthunderstorm', 'arlington', 'arm', 'armageddon', 'armageddonderry', 'armageddoneast', 'armageddonnonearmageddon', 'armed', 'armory', 'arms', 'armsattacked', 'armscasualty', 'army', 'arnhem', 'arnley', 'aro', 'arobotlegion', 'arounddeluge', 'arranged', 'arrechosdisaster', 'arrest', 'arrested', 'arrestpastornganga', 'arrests', 'arrive', 'arrived', 'arrives', 'arriving', 'arrogant', 'ars', 'arse', 'arsenal', 'arsenalsomewhere', 'arson', 'arsonist', 'arsonistmusic', 'arsonistnonearsonist', 'arsonists', 'arsonnorth', 'art', 'art_brut_', 'artbelgraderiot', 'artectura', 'article', 'articles', 'artificial', 'artillery', 'artist', 'artisteoftheweekfact', 'artistnonebleeding', 'artists', 'artistsunitedworldwidedanger', 'artrauma', 'artsidnbombed', 'artsnonewildfire', 'artwork', 'arvindkejriwal', 'arwxmidwesttornado', 'ary', 'asae', 'asap', 'asb', 'ascend', 'aseer', 'asf', 'ash', 'ashayo', 'ashburn', 'ashes', 'ashesashesjohannesburg', 'asheswe', 'asheville', 'ashland', 'ashley', 'ashrafiyah', 'ashville', 'ashxjonespr', 'asia', 'asiafire', 'asian', 'asiasurvived', 'asics', 'aside', 'asimtanvir', 'ask', 'askcharleydundalk', 'askconnor', 'asked', 'askforalaska', 'askhcz', 'askin', 'asking', 'askingdamage', 'asks', 'aslava', 'asleep', 'asotattacked', 'aspects', 'ass', 'assad', 'assailant', 'assassinkpg', 'assassins', 'assault', 'assembly', 'assertative', 'assessment', 'assessomewhere', 'assets', 'asshole', 'assholes', 'assistance', 'assistant', 'assisting', 'assnchatraleigh', 'associated', 'association', 'assume', 'assured', 'asterpuppet', 'astonishing', 'astrakhan', 'astrologian', 'astrology', 'astros', 'astroturfers', 'asukager', 'asylum', 'atamathon', 'atblew', 'ate', 'atheistic_', 'athens', 'athlete', 'athletics', 'atk', 'atl', 'atl_events', 'atlanta', 'atlantaarsonist', 'atlantadisaster', 'atlantic', 'atlanticbioterror', 'atlas', 'atleast', 'atmosphere', 'atmospheric', 'atmrzl', 'atnew', 'atom', 'atomic', 'atomicbomb', 'atornado', 'attached', 'attack', 'attacked', 'attackedanna', 'attackedtexas', 'attacking', 'attackonstiles', 'attackrowyso', 'attacks', 'attempt', 'attempted', 'attempting', 'attendance', 'attended', 'attending', 'attention', 'attic', 'attjcdemos', 'attraction', 'attractionplay', 'attractive', 'au', 'aubilenon', 'aubrey', 'auburn', 'auckland', 'aucklandemergency', 'aucklandmass', 'auction', 'auctions', 'audaciousspunknoneharm', 'audacityjamesta', 'audience', 'audiences', 'audinonewrecked', 'audio', 'audit', 'aug', 'aughris', 'august', 'augusta', 'aul', 'aunt', 'auntiedote', 'aurora', 'ausbloody', 'auspol', 'auspolstatute', 'aussie', 'aussies', 'aussiesindiariot', 'aussiesmumbairiot', 'aust', 'austell', 'austin', 'austinpearcy', 'austintornado', 'australia', 'australiaarsonist', 'australiabattle', 'australiabloody', 'australiabomb', 'australiabuildings', 'australiaburning', 'australiabush', 'australiachemical', 'australiacliff', 'australiacollapsed', 'australiacrash', 'australiacurfew', 'australiaevacuate', 'australiaevacuated', 'australiaevacuation', 'australiaexplode', 'australiaexploded', 'australiafatal', 'australiafire', 'australiaflood', 'australiafloods', 'australiaharm', 'australiahazard', 'australiahijacking', 'australiainundated', 'australiamass', 'australian', 'australianoneweapons', 'australians', 'australiarefugees', 'australiarioting', 'australiasnowstorm', 'australiatrouble', 'australiavolcano', 'australiawildfire', 'austrian', 'auth', 'authentic', 'authenticating', 'author', 'authorities', 'authorjohannesburg', 'authors', 'autismawarenessnonepanic', 'auto', 'autobiography', 'autoinsurance', 'automatic', 'autumn', 'autì_noma', 'auz', 'av', 'avalanche', 'avalancheguaravitasavalanche', 'avalanches', 'avasurvive', 'avbronstein', 'ave', 'aveiro', 'avenged', 'avengers', 'avenue', 'average', 'avert', 'averted', 'avi', 'aviation', 'aviationaddictstampa', 'avigdorliberman', 'avoid', 'avoided', 'avoiding', 'avoids', 'avon', 'avoninjured', 'avysss', 'aw', 'awaits', 'awake', 'awakenings', 'awards', 'aware', 'awareness', 'awarenessaustraliaaccident', 'awash', 'away', 'awayhailstorm', 'awaynew', 'awayruin', 'awesome', 'awesomebucks', 'awesomeeeeeeeebombardment', 'awesomelove', 'awesomesauce', 'awful', 'awickedassassin', 'awkward', 'awnonemudslide', 'awol', 'awwww', 'axcollapse', 'ay', 'ayekoradio', 'ayhhhhhdjjfjrjjrdjjeksunited', 'ayhoka_', 'ayshbanayshdrowned', 'ayshun_tornado', 'ayyyinfj', 'az', 'azannihilation', 'azbioterror', 'azbleeding', 'azcollision', 'azheat', 'azinjuries', 'azpolice', 'aztec', 'azure', 'azwildfire', 'azwounded', 'azwreck', 'azwx', 'aåêmiddle', 'baaaack', 'baan', 'babality', 'babe', 'babes', 'babies', 'babiesnonebuildings', 'babri', 'baby', 'babybackreeve', 'babycatastrophe', 'babyim', 'babysweet', 'background', 'backhere', 'backing', 'backlash', 'backnoneflooding', 'backpack', 'backs', 'backups', 'backwrecked', 'backyard', 'backyards', 'baconflames', 'bacteria', 'bad', 'badastronomer', 'badchoices', 'badge', 'badgermanyburned', 'badges', 'badkitty', 'badly', 'badmadisonville', 'badmanchester', 'badmassachusetts', 'badotweetnonedemolish', 'badu', 'bae', 'baekhyun', 'baffles', 'baffling', 'bag', 'baggage', 'bagged', 'bagging', 'baggreenville', 'baghdadterrorist', 'bago', 'bagononenone', 'bags', 'bagssouthwest', 'bah', 'bahrain', 'bail', 'bailed', 'baileysmsteach', 'bailiwick', 'bairstow', 'bait', 'baiting', 'bajrangi', 'bak', 'bake', 'baked', 'bakeofffriends', 'baker', 'bakersfield', 'baking', 'baku', 'bal', 'balance', 'balanced', 'balding', 'balearesthunder', 'bali', 'balikesir', 'ball', 'ballbahstun', 'ballew', 'baltimore', 'baltimorecollide', 'baltimoreinjury', 'balvaneradeluged', 'ban', 'banana', 'band', 'bands', 'bandungoutbreak', 'banerjee', 'bang', 'bangalore', 'bangaloreairplane', 'bangalorefatal', 'bangin', 'bangkokwreckage', 'bangladesh', 'bangladeshaffected', 'bangladeshfloodasiainundated', 'bangladshnuclear', 'bangor', 'bangtan', 'bank', 'banking', 'banks', 'bankstown', 'banned', 'bannisteraftershock', 'bannukesnairobi', 'banquet', 'bans', 'bantrophyhuntingnoneviolent', 'bapusuratsinghnonederail', 'bar', 'barack', 'barackobama', 'barak', 'baratariacasualties', 'baratstructural', 'barbados', 'barbadosablaze', 'barbadosflattened', 'barbadosviolent', 'barbaric', 'barber', 'barbi_twins', 'barcelona', 'barcousky', 'bard', 'bardissimo', 'bardo', 'bare', 'barely', 'barfield', 'bargain', 'barkevious', 'barking', 'barmudslide', 'barn', 'barnharm', 'barra', 'barracks', 'barrier', 'barring', 'barrington', 'barry', 'bars', 'bartender', 'barthubbuch', 'baruch', 'base', 'baseball', 'baseballquotes', 'based', 'based_georgie', 'baseman', 'basement', 'bash', 'bashes', 'bashing', 'basic', 'basically', 'basics', 'basildudin', 'basis', 'basisnonedestroyed', 'bask', 'basketballcyclone', 'baskgod', 'basking', 'bass', 'bastard', 'bastards', 'bat', 'batfanuk', 'bath', 'bathandnortheastsomerset', 'bathe', 'bathroom', 'bathroomnew', 'baths', 'bathtub', 'batista', 'baton', 'bats', 'battered', 'batteries', 'batters', 'battery', 'batting', 'battle', 'battle_dom', 'battlefield', 'battlerapchris', 'battleroyalemod', 'battles', 'battleship', 'battleships', 'battlewest', 'battling', 'bay', 'bayarea', 'baybuildings', 'baydestrianthunder', 'bayelsa', 'bayonets', 'bayonne', 'bb', 'bbc', 'bbcengland', 'bbclive', 'bbcnews', 'bbctalkback', 'bbctms', 'bbcwomanshour', 'bbloggers', 'bbmaking', 'bbnoneaftershock', 'bbnoneearthquake', 'bbsnews', 'bbsp', 'bc', 'bcbenedict', 'bccollide', 'bcdevastation', 'bcdisplaced', 'bcfire', 'bchs', 'bcim', 'bck', 'bclava', 'bcoil', 'bcpoli', 'bcuz', 'bcwindstorm', 'bcwreck', 'bday', 'bdisgustingchicagobloody', 'be_rams', 'beach', 'beachhurricane', 'beam', 'bean', 'bear', 'beard', 'bearer', 'beariasirens', 'bears', 'beast', 'beastin', 'beastly', 'beat', 'beatdown', 'beatdowndeluge', 'beating', 'beats', 'beatz', 'beaucedevastation', 'beauscoven', 'beautiful', 'beautiful_juic', 'beautifully', 'beautifulnonethunder', 'beaverton', 'becarefulharryecuadormassacre', 'becdestroyed', 'beck', 'beckoning', 'beconfident', 'becyme', 'bed', 'bedding', 'bedford', 'bednonepanicking', 'bedroom', 'bedrooms', 'bedroomshah', 'bedtrouble', 'bee', 'beelectrocute', 'beelievedc', 'beep', 'beer', 'bees', 'beet', 'beforeitsnews', 'beg', 'began', 'begforcum', 'begging', 'begin', 'beginners', 'beginning', 'beginnings', 'begins', 'begun', 'behalf', 'behavior', 'behaviors', 'behead', 'beheadings', 'behold', 'beige', 'beijing', 'beijingwhirlwind', 'beinart', 'beirut', 'beisbol', 'beit', 'bekah__w', 'bel', 'belbroughton', 'belfastruin', 'belgiumaftershock', 'belie', 'belief', 'beliefs', 'believe', 'believing', 'bell', 'bella', 'bellalinn', 'belle', 'bellerin', 'belleville', 'belligerent', 'bells', 'bellville', 'belly', 'bellyblight', 'belonged', 'belongs', 'belt', 'belter', 'beltway', 'beluga', 'ben', 'benaffleck', 'bend', 'beneath', 'benediction', 'benefits', 'bengal', 'bengalis', 'bengston', 'benitez', 'benjamin', 'benjbeckwith', 'benji_devos', 'benjm', 'benkin', 'bennycapriconlagospandemonium', 'benson', 'benstracy', 'bentossell', 'benzema', 'beplease', 'berahinononehazard', 'berhati', 'berlin', 'bernabeauburning', 'bernard', 'bernardino', 'berry', 'besafenonewindstorm', 'besieged', 'best', 'bestbrisbane', 'bestchinahijacking', 'bestchinahostages', 'bestchinaquarantined', 'bestchiyoda', 'bestcoastcliff', 'bestcubahostages', 'besteastcarolinahostages', 'bestfrancehijacking', 'bestia', 'bestival', 'bestjapanhijacking', 'bestjapanhostages', 'bestlas', 'bestmelbournequarantined', 'bestmongoliahijacking', 'bestnaijamade', 'bestnonehijacking', 'bestnonehostages', 'bestperth', 'bestromehijacking', 'bestrussiaquarantined', 'bestseller', 'bestsouth', 'besttennesseehostages', 'besttokyohijacking', 'bet', 'bethlehem', 'betrayed', 'bets', 'bett', 'better', 'betterhogwartsharm', 'betting', 'bettyfreedoms', 'betz', 'beware', 'bewhirlwind', 'bexrayandvav', 'beyhive', 'beyonce', 'beyondhurricane', 'beyondthebomb', 'bf', 'bfe', 'bfederal', 'bff', 'bfore', 'bfowler', 'bg', 'bgrego', 'bhaijaan', 'bhavana', 'bhp', 'bhramabull', 'bhusaarlington', 'bi', 'bi_video', 'bible', 'biblestudy', 'bicentennial', 'bicep', 'bickleton', 'bicycle', 'bicycles', 'bicyclist', 'bid', 'bieber', 'big', 'bigamist', 'bigburgerboi', 'biggangvh', 'biggar', 'bigger', 'biggest', 'biggie', 'bigperm', 'bigrigradio', 'bigsim', 'bigstar', 'bigåêconsequences', 'bike', 'biker', 'bikini', 'bilic', 'bilingual', 'bill_roose', 'billboard', 'billers', 'billings', 'billion', 'billionaire', 'billionaires', 'billiton', 'billmarylandupheaval', 'billmccabe', 'billneelynbc', 'bills', 'billy', 'billy_hodge', 'bilsen', 'bilsko', 'bin', 'bind', 'bing', 'binladen', 'bio', 'biolab', 'biological', 'biolos', 'bioter', 'bioterror', 'bioterrorism', 'bioterrorismi', 'bioterrorismnonebioterrorism', 'bioterrorismsan', 'bioutah', 'bird', 'birds', 'birmingham', 'birminghamablaze', 'birminghamdevastated', 'birminghamrescuers', 'birminghamruin', 'birth', 'birthday', 'bishopfredkaduna', 'bishops', 'bistro', 'bit', 'bitch', 'bitches', 'bitchlvecannon', 'bitcoin', 'bitcoing', 'bite', 'bites', 'biting', 'bits', 'bitters', 'biztip', 'biì', 'bj_nutt', 'bjfordianiupheaval', 'bjp', 'bk', 'bkn', 'blaaaaaaa', 'black', 'blackberry', 'blackburns', 'blacken', 'blacklivesmatter', 'blacklivesmatterhurricane', 'blacklivesmattermadison', 'blackparavde', 'blackpool', 'blacks', 'blairmcdougall', 'blaise', 'blake', 'blakeschmidt', 'blakeshelton', 'blam', 'blame', 'blamed', 'blames', 'blaming', 'bland', 'blank', 'blanket', 'blanketbloody', 'blanksocietyx', 'blast', 'blasted', 'blasting', 'blasts', 'blaze', 'blazer', 'blazes', 'blazing', 'blazing_ben', 'blazingswag', 'bldrcosheriff', 'bleachers', 'bleed', 'bleeding', 'bleedinginbleeding', 'bleedingnonebleeding', 'bleedingthe', 'blending', 'bless', 'blessed', 'blessedsisterhoodscreamed', 'blessings', 'blevins', 'blew', 'blight', 'blightkama', 'blightscotlandblight', 'blightybombed', 'blind', 'blink', 'blinked', 'blinker', 'bliss', 'blizzard', 'blizzard_draco', 'blizzardcs', 'blizzheroes', 'blk', 'blks', 'block', 'blockage', 'blockchainnonetsunami', 'blocked', 'blockedmooresville', 'blocking', 'blocks', 'blog', 'bloglandburning', 'bloke', 'blonde', 'blood', 'bloodbound', 'blooddime', 'blooded', 'bloodewa', 'bloodnoneblood', 'bloodthe', 'bloody', 'bloodymonday', 'bloodynashua', 'bloomberg', 'bloomfield', 'blossom', 'blow', 'blowers', 'blowing', 'blowjobs', 'blowltanhinton', 'blowmandyupnoneriot', 'blown', 'blowout', 'blows', 'blubber', 'blue', 'bluebell', 'bluebirddenver', 'bluedio', 'bluejays', 'bluejaysnonesunk', 'blueprint', 'blues', 'bluetooth', 'bluewestlo', 'blunt', 'bluntedjayt', 'blutz', 'blvd', 'bmurph', 'bmw', 'bn', 'board', 'boarding', 'boards', 'boasting', 'boat', 'bob', 'bobble', 'bobbyofhomewood', 'bobbyxfisher', 'bobcats', 'bodied', 'bodies', 'body', 'bodymibody', 'bodywestside', 'bodìü', 'boeing', 'boi', 'boironusa', 'boise', 'bokaro', 'boko', 'bokoharam', 'boksburgannihilated', 'bokuto', 'bolge', 'bolivar', 'bolshevik', 'bolster', 'bolstering', 'bolton', 'boltonstorm', 'boltåêcyclone', 'bomb', 'bombdorito', 'bombed', 'bombedmabombed', 'bombednonebombed', 'bomber', 'bombernonesuicide', 'bombers', 'bombing', 'bombings', 'bombingtoronto', 'bombs', 'bomd', 'bon', 'bona', 'bones', 'bonhomme', 'bonnegreer', 'bonnieg', 'bonsai', 'bonus', 'boobs', 'book', 'bookboostsouth', 'bookmarkstretcher', 'bookmobile', 'books', 'booktubeathon', 'boom', 'boomerangtime', 'boone', 'boost', 'boot', 'booth', 'booty', 'booze', 'bordento', 'border', 'bore', 'bored', 'borednonecasualty', 'borgeous', 'boring', 'born', 'boss', 'bossdon', 'bosslandriot', 'boston', 'bostonbridge', 'bostonflood', 'bostonmayhem', 'bot', 'botanical', 'bother', 'bothnonewrecked', 'botswanasunk', 'bottle', 'bottomdetonate', 'bottommass', 'bought', 'boulder', 'boulderdesolate', 'bounced', 'bound', 'boundaries', 'boundary', 'boundatlanta', 'bounds', 'bounty', 'bournemouth', 'bout', 'bouta', 'bouvet', 'bowe', 'bowery', 'bowhunting', 'bowknot', 'bowl', 'bowling', 'bows', 'box', 'boxed', 'boxer', 'boxing', 'boxinglas', 'boxrescue', 'boxset', 'boy', 'boyd', 'boyfriend', 'boyfriends', 'boyhaus', 'boylesports', 'boys', 'bozeman', 'bp', 'br', 'bracelet', 'brackley', 'bradford', 'bradley', 'bradleybrad', 'brady', 'brahmans', 'brain', 'brainless', 'brains', 'brakes', 'braking', 'brakingnonestructural', 'branch', 'brancoarson', 'brand', 'brandonskeie', 'brant', 'brasil', 'brasilcollide', 'brasilsurvivors', 'brass', 'brasswork', 'brave', 'bravery', 'braves', 'brazil', 'brazilablaze', 'brazilian', 'brazilscreaming', 'brazos', 'brbrs', 'brbsomewhere', 'bre_morrow', 'breachgamingorg', 'bread', 'breadcasualties', 'break', 'breakdancers', 'breakdown', 'breakfast', 'breakfastone', 'breaking', 'breakingnews', 'breakingnewslh', 'breakingnewsworldnuclear', 'breaks', 'breakth', 'breath', 'breathe', 'breathing', 'brecksville', 'bree_mars', 'breitbartnewslos', 'breivik', 'bremerton', 'brenas', 'brento_bento', 'brewing', 'brian', 'brianboru', 'brianroemmele', 'bribrionytwister', 'brick', 'bricks', 'bricksdrowning', 'brics', 'bridal', 'bride', 'bridge', 'bridgeportspeed', 'bridgetown', 'brief', 'briefcase', 'briefing', 'brigade', 'bright', 'brightly', 'brighton', 'brightonblazing', 'briliantly', 'brilliant', 'bring', 'bringing', 'brings', 'brinx', 'brisbane', 'brisbanedeluge', 'brisbaneevacuate', 'brisk', 'bristol', 'bristolablaze', 'bristolinundated', 'bristolmudslide', 'bristolpanicking', 'bristolsandstorm', 'britain', 'britanniquecollision', 'british', 'britishbakeoff', 'britney', 'britons', 'brits', 'brittanypetko', 'bro', 'broad', 'broadcast', 'broadcasting', 'broader', 'broadly', 'broadway', 'brobread', 'brock', 'broke', 'broken', 'brokenscnecal', 'bromleythe', 'bronville', 'bronwynbishop', 'bronx', 'brooke', 'brookesddl', 'brooklyn', 'brooklynburning', 'brooklynfire', 'brooklynheat', 'broomfield', 'brooo', 'bros', 'broseidonrex', 'brother', 'brothers', 'brought', 'broughtnonedisaster', 'brown', 'brownaftershock', 'browner', 'browns', 'browser', 'browsers', 'browsing', 'brrookkllyynnr', 'brucewillis', 'bruh', 'bruise', 'brum', 'brumdust', 'brunette', 'brunswick', 'brunswickinjuries', 'brunt', 'brush', 'brut', 'brutal', 'brutality', 'brutally', 'bruv', 'brzjcnoneupheaval', 'bs', 'bsf', 'bsg', 'bst', 'btown', 'bts', 'btslondonelectrocute', 'btw', 'btwn', 'bu', 'bubble', 'bubblycuteone', 'buchana', 'bucharestquarantine', 'buck', 'buckle', 'buckley', 'buckmasonusa', 'bucks', 'bucs', 'budapest', 'buddha', 'buddhas', 'buddy', 'buddys', 'buddzmedellì_n', 'budget', 'buena', 'buenos', 'buff', 'buffalo', 'buffer', 'buffering', 'buffet', 'buffoonmike', 'bug', 'bugs', 'build', 'building', 'buildingdemolish', 'buildings', 'buildingsmidwestburning', 'builds', 'buildup', 'built', 'bukidnon', 'bukittinggi', 'bulgarian', 'bulgariasurvived', 'bull', 'bullet', 'bulletin', 'bulletproof', 'bullets', 'bulls', 'bullseye', 'bullshit', 'bully', 'bummer', 'bump', 'bumper', 'bumpin', 'bunch', 'bundle', 'bungie', 'bunker', 'burbank', 'buren', 'burford', 'burger', 'burglary', 'buried', 'burn', 'burnaby', 'burned', 'burnederie', 'burnednoneburned', 'burner', 'burning', 'burningnoneburning', 'burns', 'burnt', 'buroker', 'burrowmudslide', 'burst', 'burton', 'burundi', 'bury', 'bus', 'buscame', 'buses', 'busey', 'bush', 'bushman', 'business', 'businesschicago', 'businesses', 'businesseverywheremeltdown', 'businessman', 'businessmen', 'businessnoneobliteration', 'businessstorm', 'businesswarsawnuclear', 'busting', 'bustlas', 'busty', 'busy', 'butch', 'buted', 'butt', 'butted', 'butter', 'butterfinger', 'butterlondon', 'button', 'buxton', 'buy', 'buying', 'buyout', 'bwin', 'bwreck', 'byebyesoundclouddublin', 'byityf', 'bynoneemergency', 'bypass', 'byproduct', 'byr', 'bytorrecilla', 'byuwnbeki', 'ca', 'caablaze', 'caaccident', 'caaftershock', 'caairplane', 'caarmy', 'caarson', 'caattacked', 'cab', 'cabattle', 'cabbage', 'cabin', 'cabins', 'cabioterrorism', 'cable', 'cables', 'cabody', 'cabrillo', 'caburned', 'caburning', 'cacatastrophe', 'cacatastrophic', 'cacheadvance', 'cachet', 'cack', 'cackling', 'cacollapse', 'cacollision', 'cacrash', 'cad', 'cadeluge', 'cadeluged', 'cademolish', 'cademolition', 'cadenadeseguidores', 'caderail', 'cadestroy', 'cadetonate', 'cadrought', 'cadrowned', 'caelectrocute', 'caelectrocuted', 'caemergency', 'caesar', 'caesars', 'caexploded', 'cafatal', 'cafe', 'cafetiere', 'cafire', 'cafirenonewildfire', 'cafirst', 'caforest', 'cafì', 'cage', 'cahail', 'caharm', 'cahazard', 'cahijacker', 'cahijacking', 'cahostage', 'cai', 'cain', 'cainjured', 'cainjury', 'cainundated', 'cairo', 'caitlin', 'caitsroberts', 'caixxumsos', 'cake', 'cakes', 'cakeslondon', 'cal', 'calabria', 'calamities', 'calamity', 'calava', 'calfreedommom', 'calgarians', 'calgary', 'calgaryemergency', 'calgaryfringe', 'calgaryhail', 'calgaryhailstorm', 'calhoun', 'cali', 'calif', 'california', 'californiaarsonist', 'californiacasualty', 'californiacollapse', 'californiacollision', 'californiadanger', 'californiaderailment', 'californiadestroy', 'californiadisaster', 'californiafatal', 'californiaharm', 'californiahijacker', 'californiainjuries', 'californiainjury', 'californian', 'californianuclear', 'californiaoil', 'californiaquarantined', 'californiarescued', 'californiasunk', 'californiatrouble', 'californiawar', 'californiaweapons', 'californiawildfire', 'californiawreckage', 'called', 'calling', 'calls', 'calm', 'calmly', 'calmnonepanicking', 'calorie', 'calories', 'calstorm', 'calumchambers', 'calumet', 'calumsos', 'calwildfires', 'calzone', 'cam', 'camass', 'camberwell', 'cambodiasurvivors', 'cambridge', 'cambridgeshireweapons', 'camden', 'came', 'camekhartoum', 'cameo', 'camera', 'cameron_wate', 'cameronciletti', 'cameronhacker', 'cameronhigdon', 'cameroon', 'cameroonnonerefugees', 'camilla_', 'camp', 'campaign', 'campdallas', 'camped', 'camper', 'campers', 'camping', 'camplos', 'camps', 'campsitehazard', 'campus', 'canaanites', 'canada', 'canadaaftershock', 'canadaairplane', 'canadaambulance', 'canadablew', 'canadablizzard', 'canadaburned', 'canadacasualty', 'canadacollision', 'canadadebris', 'canadadeluge', 'canadademolished', 'canadadetonate', 'canadadisplaced', 'canadadrought', 'canadaemergency', 'canadaeyewitness', 'canadafatalities', 'canadafire', 'canadafirst', 'canadaforest', 'canadahailstorm', 'canadahazardous', 'canadamassacre', 'canadameltdown', 'canadamilitary', 'canadanatural', 'canadanonenone', 'canadaoil', 'canadaoutbreak', 'canadapanic', 'canadarescued', 'canadarubble', 'canadascreams', 'canadasirens', 'canadasmoke', 'canadastretcher', 'canadastructural', 'canadasuicide', 'canadaterrorist', 'canadathunderstorm', 'canadatornado', 'canadatyphoon', 'canadaweapon', 'canadawild', 'canadawildfire', 'canadawounded', 'canadawrecked', 'canadian', 'canagal', 'canal', 'canberra', 'canberrablood', 'cancel', 'cancelled', 'cancels', 'cancer', 'candle', 'candy', 'candylit', 'cannabis', 'cannibalism', 'cannoli', 'canoe', 'canonbringit', 'canontattoo', 'canonusaimaging', 'canpoli', 'cans', 'cantar', 'cantwaittoplayinminneapolisnonewhirlwind', 'canuck', 'canvas', 'canyon', 'caoil', 'caoutbreak', 'cap', 'capacity', 'cape', 'capeann', 'capicapricapri', 'capital', 'capitalism', 'capoeira', 'caps', 'capsized', 'capsizes', 'captain', 'captainn_morgan', 'caption', 'captives', 'captivity', 'capture', 'captured', 'captures', 'captureyyc', 'capturing', 'caquarantine', 'car', 'cara', 'caraccidentlawyer', 'carainstorm', 'carajdeievingnc', 'caravans', 'carb', 'card', 'cardiff', 'cards', 'care', 'cared', 'careemergencies', 'careen', 'career', 'careers', 'careful', 'carefully', 'carenashville', 'carful', 'cargo', 'carhot', 'caribbean', 'caring', 'cariot', 'carioting', 'carlachamorros', 'carlilescanoelivery', 'carlos', 'carlsbadbugkil', 'carmel', 'carmen', 'carmi', 'carneross', 'carol', 'carolina', 'carolinaablaze', 'carolinaaccident', 'carolinacatastrophic', 'carolinaelectrocuted', 'carolinagutierr', 'carolinalightning', 'carolinascreamed', 'carolinathunderstorm', 'carolinawounds', 'carolinaåêablaze', 'carpooling', 'carr', 'carriage', 'carried', 'carry', 'carryi', 'carrying', 'cars', 'carsonrex', 'cart', 'carted', 'cartel', 'cartoon', 'cartoony', 'cartridges', 'caruin', 'cas', 'casa', 'cascada', 'cascade', 'cascadiainundation', 'cascreamed', 'case', 'caseismic', 'caserta', 'cases', 'casewrites', 'cash', 'casing', 'casinkhole', 'casinking', 'casino', 'casirens', 'casper', 'casper_rmg', 'caspermidwestevacuated', 'cast', 'castello', 'castillofatality', 'casting', 'castle', 'castorm', 'castructural', 'casual', 'casually', 'casualties', 'casualty', 'casualtynonecasualty', 'cat', 'cataclysmic', 'catalogue', 'catalonia', 'catastrophe', 'catastrophenew', 'catastrophenonecatastrophe', 'catastrophic', 'catastrophicnonecatastrophic', 'catch', 'catcher', 'catches', 'catching', 'catechize', 'categories', 'catharines', 'cathunder', 'catlow', 'catragedy', 'catrouble', 'cats', 'catskillsdamage', 'catsofinstagram', 'catwalk', 'caught', 'causation', 'cause', 'caused', 'causes', 'causing', 'caution', 'cave', 'caves', 'cavite', 'caweapon', 'cawindstorm', 'cawrecked', 'cawx', 'cbc', 'cbccalgary', 'cblown', 'cbplawyersworld', 'cbs', 'cbsbigbrother', 'cbsdenvercoloradodetonate', 'cch', 'ccmusicnonecrushed', 'ccnonequarantine', 'ccot', 'ccscreamed', 'cd', 'cdc', 'cdcgovsearching', 'cdcgovwashington', 'cdcharris', 'cdnpolionline', 'cdt', 'cdunder', 'ce', 'cecanf', 'cecil', 'cecilthelion', 'cedargladetrumann', 'cee', 'celebration', 'celebrations', 'cell', 'celtic', 'cement', 'cena', 'censor', 'censorship', 'center', 'centers', 'centipede', 'central', 'centralizedhockey', 'centralscreaming', 'centre', 'centurion', 'ceo', 'cereal', 'cerography', 'certain', 'certainly', 'certificate', 'certificates', 'certified', 'cervelli', 'cessna', 'cfcleicesterflattened', 'cgg', 'cgi', 'ch', 'chaboyyhd', 'chain', 'chair', 'chairman', 'chairs', 'chakraviolent', 'chalked', 'challenge', 'challenged', 'challenges', 'challenging', 'chamber', 'chambered_blood', 'chamblee', 'champagne', 'champaign', 'champions', 'championsblackfoot', 'championship', 'championships', 'chan', 'chance', 'chances', 'chandanee', 'chandrababu', 'change', 'changebig', 'changeca', 'changechandler', 'changecoolidge', 'changed', 'changefortheworsenonedemolition', 'changenoneannihilation', 'changepilipinascavite', 'changes', 'changetacoma', 'changing', 'chaning', 'channel', 'channels', 'channelstv', 'channnonesnowstorm', 'chaos', 'chaosmagician', 'chapel', 'chapoutier', 'chappaqua', 'chapter', 'character', 'characters', 'charge', 'charged', 'charger', 'chargers', 'charges', 'charging', 'chargingnoneelectrocute', 'charity', 'charles', 'charlesadler', 'charlesdagnall', 'charleston', 'charlie', 'charlieputh', 'charlize', 'charlotte', 'charmednoneblown', 'charmeuse', 'charminar', 'charon', 'charred', 'charstevens', 'chart', 'charter', 'chartreuse', 'charts', 'chase', 'chaselabsports', 'chaser', 'chases', 'chat', 'chattanooga', 'chawalchorbjp', 'chaziforniatrapped', 'cheap', 'cheat', 'cheatedbrentwood', 'check', 'checked', 'checking', 'checkout', 'checks', 'cheeks', 'cheer', 'cheese', 'cheeseddrown', 'chefs', 'chelsea', 'chelsea_dogs', 'chem', 'chemical', 'chemicals', 'chennaiterrorist', 'cher', 'chernobyl', 'cherokee', 'cherry', 'chest', 'chester', 'chestertweetsukchesterupheaval', 'chevrolet', 'chevy', 'chevyhurricane', 'chewing', 'cheyennerocky', 'cheyennewestweapons', 'chiang', 'chiasson', 'chibi', 'chicago', 'chicagoarson', 'chicagoderailment', 'chicagodrowning', 'chicagoflattened', 'chicagohostage', 'chicagoscannerchicago', 'chicagowhirlwind', 'chick', 'chicken', 'chief', 'chief__cg', 'chieftain', 'chikislizeth', 'child', 'childcare', 'childfund', 'childhood', 'childhooddefinednonerescuers', 'childish', 'children', 'childress', 'childsexabuse', 'childsindriaapocalypse', 'chile', 'chiledesolation', 'chilenonetrapped', 'chileoutbreak', 'chill', 'chilli', 'chillimik', 'chillin', 'chilling', 'china', 'chinadotcom', 'chinainjury', 'chinaquarantined', 'chinawreckage', 'chinese', 'chip', 'chippenham', 'chipper', 'chippewa', 'chips', 'chitral', 'chloe_bellxcollapsed', 'chloeunguyen', 'chocolate', 'choctaw', 'choice', 'choices', 'chojo', 'choked', 'choking', 'chonce', 'choose', 'choosegod', 'choppas', 'chopped', 'choppergate', 'chopping', 'chopra', 'chords', 'chorley', 'chose', 'chosen', 'choudary', 'chowtaxis', 'chp', 'chpsre', 'chris', 'chriscesq', 'chrisdanielshow', 'chrisman', 'chrisroth', 'chrissie', 'christ', 'christi', 'christian', 'christiana', 'christians', 'christie', 'christielinford', 'christinalavv', 'christinartnd', 'christioil', 'christmas', 'christycroley', 'chrlyc', 'chromsucks', 'chronicillness', 'chronicle', 'chrysler', 'chubbysquirrel_', 'chubychux', 'chuck', 'chucker', 'chuckswindoll', 'chucktown', 'chunks', 'church', 'churches', 'churkin', 'churubusco', 'cia', 'ciaramckendry', 'cigarette', 'cigarknub', 'ciggs', 'cigs', 'cilla', 'cimerak', 'cindy', 'cindynoonan', 'cinema', 'cipinang', 'circle', 'circuit', 'circular', 'circus', 'cis', 'cislady', 'cites', 'cities', 'citing', 'citizen', 'citizenrainstorm', 'citizens', 'city', 'cityablaze', 'citybioterrorism', 'cityblaze', 'citybody', 'citycollapse', 'citycollapsed', 'citycollided', 'citydestroy', 'citydestruction', 'citydetonate', 'cityemergency', 'cityfirst', 'cityhail', 'cityharm', 'cityhostage', 'citylink', 'cityobliterate', 'cityofcalgary', 'cityofhummus', 'cityofkamloops', 'cityofmemphis', 'cityporn', 'citystretcher', 'citysurvived', 'citythunderstorm', 'citytrapped', 'citytrouble', 'citytwister', 'ciudad', 'civil', 'civilian', 'civilians', 'civilization', 'cjoyner', 'ckec', 'cladding', 'claiborne', 'claim', 'claimed', 'claimin', 'claims', 'claire', 'clap', 'clapping', 'clara', 'clash', 'class', 'classic', 'classycolkett', 'clawing', 'claytonbryant', 'cld', 'cle', 'clean', 'cleanup', 'clear', 'cleared', 'clearly', 'clears', 'cleav', 'cleavage', 'clegg', 'clelightning', 'clelli', 'cleric', 'clerical', 'clev', 'cleveland', 'clever', 'cleverbotnonedrowned', 'clicca', 'click', 'clicks', 'clico', 'client', 'clients', 'cliff', 'cliffcolchester', 'cliffnorwaycliff', 'cliffny', 'cliffs', 'climate', 'climatechange', 'climb', 'climbed', 'clinical', 'clinton', 'clip', 'clips', 'cllrraymogford', 'clnv_', 'clock', 'clogs', 'close', 'closed', 'closely', 'closenifchazard', 'closes', 'closest', 'closet', 'closing', 'closure', 'closures', 'closuresnoneradiation', 'clothes', 'clothesless', 'clothing', 'clots', 'cloud', 'cloudblown', 'cloudparadise', 'clouds', 'cloudseismic', 'cloudy', 'cloudy_goldrush', 'clown', 'clowns', 'cloydrivers', 'club', 'clubarmageddon', 'clubbangermy', 'clubderail', 'clubmass', 'clue', 'clueless', 'clutch', 'clyde', 'cm', 'cmcsa', 'cmon', 'cnbc', 'cnbcnonewrecked', 'cncpts', 'cndpoli', 'cnewslive', 'cnewspratt', 'cnewsthe', 'cnmifire', 'cnn', 'cnni', 'cnv', 'coach', 'coach_keith', 'coaches', 'coahuila', 'coalition', 'coast', 'coastal', 'coastarmageddon', 'coastcoastdjs', 'coaster', 'coastevacuated', 'coastguard', 'coastthunderstorm', 'coat', 'coated', 'coates', 'coats', 'coavalanche', 'cobblestoneblown', 'cobra', 'cocaine', 'cochrane', 'cock', 'cocker', 'cockpit', 'cocktail', 'cocky', 'cocoa', 'cocollided', 'cocollision', 'cod', 'codawscrims', 'code', 'codemew', 'codesolate', 'codetonate', 'codforest', 'codsandscrims', 'codycarnes', 'codythompson', 'coerced', 'coffee', 'coffeeshopemergency', 'coffeeshopfire', 'coffins', 'cognitive', 'cogxbox', 'coiffed', 'coil', 'coils', 'coincide', 'cokesan', 'col', 'cold', 'colder', 'coldmpress', 'cole', 'colin', 'colinhoffman', 'collaborating', 'collapse', 'collapsed', 'collapsedi', 'collapsenigeriabridge', 'collapses', 'collateral', 'collectibles', 'collection', 'collective', 'colleenmnelson', 'college', 'collegecurfew', 'collegeradi', 'collide', 'collided', 'collideespì_rito', 'collideviejocollide', 'collie', 'collins', 'collision', 'collisions', 'colluded', 'colnharun', 'coloiccarnality', 'colombialava', 'colombian', 'colombie', 'colombo', 'colonel', 'colonial', 'colonobliterated', 'color', 'colorado', 'coloradoambulance', 'coloradoapocalypse', 'coloradoavalanche', 'coloradoblizzard', 'coloradobuildings', 'coloradocollision', 'coloradodestruction', 'coloradoevacuated', 'coloradohellfire', 'coloradoinjuries', 'coloradomayhem', 'coloradorescue', 'coloradotsunami', 'coloradovolcano', 'colorectal', 'colored', 'colorlines', 'colour', 'columbia', 'columbiaburning', 'columbiacollapsed', 'columbiadevastation', 'columbiahostage', 'columbiarainstorm', 'columbiasinking', 'columbus', 'columbusdevastation', 'column', 'com', 'coma', 'combat', 'combined', 'combining', 'combo', 'combust', 'comdeluge', 'comdestroyed', 'comdev', 'comdevastation', 'comdrought', 'come', 'comecereal', 'comedy', 'comeeeee', 'comes', 'cometh', 'comfortable', 'comhostages', 'comic', 'comics', 'comin', 'coming', 'comingsoon', 'comingsoonbirmingham', 'commence', 'commencement', 'commences', 'comment', 'commenters', 'commentes', 'commenting', 'comments', 'commerce', 'commercial', 'commercials', 'commit', 'commiting', 'commitment', 'committed', 'committee', 'committing', 'commoditiesåêare', 'commodity', 'common', 'commons', 'commonwealth', 'communication', 'communities', 'community', 'commute', 'commuters', 'comp', 'companies', 'companionship', 'company', 'comparing', 'comparison', 'compelling', 'compensate', 'compete', 'competitive', 'competitor', 'complaint', 'complaints', 'complete', 'completed', 'completely', 'complex', 'compliance', 'compliant', 'compound', 'comprehensive', 'comptonhellfire', 'compulsory', 'computer', 'computers', 'comsmoke', 'comsuicide', 'comtyphoon', 'comunidad', 'conatural', 'concentration', 'concept', 'concern', 'concerned', 'concerns', 'concert', 'concertcharlotte', 'concluded', 'concludednonesiren', 'conclusions', 'conclusively', 'concrete', 'concussion', 'condemn', 'condenses', 'condition', 'conditions', 'conditionsprivation', 'condolence', 'condos', 'conf', 'confederate', 'conference', 'confesses', 'confidential', 'confirm', 'confirmation', 'confirmed', 'confirms', 'conflict', 'conflicts', 'conflictstockton', 'congestion', 'congratulations', 'congress', 'connecticut', 'connecticutcyclone', 'connecticutdamage', 'connecticutruin', 'connecticutwild', 'connection', 'connections', 'connector', 'connects', 'connorfranta', 'conquest', 'conroe', 'consent', 'consequence', 'conservation', 'conservative', 'consider', 'considering', 'conspiracy', 'constant', 'constantly', 'constellation', 'constitutional', 'construct', 'construction', 'consultative', 'consumerist', 'consumes', 'cont', 'contac', 'contact', 'contactenergy', 'contacts', 'contactsimplenews', 'contain', 'contained', 'containerstretcher', 'contemplating', 'contemplation', 'contemporary', 'content', 'contentnonehostage', 'contest', 'context', 'contig', 'continent', 'continually', 'continue', 'continued', 'continues', 'contoocook', 'contra', 'contractor', 'contrast', 'contribute', 'contributing', 'contributions', 'contributor', 'contries', 'control', 'controlbhopal', 'controlled', 'controller', 'controllers', 'conuclear', 'convene', 'conversation', 'conversations', 'conversationsdistrict', 'conversing', 'convertible', 'convinced', 'convincing', 'convivted', 'cook', 'cooking', 'cool', 'cooler', 'coolgeorgia', 'cooling', 'coolnonestorm', 'coolperuinjury', 'cooper', 'cooperation', 'cooperstown', 'cop', 'copa', 'copalibertadores', 'cope', 'copenhagen', 'copied', 'copies', 'coping', 'coppednews', 'coppedtrackside', 'copperfields', 'cops', 'copycat', 'copycats', 'copycatsmuntinlupa', 'coquitlam', 'coral', 'corals', 'cord', 'cordnoneelectrocuted', 'core', 'corey', 'corii', 'cork', 'corleonedaboss', 'corn', 'corner', 'corners', 'cornfieldsbuildings', 'cornwallfloods', 'coronawhirlwind', 'coronet', 'corp', 'corpse', 'corpus', 'correct', 'correction', 'correlation', 'correspondent', 'corruption', 'corsicanaflames', 'cos', 'cosima', 'cosirens', 'cosme', 'cosponsor', 'cossack', 'cost', 'costa', 'costing', 'costlier', 'costly', 'costs', 'cote', 'cottage', 'cotton', 'cottonwood', 'couches', 'cougars', 'coulda', 'couldn', 'coun', 'council', 'counselor', 'counselors', 'count', 'counter', 'countermoonbat', 'counterstrike', 'countless', 'countries', 'country', 'countryderailed', 'county', 'countyfire', 'countyforest', 'countynewseldoret', 'countywrecked', 'couple', 'couples', 'courage', 'courageous', 'course', 'coursing', 'court', 'courtney', 'courts', 'cousin', 'covebombing', 'coventry', 'coventryengulfed', 'cover', 'covercrato', 'covered', 'covering', 'covers', 'cow', 'cowardly', 'cowboys', 'cowgirl', 'cowgirllawyer', 'coworker', 'cows', 'coya', 'coyijersey', 'coyotes', 'cozmo', 'cpanel', 'cpr', 'cpt', 'cr', 'crabbycale', 'crack', 'crackdown', 'crackedgem', 'cracker', 'crackin', 'cracks', 'craig', 'cramer', 'cramming', 'cranboonitz', 'crane', 'cranes', 'crap', 'crash', 'crash_______', 'crashed', 'crashes', 'crashing', 'crashislamabadcrashed', 'crashsterling', 'crater', 'craving', 'craykain', 'crayons', 'crazy', 'crazydoctorlady', 'crazyideascollege', 'crazyindapeg', 'crazylondonbush', 'crazyweather', 'cream', 'creamcolumbus', 'creamfields', 'create', 'created', 'creating', 'creationmin', 'creationsbykole', 'creative', 'creativity', 'creatures', 'credentials', 'credit', 'credited', 'credits', 'cree', 'creek', 'creel', 'creeper', 'creepiest', 'crematoria', 'crept', 'crest', 'crew', 'crews', 'cricketnonebridge', 'cried', 'cries', 'crime', 'crimes', 'criminals', 'crimsonfuckingv', 'cringes', 'crippling', 'criscyborg', 'crisis', 'cristiano', 'critical', 'critically', 'criticalmedianonecasualties', 'critters', 'crnonecyclone', 'croat', 'croatian', 'crockery', 'crocodile', 'crooks', 'crosed', 'cross', 'crossed', 'crosses', 'crossfit', 'crossing', 'crowd', 'crowdtappers', 'crown', 'crowned', 'crowns', 'crozes', 'crptotech', 'crqck', 'crucial', 'crude', 'cruise', 'crumbling', 'crunchy', 'crusade', 'crush', 'crushed', 'crushes', 'crushing', 'crusty', 'cruz', 'crying', 'cryptic', 'crystal', 'crystal_blaz', 'crystals', 'cs', 'csaresu', 'csdesde', 'csismicanonevolcano', 'cspanwj', 'cst', 'cstsmith', 'csx', 'ct', 'cta', 'ctafails', 'ctaztrophe', 'ctbuildings', 'ctd', 'cte', 'ctevacuate', 'cth', 'ctnuclear', 'ctobliterated', 'ctr', 'cty', 'cuban', 'cubstalkchicago', 'cucumber', 'cuddlesforjen', 'cuddling', 'cue', 'cuffed', 'cuffs', 'cuh', 'cultivating', 'cultsierre', 'cultural', 'cum', 'cumcovered', 'cummerbund', 'cumming', 'cumslut_', 'cumtown', 'cunayyh', 'cuntnoneblight', 'cunts', 'cup', 'cupcake', 'cupnoneblew', 'cups', 'curb', 'curdabuildings', 'cure', 'curfew', 'curfewankara', 'curfewnonecurfew', 'curfewsomewhere', 'curfewugandacurfew', 'curing', 'curiosity', 'curls', 'currency', 'currensy', 'current', 'currently', 'curse', 'curtaincollapse', 'curved', 'cus', 'custer', 'custom', 'customer', 'customers', 'customs', 'cut', 'cute', 'cutekitten', 'cuties', 'cuts', 'cuttack', 'cutter', 'cuyahoga', 'cuz', 'cvinch_waow', 'cw', 'cw_hoops', 'cyainstagram', 'cyber', 'cyberdemon', 'cybersecurity', 'cycle', 'cycling', 'cyclist', 'cyclists', 'cyclone', 'cyclone_reizei', 'cycloneunited', 'cydia', 'cydiaepicentre', 'cyhi', 'cyhitheprynce', 'cymru', 'cypress', 'cyprus', 'cyprusdeath', 'czallstarwes', 'd_lac', 'da', 'dabbed', 'daborsch', 'dacherryontop', 'dad', 'daddy', 'daem', 'daesh', 'daewony', 'dagenham', 'dagens', 'dagestan', 'daily', 'dailykosus', 'dailyliberalnew', 'dak', 'dakarsandstorm', 'dakota', 'dakotahail', 'dakotanuclear', 'dakounty', 'dal', 'dalailama', 'dalinthanelan', 'dallas', 'dallascowboys', 'dallasoil', 'dalroy', 'dalston', 'dam', 'damage', 'damaged', 'damagenonedamage', 'damages', 'damaging', 'damatu', 'damaturu', 'dambisa', 'dame', 'damidnighter', 'damiengayle', 'damn', 'damnaarielle', 'damnnnn', 'damp', 'dampen', 'damsels', 'dan', 'danagould', 'danbury', 'dance', 'dancefloor', 'dancer', 'dancers', 'dances', 'dancing', 'danemillar', 'danger', 'dangerinstagram', 'dangerlincoln', 'dangerous', 'dangling', 'danharmon', 'dani', 'dani_riot', 'daniel', 'danielkemp', 'danielle', 'daniels', 'daniglasgow', 'danisnotonfire', 'danny', 'dannyjohnjules', 'dannyoneil', 'dannyonpc', 'dannyraynard', 'dante', 'danville', 'daorcey', 'dappar', 'dapurplesharpie', 'darchambau', 'dare', 'dark', 'darkest', 'darkhorsecomics', 'darkndtatted', 'darkness', 'darknessnonefire', 'darkobliterated', 'darkreading', 'darrellissa', 'darsena', 'dart', 'darude', 'daruka', 'dat', 'data', 'date', 'dating', 'dattomm', 'daubt', 'daughter', 'daughterofnai', 'daughters', 'daughtery', 'dauntedpsyche', 'davao', 'dave', 'david', 'david_cameron', 'david_hurn', 'davidcovucci', 'davidduchovny', 'davidfernandez', 'davidjordan', 'davidson', 'davidvitter', 'davidvonderhaar', 'davis', 'daviskawalya', 'davison', 'dawabsha', 'dawgs', 'day', 'daynonedrown', 'daynonemassacre', 'daynonequarantined', 'days', 'dayton', 'dc', 'dcarsonist', 'dcbombing', 'dccc', 'dcclotheslinerepublic', 'dccomics', 'dccyclone', 'dcdeath', 'dcdemolition', 'dcderail', 'dcderailed', 'dcdevastation', 'dceyewitness', 'dcfatalities', 'dcfd', 'dcmeltdown', 'dcnuclear', 'dcradiation', 'dctrouble', 'dctsunami', 'dctyphoon', 'ddnewslive', 'ddnt', 'ddos', 'deactivate', 'dead', 'dead_dreamer', 'deadatmospheredead', 'deadend', 'deadgirltalking', 'deadliest', 'deadly', 'deadlydemi', 'deadnonedead', 'deadpool', 'deafening', 'deal', 'dealer', 'dealing', 'dealings', 'dealnoneevacuate', 'dealnoneterrorism', 'deals', 'deals_uk', 'dear', 'dears', 'death', 'deathcanadafloods', 'deathedinburghelectrocuted', 'deathmule', 'deathnonedeath', 'deathrogersville', 'deaths', 'deathusa', 'deb', 'debacle', 'debate', 'debatequestionswewanttohear', 'debates', 'debbie', 'debioterror', 'debris', 'debt', 'dec', 'decades', 'decals', 'decatur', 'decayed', 'deccgovuk', 'december', 'decent', 'decide', 'decided', 'decides', 'decision', 'decisions', 'decisionsondecisionsnoneblood', 'deck', 'decks', 'declaration', 'declared', 'declares', 'declaring', 'decompositionnoneforest', 'deconstruct', 'decor', 'decoration', 'decrease', 'decreases', 'decree', 'dedicated', 'dedication', 'deductible', 'dee', 'deedee_casey', 'deeds', 'deeeznvtzzz', 'deejayempiresound', 'deemed', 'deep', 'deepak', 'deepnoneburning', 'deepthoughtsalexandria', 'deepwater', 'deezercolombiacolombiachemical', 'def', 'default', 'defeater', 'defeats', 'defective', 'defects', 'defend', 'defendant', 'defender', 'defense', 'defensive', 'define', 'defined', 'definite', 'definitely', 'deflategate', 'deglin', 'degree', 'degrees', 'dehydrationalways', 'del', 'delany', 'delawaretyphoon', 'delay', 'delayed', 'delaying', 'delays', 'delbridge', 'deldryden', 'delete', 'delhi', 'delhiblaze', 'delhiderailment', 'delhihazardous', 'deliberately', 'delicious', 'deliexplode', 'deliver', 'delivered', 'delivers', 'dell', 'delmont', 'delphi', 'delta', 'deltachildren', 'deluded', 'deluge', 'deluged', 'delugenonedeluge', 'delusion', 'delusions', 'deluxe', 'dem', 'demand', 'demco', 'demeanor', 'demi', 'demise', 'democracy', 'democracyjamshedpur', 'democrat', 'democrats', 'demolish', 'demolished', 'demolishedqueens', 'demolishedterre', 'demolishes', 'demolition', 'demolition_d', 'demon', 'demoness', 'demonizationlondon', 'demons', 'demonstratio', 'demonstration', 'demonstrations', 'denial', 'denied', 'deniers', 'denies', 'deniseromano', 'denmark', 'denmarkburning', 'denmarkemergency', 'dental', 'dented', 'denton', 'denver', 'denverannihilation', 'denverinundated', 'deny', 'deobliterate', 'deosl', 'department', 'departments', 'dependency', 'depends', 'deploy', 'deployed', 'deployments', 'depokruin', 'depot', 'depreciations', 'depressing', 'depressingpueblo', 'dept', 'depth', 'deputies', 'deputy', 'der', 'derail', 'derailed', 'derailednonederailed', 'derailment', 'derailmentnonederailment', 'derails', 'derby', 'derbyshire', 'derivative', 'derivatives', 'derives', 'des', 'descendants', 'descended', 'describes', 'describing', 'description', 'descriptions', 'descriptive', 'desecrates', 'desert', 'desertblaze', 'desertfire', 'deserve', 'deserved', 'deserves', 'design', 'designed', 'designer', 'designs', 'designsstatesboro', 'desire', 'desirens', 'desires', 'desk', 'desolate', 'desolatenonedesolate', 'desolation', 'desolationsingaporedesolation', 'despair', 'desperatenoneblew', 'despite', 'dessicated', 'destination', 'destinationimpactnonesinking', 'destined', 'destiny', 'destinythegame', 'destroy', 'destroyd', 'destroyed', 'destroyednorth', 'destroyedusabattle', 'destroyedusadestroyed', 'destroyer', 'destroying', 'destroys', 'destruction', 'destructionjerseydestruction', 'destructionnonedestruction', 'destructionsilesia', 'detailed', 'details', 'detained', 'detains', 'detectado', 'detectors', 'determine', 'determined', 'detkenlang', 'detonate', 'detonated', 'detonates', 'detonation', 'detouring', 'detroit', 'detroitnewsrochester', 'detroitpls', 'detroittwister', 'devalue', 'devastated', 'devastatedchicago', 'devastates', 'devastation', 'develop', 'developed', 'developing', 'development', 'devereaux', 'devi', 'devia', 'deviating', 'device', 'devil', 'devinjoslyn', 'devise', 'devon', 'devon_breneman', 'devote', 'devours', 'devpeace', 'dew', 'dewdney', 'dey', 'dffrntsgd', 'dfir', 'dfr', 'dh', 'dhaka', 'dhakatyphoon', 'dhalgren', 'dhs', 'di', 'diablo', 'diageo', 'diagnosis', 'dial', 'dialyses', 'diamond', 'diamondkesawn', 'diamondvillesiren', 'diamorfiend', 'dianneg', 'diaporama', 'diaries', 'diarrhea', 'diasporadeluged', 'diasporas', 'dibangjust', 'dice', 'dicehateme', 'dick', 'dickheads', 'dickheadscall', 'dickson', 'dickssarsonist', 'dicky', 'did', 'didn', 'didnt', 'die', 'diebold', 'died', 'diedelizabeth', 'diego', 'diegodamage', 'diegoderailed', 'diegoepicentre', 'diemichigan', 'dienonebody', 'dies', 'diet', 'diff', 'differ', 'difference', 'different', 'differently', 'difficult', 'difficulties', 'difficultpeople', 'digging', 'digit', 'digital', 'digitalhealth', 'digits', 'dignity', 'dijk', 'dilawri', 'dill', 'dilute', 'dimapurfatal', 'dimension', 'dimensionrescuers', 'dimitri', 'dina', 'dinallyhot', 'dinner', 'dinosaurdracula', 'dinundated', 'dip', 'diplomacy', 'diplomat', 'dipping', 'dire', 'direct', 'direction', 'directioners', 'directions', 'directiont', 'directly', 'director', 'directors', 'directory', 'dirk_nomissski', 'dirk_trossen', 'dirt', 'dirty', 'dirumah', 'dis', 'disabledveterans', 'disagreements', 'disappear', 'disappearance', 'disappearancenonetrapped', 'disappeared', 'disappearing', 'disappointed', 'disappoints', 'disarmed', 'disaster', 'disasterlos', 'disastermanila', 'disasteroneonta', 'disasterrecovery', 'disasters', 'disclos', 'disco', 'disconnected', 'discount', 'discovered', 'discovery', 'discoverycntr', 'discuss', 'discussed', 'discusses', 'discussing', 'discussion', 'discussionnonedemolish', 'disea', 'disease', 'disgrace', 'disgusting', 'disgustingnonesmoke', 'disinfo', 'dislike', 'dismayed', 'dismissed', 'disney', 'disneyirh', 'disowned', 'disowns', 'dispatch', 'dispatchers', 'dispensary', 'dispersed', 'displace', 'displaced', 'displacedseattledisplaced', 'displaces', 'display', 'dispute', 'disregard', 'disrespecta', 'disrupted', 'disruptive', 'disrupts', 'diss', 'dissertation', 'dissonance', 'dissuaded', 'distance', 'distinct', 'distinction', 'distraction', 'distress', 'distributed', 'distribution', 'district', 'districtbuildings', 'districtexploded', 'disturbdrowned', 'ditched', 'ditto', 'divers', 'diverse', 'diverted', 'diverts', 'divestitures', 'divided', 'diving', 'dixie', 'dixon', 'diyala', 'dj', 'djcoreygrand', 'djeddygnj', 'djicemoon', 'djjohnblaze', 'djknyce', 'djoneplustwo', 'djryanwolf', 'dk', 'dl', 'dlh', 'dlin', 'dm', 'dmac', 'dmassa', 'dmoneydemi', 'dmpl', 'dmunni', 'dmvstretcher', 'dnanoneambulance', 'dnb', 'dnbheaven', 'dnj_comnoneevacuated', 'dnonesandstorm', 'dnonesunk', 'dock', 'docked', 'docker', 'docks', 'doco', 'doctor', 'doctordryadma', 'doctorfluxx', 'doctors', 'document', 'documentary', 'documents', 'dodge', 'doe', 'doenorth', 'does', 'doesn', 'doesnt', 'doessnt', 'doflamingoscreamed', 'dog', 'doghouseinjured', 'dogs', 'doing', 'dojo', 'doll', 'dollar', 'dollarocracy', 'dollars', 'dolls', 'dolphin', 'dolphins', 'dom', 'domain', 'domains', 'domestic', 'dominance', 'dominant', 'domingo', 'domingowounded', 'dominicanaflames', 'dominicanatyphoon', 'don', 'donald', 'donate', 'donated', 'donation', 'donations', 'donington', 'doningtondash', 'donjazzy', 'donnellynonetrouble', 'donnie', 'donny', 'dont', 'dontexpectnothing', 'donthatecaliforniacurfew', 'donzilla', 'donå', 'doomed', 'doomsday', 'doone', 'door', 'doors', 'dope', 'dopeitsval', 'dopest', 'dopey', 'doping', 'doppler', 'dorado', 'dorett', 'dorette', 'dorismatsui', 'doritos', 'dorman', 'dorret', 'dorriangaffney', 'dorset', 'dose', 'dothraki', 'dothrakinonecrushed', 'dotish', 'double', 'doublecups', 'doubt', 'douchebag', 'doug', 'dougmartin', 'dover', 'dowherever', 'downcrashed', 'downfall', 'downgraded', 'downing', 'download', 'downmeltdown', 'downpours', 'downright', 'downstairs', 'downtown', 'doylech', 'dozen', 'dozens', 'dparanaque', 'dq', 'dqsvyusynonedrought', 'dr', 'draenorviolent', 'drafted', 'drag', 'dragneelindonesiadamage', 'dragon', 'drain', 'drainednonewhirlwind', 'drake', 'drako', 'drama', 'dramaa_llama', 'dramatic', 'dramatically', 'drank', 'dravet', 'draw', 'drawn', 'drayesha', 'drdrewhln', 'dream', 'dreaming', 'dreamoforgonon', 'dreams', 'dreamsmudslide', 'dreamzsiren', 'dredougie', 'dress', 'dressed', 'dressing', 'drew', 'dribbling', 'dries', 'drifting', 'drill', 'driller', 'drink', 'drinkcleveland', 'drinkers', 'drinking', 'drinks', 'drive', 'driven', 'driver', 'driverless', 'driverlesscars', 'drivers', 'drives', 'driving', 'drjustinmazurbased', 'drmartyfox', 'drnew', 'droid', 'drone', 'drones', 'drool', 'drools', 'drop', 'dropped', 'dropping', 'drops', 'drought', 'droughtgov', 'droughtmiamidrought', 'droughtmonitor', 'droughtrock', 'droughts', 'drove', 'drown', 'drowned', 'drowngainesville', 'drownicon', 'drowning', 'drowningct', 'drowns', 'drrichardbesser', 'drug', 'drugbirdland', 'drugs', 'drum', 'drumming', 'drummond', 'drums', 'drumstep', 'drunk', 'drvox', 'drwilmington', 'dry', 'ds', 'dscotlandtraumatised', 'dscreamed', 'dt', 'dtb', 'dthe', 'dtn', 'du', 'dual', 'dualcom', 'duanonefloods', 'dubai', 'dubaiattack', 'dubaidrowned', 'dubbo', 'dublin', 'dubstep', 'duchovbutt', 'duck', 'ducks', 'duckvillelol', 'dude', 'dudes', 'dugoutlandslide', 'dukes', 'dumb', 'dumbass', 'dumbfounded', 'dumle', 'dummies', 'dummywinnipeg', 'dump', 'dumpblew', 'dumping', 'dumserva', 'dumuzid', 'dunbar', 'dundas', 'dundee', 'dundeelandslide', 'dundeemass', 'dungeon', 'dunking', 'duo', 'dupe', 'dupree', 'durability', 'durant', 'durban_knight', 'durham', 'durrellb', 'durvod', 'dust', 'dustinbrowder', 'dustpig', 'dustpiggies', 'duststormel', 'duststormfilm', 'dutch', 'dutiesfloridacatastrophe', 'dutton', 'duty', 'duval', 'dvbbs', 'dvc', 'dvd', 'dvds', 'dviyer', 'dw', 'dw_english', 'dwarves', 'dwight', 'dwilliams', 'dyannbridges', 'dye', 'dyenoneexplosion', 'dyersburg', 'dying', 'dylanmcclure', 'dynamix', 'dynastic', 'dynastynoneblazing', 'dysfunctional', 'dystopian', 'dyxtmrydunonehijacker', 'dzafic_haris', 'eacau', 'eagle', 'ealing', 'ear', 'earbuds', 'earlier', 'earlssarsonist', 'early', 'early__may', 'earn', 'earned', 'earners', 'earnest', 'earnings', 'earrings', 'ears', 'earth', 'eartharsonist', 'earthcatastrophic', 'earthcliff', 'earthdead', 'earthdeaths', 'earthdesolation', 'earthearthquake', 'earthfloods', 'earthling', 'earthmass', 'earthquake', 'earthquakealaska', 'earthquakecalifornia', 'earthquakehawaii', 'earthquakes', 'earthrainstorm', 'earthrescued', 'earths_voice', 'earthtwerknoneearthquake', 'earthvolcano', 'earthwild', 'easily', 'east', 'eastbound', 'eastbourne', 'easter', 'eastern', 'easternnonesuicide', 'easternoregon', 'easton', 'eastpdxforest', 'eastsnowstorm', 'eastward', 'easy', 'eat', 'eaten', 'eater', 'eating', 'eaton', 'eau', 'eaubonne', 'eazzy_p', 'eb', 'ebay', 'ebaycaliforniaarmageddon', 'ebaymissouri', 'ebaynonebody', 'ebola', 'ebolaquarantined', 'ebolatrends', 'ebooks', 'ebrointheam', 'eco', 'ecoc', 'ecology', 'economic', 'economics', 'economies', 'economy', 'ect', 'ecuador', 'ed', 'eddie', 'eddy', 'eden', 'edgarsgift', 'edge', 'edinburgh', 'edinburghdeaths', 'edinburghmudslide', 'edison', 'edit', 'editaxohaze', 'edition', 'editionearthquake', 'editor', 'editorial', 'edk', 'edm', 'edmcalgary', 'edmond', 'edmonton', 'edsheeranlondonsinking', 'edt', 'education', 'edward', 'edwards', 'edwelchmusic', 'ee', 'eeasterling_nonedrowned', 'eeenice', 'eep', 'ef', 'efak', 'effect', 'effected', 'effective', 'effectiveness', 'effects', 'effort', 'efforts', 'efs', 'egg', 'eggalie', 'egged', 'eggs', 'ego', 'ego_resolution', 'egypt', 'egyptblood', 'egyptian', 'eh', 'eheksfluffy', 'eicobliterate', 'eighty', 'eileenmfl', 'eisenhoweraftershock', 'eiu', 'el', 'elaboration', 'elammass', 'elation', 'elbow', 'elchilicitanierraversal', 'elderly', 'election', 'elections', 'electric', 'electrical', 'electricity', 'electro', 'electrocute', 'electrocuted', 'electrocutednoneelectrocuted', 'electronic', 'electronicmusic', 'electrostatic', 'element', 'elementary', 'elena', 'elephant', 'elephantintheroom', 'elephants', 'eles_kaylee', 'elevated', 'elevation', 'elgato', 'elianaraquel', 'elielcruz', 'elightning', 'eligible', 'elijah', 'elijahmallari', 'elisagxrcia', 'elite', 'elitist', 'elizabeth', 'elk', 'elkhart', 'elkhorn', 'ell', 'ellensburg', 'ellie', 'elliott', 'elm', 'elmwood', 'elreynetwork', 'elsa', 'elven', 'elvis', 'em', 'emaaalay', 'email', 'emailed', 'emails', 'embarrassing', 'embarrassmentarbailodemolish', 'ember', 'embra', 'embrace', 'embraced', 'embroidered', 'emerg', 'emergencies', 'emergency', 'emerges', 'emhub', 'emi', 'emiiliexirwin', 'emile', 'emilio', 'emily', 'emilyeverever', 'emilymcfcheslop', 'emilyschuman', 'emiratesdebris', 'emiratesinjuries', 'emmachosenone', 'emmanuel', 'emmerdale', 'emmerdalelondon', 'emmerdalenonedevastated', 'emmerdalenorwichwreck', 'emmerdalepolmont', 'emmerdalescumbernauldwreck', 'emmerdalespare', 'emmerdalewatfordrescued', 'emmy', 'emmychappy', 'emo', 'emotion', 'emotional', 'emotionally', 'emotions', 'emotionsin', 'emp', 'empathy', 'emperor', 'empire', 'empirikgaming', 'employed', 'employee', 'employs', 'emporia', 'empower', 'emptive', 'ems', 'emsc', 'emscnonelandslide', 'emsne', 'emsnonewindstorm', 'emts', 'emv', 'en', 'enabled', 'enablement', 'enabling', 'enacted', 'enacts', 'enca', 'encaustic', 'enclavederailed', 'encoded', 'encore', 'encorenonescreamed', 'encounters', 'encouraged', 'encouragement', 'encouraging', 'encyclopedia', 'end', 'endangered', 'endconflict', 'ended', 'ending', 'endless', 'endoccupation', 'endorsement', 'endorses', 'ends', 'endures', 'enemies', 'enemity', 'enemy', 'energy', 'energynonetsunami', 'enfant', 'enfield', 'engage', 'engagement', 'engine', 'engineermatarai', 'engineers', 'engines', 'engineshed', 'england', 'englandblew', 'englandblown', 'englandbridge', 'englandbuildings', 'englandcatastrophic', 'englandcliff', 'englanddebris', 'englanddeluge', 'englanddeluged', 'englanddemolish', 'englandderail', 'englanddestroy', 'englanddestruction', 'englandelectrocuted', 'englandevacuate', 'englandfatality', 'englandflattened', 'englandhazard', 'englandinjuries', 'englandinundated', 'englandmass', 'englandmeltdown', 'englandmudslide', 'englandnatural', 'englandpandemonium', 'englandpanicking', 'englandsiren', 'englandsunk', 'englandthunder', 'englandweapon', 'englandweapons', 'englandwhirlwind', 'englandwounds', 'engle', 'englewood', 'english', 'engulfed', 'engulfedlondonengulfed', 'engulfs', 'engvausleeds', 'enhanced', 'enjoy', 'enjoyed', 'enjoying', 'enniscrone', 'enolagay', 'enormous', 'enroute', 'enrt', 'ensued', 'ensuing', 'ensure', 'ensures', 'enter', 'entered', 'entering', 'enterprise', 'entershikariig', 'entertain', 'entertainment', 'entire', 'entitlement', 'entity', 'entrances', 'entrepreneur', 'entrepreneurnonebombing', 'entretenimento', 'enugu', 'environment', 'environmental', 'environmentalaskamilitary', 'environmentalnonehazardous', 'environmentusamilitary', 'envw', 'enzasbargains', 'eo', 'eovm', 'ep', 'epa', 'epcotexplorer', 'epic', 'epic_insanity', 'epicenter', 'epicentre', 'epicentrecltepicentre', 'epilepsy', 'epileptic', 'episode', 'epl', 'epochlondon', 'epsom', 'eq', 'equal', 'equalizer', 'equally', 'equation', 'equestrian', 'equipment', 'equipments', 'er', 'era', 'erally', 'ercjmnea', 'erdogan', 'erected', 'ergo', 'eric_bulak', 'eric_tsunami', 'erie', 'erker', 'ermac', 'erode', 'erodes', 'error', 'errrr', 'erupting', 'eruption', 'erykah', 'erzurum', 'es', 'escape', 'escaped', 'escaping', 'escorts', 'esevu', 'eskisehirdestruction', 'esn', 'esoteric', 'esp', 'espargaro', 'espaì', 'especially', 'espn', 'esports', 'esse', 'essenceofme', 'essex', 'essexhail', 'essexsunk', 'essexweather', 'est', 'establishment', 'estate', 'estaterobin', 'estates', 'esteemed', 'estellasrevenge', 'estimate', 'estimated', 'estimates', 'et', 'etcjohannesburg', 'etcnjbuildings', 'etcnjburning', 'etcpbnoneapocalypse', 'ethereal', 'ethiopia', 'ethiopian', 'etisalat', 'eto', 'etoffe', 'etp', 'etribune', 'eu', 'eugene', 'eulogies', 'eunice_njoki', 'eur', 'eureka', 'euro', 'eurocrisis', 'europe', 'european', 'europeattacked', 'europelandslide', 'europevolcano', 'eurotunnel', 'euroyuba', 'ev', 'evacide', 'evacuate', 'evacuated', 'evacuatenoneevacuate', 'evacuating', 'evacuation', 'evacuations', 'evade', 'evaded', 'evahanderek', 'evangelical', 'evanston', 'evansville', 'eve', 'evebrigid', 'evening', 'event', 'events', 'eventually', 'everton', 'everybody', 'everyday', 'everydaynaija', 'everydaynigerian', 'everyonelondondemolish', 'everyones', 'everythingaustin', 'everytime', 'everywhereblazing', 'everywherecrush', 'everywheredevastation', 'everywhereevacuate', 'everywhereevacuated', 'everywhereh', 'everywherehijack', 'everywheremass', 'everywhererescuers', 'everywhereterrorism', 'everywherethreat', 'everywheretwister', 'evidence', 'evidencepaulton', 'evil', 'evilempire', 'evolve', 'evolved', 'eww', 'ex', 'exacerbated', 'exactly', 'exaggerated', 'exam', 'examiner', 'examinercomwashington', 'examining', 'example', 'excellence', 'excellent', 'exceptional', 'exchange', 'exchanged', 'exchanging', 'excited', 'excitement', 'exciting', 'exclamation', 'exclusive', 'exclusively', 'excuse', 'exec', 'executing', 'executives', 'exercise', 'exercised', 'exercises', 'exhaustedaix', 'exhaustedvictoria', 'exhibition', 'exhibitor', 'exist', 'existant', 'existence', 'exit', 'exited', 'exits', 'exofficio', 'exotic', 'exp', 'expand', 'expanded', 'expander', 'expansion', 'expect', 'expected', 'expectednonenone', 'expecting', 'expensive', 'experience', 'experienced', 'experiences', 'experiencing', 'experimental', 'experiments', 'expert', 'experts', 'expertwhinernonebody', 'expirehccolumbus', 'explain', 'explaining', 'explains', 'explanation', 'explicitly', 'explode', 'exploded', 'explodedusaexploded', 'explodenoneexplode', 'explodes', 'exploit', 'exploration', 'explores', 'exploring', 'explosion', 'explosionnoneexplosion', 'explosions', 'explosive', 'explosives', 'expo', 'exponential', 'exporting', 'expose', 'exposed', 'exposes', 'exposure', 'express', 'expressandstar', 'expression', 'extend', 'extended', 'extender', 'extension', 'extensive', 'extent', 'exterminate', 'external', 'externalnonewindstorm', 'extinction', 'extra', 'extract', 'extraordinairenonetrauma', 'extreme', 'extremely', 'ey', 'eyal', 'eye', 'eyeball', 'eyefactsrockville', 'eyes', 'eyesssnonetsunami', 'eyewitness', 'eyewitnesses', 'eyewitnesssomewhere', 'eytay', 'ezidigenocidenonemassacre', 'faafa', 'faan', 'fabric', 'face', 'faceaepbleeding', 'facebook', 'faced', 'faceless', 'facenonetraumatised', 'faces', 'facilities', 'facility', 'fact', 'faction', 'factors', 'factory', 'factorytsunami', 'facts', 'factual', 'faculty', 'fade', 'fadelurker', 'fading', 'fail', 'failed', 'failing', 'failure', 'failurewarm', 'faints', 'fair', 'fairfax', 'fairfield', 'fairgrounds', 'fairie', 'fairly', 'fairnonefire', 'fairxx', 'fairy', 'faith', 'fake', 'fakefamscollapse', 'falcon', 'fall', 'fallacy', 'fallen', 'falling', 'fallontonight', 'falls', 'falmer', 'false', 'fam', 'famerica', 'familia', 'familiar', 'families', 'family', 'famine', 'famineåêmemories', 'famous', 'fan', 'fanarmyfaceoff', 'fanbase', 'fandom', 'fangirling', 'fanonewhirlwind', 'fans', 'fantabulous', 'fantastic', 'fantasticfour', 'fantasy', 'fantosex', 'fantstic', 'far', 'farce', 'farcrashed', 'farewell', 'faried', 'farm', 'farmarylandobliteration', 'farmr', 'farms', 'faroe', 'faroeislands', 'farrakhan', 'fart', 'farther', 'fashion', 'fashionable', 'fast', 'faster', 'fastest', 'fastnoneblew', 'fastnonenone', 'fastpitch', 'fat', 'fatal', 'fatalities', 'fatality', 'fatality_us', 'fatalityrafael', 'fatally', 'fate', 'father', 'fathers', 'fathersnatural', 'fau', 'fault', 'faulty', 'faux', 'fav', 'favor', 'favorable', 'favorinonerescuers', 'favorita', 'favorite', 'favorites', 'favoritism', 'favors', 'favourite', 'favouriteukscreaming', 'favs', 'faze_rain', 'fb', 'fbi', 'fcked', 'fd', 'fdbdpnonedamage', 'fddesolation', 'fdx', 'fe', 'fear', 'feared', 'fearnonefear', 'fears', 'feast', 'feat', 'feature', 'featured', 'features', 'febscreams', 'fecal', 'fed', 'federal', 'fedex', 'fedporn', 'fee', 'feed', 'feeding', 'feel', 'feelin', 'feeling', 'feelingmanlybrisbane', 'feelings', 'feels', 'feelslikefob', 'fees', 'feet', 'feetnoneblood', 'fel', 'fell', 'fella', 'felt', 'fem', 'fema', 'female', 'femalegilgamesh', 'feminist', 'feminists', 'femnism', 'fence', 'fennovoima', 'fentanyl', 'fentoncurfew', 'fergie', 'ferguson', 'ferrell', 'ferriby', 'ferry', 'fest', 'festival', 'fetch', 'fettilootch', 'fevwarrior', 'fewmoretweets', 'fez', 'ffvii', 'fgcu', 'fi', 'fiasco', 'fiat', 'fiction', 'fidayeen', 'fiddle', 'fide', 'fidemrioting', 'fieg', 'field', 'fieldarmageddon', 'fielddrought', 'fiendnikki', 'fierce', 'fifa', 'fife', 'fifth', 'fight', 'fightbeacon', 'fighter', 'fighters', 'fightersnoneruin', 'fighting', 'fights', 'figure', 'figured', 'figures', 'fiji', 'file', 'filenonebody', 'files', 'filipinononefire', 'filled', 'filling', 'film', 'filmliverpoolcasualty', 'filmmakers', 'films', 'filter', 'fimak', 'final', 'finale', 'finalise', 'finall', 'finally', 'finallydallas', 'financial', 'financially', 'financialtimes', 'financing', 'finding', 'finds', 'fine', 'finer', 'finger', 'fingerrockfire', 'fingers', 'finish', 'finished', 'finishing', 'finlanddesolate', 'finlandpanic', 'finn', 'finnish', 'finsup', 'fionagilbert_', 'fiore', 'fir', 'firearm', 'fired', 'firedistrict', 'firefighte', 'firefighter', 'firefighters', 'firefighting', 'firehellflames', 'fireman', 'firemen', 'firenewark', 'firenews', 'firenonefire', 'fires', 'firesduncanforest', 'firesnorth', 'fireswest', 'firetruck', 'fireukbuildings', 'firewise', 'firework', 'fireworks', 'firey', 'firing', 'firmly', 'firms', 'firstnations', 'fish', 'fishing', 'fit', 'fitba', 'fitness', 'fits', 'fitz', 'fix', 'fixed', 'fixing', 'fizz', 'fizzy', 'fjords', 'fkhanage', 'fkn', 'fl', 'flag', 'flags', 'flairplane', 'flakes', 'flame', 'flames', 'flames_nation', 'flamesdreamy', 'flamesmanausflames', 'flamethrower', 'flaming', 'flared', 'flash', 'flat', 'flatback', 'flattacked', 'flattened', 'flattenedukflattened', 'flatts', 'flavafraz', 'flavorchargedteanonehijacking', 'flavored', 'flawless', 'flawounded', 'flcollapse', 'flcollide', 'flcrush', 'fldead', 'fldebris', 'fldestroyed', 'fldrown', 'fldrowned', 'flechadas', 'fled', 'flee', 'fleeing', 'fleet', 'fleets', 'fleetwood', 'flesh', 'fletcher', 'flew', 'fleyewitness', 'flfire', 'flflooding', 'flg', 'flgovscott', 'flhijacker', 'flhostages', 'flight', 'flightcity', 'flights', 'flint', 'flip', 'flipped', 'flips', 'fllightning', 'flmayhem', 'flnatural', 'float', 'floated', 'flobliterated', 'flood', 'flooded', 'flooding', 'floodingukflooding', 'floods', 'floodsnonefloods', 'floor', 'floorcamaquì', 'floored', 'flopping', 'floral', 'florence', 'florid', 'florida', 'floridacrash', 'floridadestroy', 'floridaemergency', 'floridaevacuate', 'floridaevacuated', 'floridaexplosion', 'floridafear', 'floridahijack', 'floridapanicking', 'floridarioting', 'floridastretcher', 'floridatrapped', 'floridaweapon', 'floridawhirlwind', 'florin', 'flow', 'flower', 'flowers', 'floyd', 'flsiren', 'flterrorism', 'fluid', 'flunkie', 'flurry', 'flush', 'flushes', 'flwhirlwind', 'flwounds', 'flwreck', 'fly', 'flyest', 'flying', 'flynn', 'flyopinemonkey', 'fm', 'fn', 'fnaf_talkmc', 'fo', 'foamccnonetrauma', 'foamed', 'focus', 'focuses', 'fog', 'foiled', 'fold', 'folieacat', 'folk', 'folks', 'follow', 'follower', 'followernoneblew', 'followers', 'followfukuoka', 'following', 'followlasg', 'followmebritish', 'follownflnews', 'follows', 'followscreaming', 'followurdreams', 'fondness', 'fonts', 'foo', 'food', 'foodborne', 'foods', 'foodscare', 'fooled', 'fools', 'foot', 'footage', 'football', 'footballs', 'footed', 'foothill', 'foragesecret', 'forbes', 'forbesasiaonrubble', 'forbesminna', 'forbesspain', 'forbid', 'force', 'forced', 'forces', 'ford', 'forecast', 'foreclosed', 'forehead', 'foreign', 'foreman', 'forest', 'forestblood', 'forests', 'forever', 'foreverashford', 'foreverwithbap', 'forex', 'forget', 'forgeting', 'forging', 'forgive', 'forgiven', 'forgiving', 'forgot', 'forgotten', 'forlapdances', 'form', 'forms', 'formula', 'forreal', 'forrestmankins', 'forsee', 'forsl', 'forsomewhere', 'forsure', 'forsythe', 'fort', 'forth', 'forthright', 'fortunately', 'fortune', 'fortworth', 'forward', 'fossil', 'foster', 'foto', 'fotofill', 'foul', 'foundation', 'founder', 'founding', 'fountain', 'foursquare', 'fourth', 'fouseynonedestroy', 'fouseytube', 'fowlers', 'fox', 'foxa', 'foxnews', 'foxnewsdcwashington', 'foxnewsinsider', 'foxnewsvideo', 'foxsportscomnonedestroy', 'foxtrot', 'foxy__siren', 'fps', 'fr', 'frackfree_eu', 'frackfreelancs', 'fraction', 'fragile', 'fragrance', 'frail', 'frame', 'fran', 'france', 'francecrash', 'francefatalities', 'francenuclear', 'francerescuers', 'francis', 'francisco', 'franciscoapocalypse', 'franciscobattle', 'franciscoblazing', 'franciscobuildings', 'franciscoburned', 'franciscocollided', 'franciscodisaster', 'franciscodisplaced', 'franciscofamine', 'franciscoforest', 'franciscohijacker', 'franciscopolice', 'franciscoquarantined', 'franciscowildfire', 'francisunderwood', 'frank', 'frankfort', 'frankie', 'frankivskbloody', 'franklin', 'frankly', 'fransokyocrush', 'frascatideluge', 'fraserburghdrowned', 'frat', 'fraud', 'frautrapaninonemass', 'freak', 'freaked', 'freakiest', 'freaking', 'freaks', 'freddie', 'freddiedeboer', 'frederickobliterated', 'fredolsencruise', 'fredosantana', 'free', 'freeallfour', 'freeamirnow', 'freebesieged', 'freebitcoinnoneattacked', 'freed', 'freediscountbks', 'freedom', 'freefromwolves', 'freegeezy', 'freegucciobliterated', 'freekashmirkashmir', 'freeman', 'freeport', 'freesikhpoliticalprisnors', 'freespeech', 'freestyle', 'freeview', 'freeway', 'freezer', 'freezing', 'fremont', 'french', 'frequently', 'fresh', 'freshly', 'freshman', 'freshness', 'fresno', 'fresnofresno', 'freyas', 'fri', 'fricken', 'frickin', 'friday', 'fridaynonefire', 'fried', 'friend', 'friendly', 'friends', 'friendsharper', 'friendship', 'friendships', 'friendswood', 'friesnoneannihilated', 'friggin', 'frightening', 'frisco', 'frog', 'frome', 'frontin', 'frontline', 'frontlines', 'frothy', 'froze', 'frozen', 'frp', 'fruit', 'fruitsnonenone', 'frusciante', 'frustration', 'frvrgrateful', 'ft', 'fte', 'ftsn', 'ftsnnewsdesk', 'fu', 'fuck', 'fuckboy', 'fucked', 'fuckin', 'fucking', 'fucks', 'fucktard', 'fuddy', 'fuel', 'fueled', 'fueling', 'fuels', 'fujiwara', 'fujo', 'fukurodani', 'fukushima', 'fukushimaearthquake', 'fulfilling', 'fullscreen', 'fully', 'fun', 'function', 'fund', 'fundamentals', 'funds', 'fundwhen', 'funeral', 'funko', 'funkylilshack', 'funniest', 'funnonepanic', 'funny', 'funnydadcoachpittsburghscreaming', 'funnyhinterestlandsinkhole', 'funnynews', 'funtenna', 'funtimes', 'funtua', 'fur', 'furiosoxv', 'furious', 'furiousunited', 'furtrix', 'fury', 'fusion', 'fuso', 'future', 'futurea', 'fvck_casper', 'fwd', 'fwo', 'fwt', 'fwy', 'fx', 'fyi', 'fyibaltimore', 'fylde', 'ga', 'gabioterror', 'gablaze', 'gabon', 'gaborone', 'gabriel', 'gabuildings', 'gaburning', 'gacollide', 'gadeluge', 'gademolish', 'gadget', 'gadgets', 'gadust', 'gaemergency', 'gag', 'gagnon', 'gaia', 'gail', 'gain', 'gained', 'gainesvillepandemonium', 'gaining', 'gains', 'galactic', 'galaxy', 'galiciadamage', 'galifianakis', 'galleria', 'gallifreydanger', 'gallipoli', 'gallowaymayor', 'galveston', 'galvnews', 'galway', 'gambia', 'gambit', 'game', 'gamefeed', 'gamenoneannihilated', 'gameplay', 'gamerant', 'gamergate', 'games', 'gamesaint', 'gamessome', 'gaming', 'gamma', 'gander', 'gang', 'gangsta', 'gangstermail', 'gansey', 'gap', 'gaping', 'gaquarantined', 'garage', 'garbage', 'garden', 'gardens', 'gards', 'garfield', 'gargoyle', 'gargron', 'garioting', 'garner', 'garowe', 'garrison', 'gary', 'garza', 'gas', 'gasinkhole', 'gasirens', 'gasoline', 'gasparc', 'gasped', 'gasping', 'gassymexican', 'gastorm', 'gate', 'gateau', 'gates', 'gathunder', 'gaupheaval', 'gauze', 'gave', 'gawx', 'gay', 'gaynor', 'gays', 'gaza', 'gazans', 'gazebo', 'gazette', 'gbbo', 'gbbocrouch', 'gbboleeds', 'gbbolondon', 'gbbolondonmudslide', 'gbbopotters', 'gbbothe', 'gbbouktraumatised', 'gbbowalesmudslide', 'gbloody', 'gc', 'gccsuicide', 'gdjb', 'gear', 'gearheadcentral', 'gears', 'geburning', 'geek_apocalypse', 'gel', 'geller', 'gem', 'gemini', 'gemma', 'gems', 'general', 'generally', 'generalnews', 'generation', 'generic', 'geneva', 'genevacyclone', 'genisys', 'genius', 'genocide', 'gentle', 'gentlemen', 'gently', 'gentrification', 'genuine', 'geometric', 'george', 'georgegalloway', 'georgia', 'georgiablazing', 'georgiabombed', 'georgiacollision', 'georgiadrought', 'georgiafatalities', 'georgialightning', 'georgiarubble', 'georgina', 'georgous__', 'geotechusafirst', 'gerenciatodos', 'german', 'germandust', 'germany', 'germanycharlotte', 'germanydebris', 'germanydisplaced', 'germanydrowned', 'germanyexploded', 'germanyhellfire', 'germanyhurricane', 'germs', 'gerryconnolly', 'gesture', 'gets', 'gettin', 'getting', 'gettinglost', 'gf', 'gfe', 'gfz', 'gg', 'gg_keeponrockin', 'ghanadevastated', 'ghanarubble', 'ghanathunder', 'ghe', 'ghetto', 'ghillinois', 'ghostoftheav', 'ghostwriter', 'gi', 'gia', 'giannis', 'giant', 'giants', 'gibraltar', 'gideonstrumpet', 'gidiexclusixe', 'gidisuicide', 'gif', 'gift', 'gifts', 'gig', 'gigagil', 'gigawatts', 'giggling', 'gigwest', 'gilbert', 'gilderoy', 'gillibrand', 'gilmanrocks', 'gilmoreguysshow', 'gimp', 'gin', 'giorgio', 'girl', 'girlcollide', 'girlfriend', 'girlfriendnonenone', 'girljump', 'girls', 'girlslovecum', 'girlthatsrio', 'gis', 'giselle', 'gishwhes', 'gisuserpr', 'giveaway', 'givebackkalinwhiteaccountnoneblown', 'given', 'gives', 'giving', 'glad', 'gladbach', 'gladiator', 'glances', 'glanders', 'glasgow', 'glasgowbloody', 'glasgowsurvived', 'glass', 'glassanimals', 'glasses', 'glaucoma', 'glen', 'glenn', 'glenstannard', 'glided', 'glimpses', 'glitch', 'glitter', 'global', 'globalaccident', 'globalbody', 'globalbuildings', 'globalhail', 'globalhostage', 'globalwarming', 'globalwrecked', 'globe', 'globeheat', 'globehurricane', 'globi_inclusion', 'glononium', 'gloomy', 'gloria', 'glorious', 'glory', 'glosblue', 'gloucester', 'gloucestersunk', 'glove', 'glue', 'gm', 'gmail', 'gmcr', 'gmmbc', 'gmt', 'gn', 'gnnonerazed', 'gns', 'gnwt', 'goal', 'goals', 'goat', 'goats', 'goblue', 'gobsmacked', 'god', 'godearthquake', 'godeath', 'godevastated', 'godlikenoneannihilated', 'gods', 'godsfirstson', 'godslove', 'godtsunami', 'goes', 'goin', 'going', 'gokitgo', 'golborne', 'gold', 'goldstein', 'golem', 'golf', 'gon', 'gone', 'gonebrizzle', 'gonna', 'gononearsonist', 'good', 'goodbye', 'goodbyes', 'goode', 'goodell', 'goodlook', 'goodluck', 'goodness', 'goodnight', 'goodnonesurvivors', 'goofy', 'google', 'goonda', 'gooneratheist', 'goooooooo', 'gop', 'gopdebate', 'gopnonebody', 'gordon', 'gordon_r', 'gore', 'gorgeous', 'gorpuazikinak', 'gosh', 'goshen', 'gospel', 'gostei', 'got', 'gotcentral', 'gotham', 'gotriangle', 'gotta', 'gotten', 'gotthard', 'goulburn', 'goulding', 'gov', 'govegan', 'govern', 'government', 'governments', 'governor', 'govt', 'govts', 'govwalker', 'goz', 'gpaulista', 'gpm', 'gps', 'gpv', 'gr', 'grab', 'grabakahitman', 'grabbers', 'grabs', 'grace', 'grade', 'graduated', 'grahamwp', 'granadalava', 'grand', 'grandad', 'grande', 'grandma', 'grandmother', 'grandpa', 'grange', 'granted', 'grapes', 'graph', 'grass', 'grateful', 'gratia', 'grave', 'gravel', 'graveyard', 'gravitymoviedublin', 'gravy', 'gray', 'grayed', 'graysondolan', 'graywardens', 'grazed', 'grc', 'greasymy', 'great', 'greatbritishbakeoff', 'greatbritishbakeoffbirmingham', 'greater', 'greateranglia', 'greatest', 'greatnoneearthquake', 'greatnonenone', 'greece', 'greecebridge', 'greecehijacking', 'greeceinundation', 'greedy', 'greek', 'greeley', 'green', 'greenbuildermag', 'greening', 'greenpoint', 'greensboro', 'greenspace', 'greenville', 'greenway', 'greer', 'greet', 'greg', 'gregorysanders', 'greinke', 'grenade', 'grenades', 'grew', 'grey', 'greystone', 'grid', 'grief', 'griffin', 'grill', 'grille', 'grilled', 'grills', 'grimrail', 'grindhouse', 'grit', 'gritty', 'grizzly', 'groaning', 'groceries', 'groin', 'groningen', 'groom', 'gross', 'groton', 'ground', 'grounddisplaced', 'grounds', 'group', 'groupon_uk', 'groups', 'grove', 'grovecurfew', 'grow', 'growindonesiavolcano', 'growing', 'grown', 'grows', 'growth', 'grrrr', 'grudges', 'grummz', 'grupdates', 'gswexploded', 'gt', 'gta', 'gtfo', 'gtxrwmnoneablaze', 'guabxfv', 'guage', 'guard', 'guardian', 'guardrails', 'guards', 'guatemalan', 'guayaquilcrushed', 'guess', 'guessing', 'guest', 'guests', 'guide', 'guided', 'guides', 'guidofawkes', 'guildford', 'guildfordbush', 'guillermo', 'guilty', 'guimaras', 'gujarat', 'gujaratmayhem', 'gujaratriot', 'gujranwala', 'gulags', 'gulf', 'gulls', 'gullycurfew', 'gumptowntrauma', 'gumthe', 'gun', 'gunfail', 'gunfight', 'gunfire', 'gunfiresanto', 'gunk', 'gunman', 'gunmen', 'gunned', 'gunners', 'gunning', 'guns', 'gunsense', 'gunsensect', 'gunshot', 'guo', 'gurgaon', 'gurion', 'gurmeetramrahim', 'gusto', 'gusts', 'gusty', 'guthrie', 'guy', 'guy_reginald', 'guyatl', 'guys', 'guysgermanyexplosion', 'gwaliordanger', 'gwatt', 'gwfrazee', 'gym', 'gymflow', 'gymtime', 'gyp', 'gypsy', 'ha', 'haaaaaathailanddestroy', 'haaretz', 'habbo', 'habit', 'habits', 'hack', 'hacked', 'hackers', 'hackneysmoke', 'haddonfield', 'hadn', 'hag', 'hah', 'haha', 'hahaha', 'hahahah', 'hahahaha', 'hahahahahackney', 'hahanoneblood', 'hahanoneheat', 'hahanonerescued', 'hahaoakland', 'hahasan', 'hahathird', 'hahnonemudslide', 'hai', 'haiku', 'hail', 'hail_youtsey', 'hailcalgary', 'haildamage', 'haileast', 'hailing', 'hailoklahoma', 'hailstorm', 'hair', 'haircuts', 'hairdryer', 'haiyan', 'haji_hunter', 'hakogaku', 'haley', 'half', 'halfhourhotel', 'halfricadrowned', 'halfway', 'halifax', 'halifaxhijacker', 'hall', 'halljh', 'halloikbenwillscotlandcollapse', 'halt', 'halton', 'hamas', 'hamburg', 'hamesiren', 'hamilton', 'hammock', 'hampshire', 'hampshirebuildings', 'hampshiredrowned', 'hampshireexplode', 'hamptonroadsfor', 'hana', 'hand', 'handbag', 'handbags', 'handed', 'handi', 'handicapped', 'handle', 'handling', 'hands', 'handside', 'handsome', 'handssinkhole', 'hang', 'hangin', 'hangout', 'hannah', 'hannahkauthor', 'hannaph', 'hanneman', 'hannomottola', 'hanover', 'hao', 'haouzdust', 'hapa', 'happen', 'happened', 'happenedhammersmith', 'happening', 'happens', 'happily', 'happiness', 'happy', 'har', 'hara', 'haram', 'haramunite', 'harassed', 'harbhajan_singh', 'harbor', 'harbour', 'harcourt', 'hard', 'harda', 'hardballflorida', 'hardcore', 'harden', 'harder', 'hardest', 'hardline', 'hardly', 'hardy', 'harlan', 'harleychick', 'harlingen', 'harm', 'harman', 'harmonylima', 'harms', 'harper', 'harpurhey', 'harris', 'harry', 'harshly', 'harshness', 'hartford', 'harvardu', 'harvesting', 'harveymaine', 'harwich', 'haryana', 'hashd', 'hashimoto', 'hashtag', 'hashtagnonehijack', 'hashtags', 'hashtagteaclub', 'hasil', 'hasn', 'hasnonewreckage', 'hassanrouhani', 'hassle', 'hastle', 'hasåêarrived', 'hat', 'hatchet', 'hate', 'hated', 'hatena', 'hater', 'hating', 'hatman', 'hatred', 'hattiesburg', 'hatzolah', 'haunting', 'haute', 'haven', 'havenfordairplane', 'having', 'havnt', 'hawaii', 'hawaiianpaddlesports', 'hawaiiexplosion', 'hawaiiflooding', 'hawaiihurricane', 'hawk', 'hawthorne', 'hay', 'hayden', 'haydnexists', 'haysville', 'hazard', 'hazarddil', 'hazardous', 'hazards', 'hazelannmac', 'hazmat', 'hazmatvirginia', 'hcg', 'hcsmbudapest', 'hd', 'hdumpty', 'head', 'headdesk', 'headed', 'headednoneblood', 'header', 'heading', 'headirelandattack', 'headlinelike', 'headlinelondonengulfed', 'headlines', 'headnonebombed', 'headphones', 'headquarters', 'heads', 'headset', 'headwounds', 'heal', 'healing', 'heals', 'health', 'healthandsafetynonefatalities', 'healthcare', 'healthinsurance', 'healthweekly', 'healthy', 'hear', 'heard', 'heardnonethunder', 'heared', 'hearing', 'hearitfrompa', 'hearitfrompatty', 'hears', 'heart', 'heartache', 'heartbeat', 'heartbreak', 'heartdisease', 'hearths', 'hearthstone', 'heartland', 'heartless', 'hearts', 'heat', 'heated', 'heathrowhostages', 'heaven', 'heavenhailstorm', 'heavenly', 'heavy', 'heavybag', 'heavydirtysoul', 'hebron', 'hebrooon', 'hector', 'heebsterrr_', 'heels', 'hehe', 'hehehnonethunder', 'heidiaproud', 'heights', 'heiress', 'held', 'helen', 'helene', 'helene_yancey', 'helens', 'helicopter', 'helicopters', 'hell', 'hella', 'hellburning', 'hellfire', 'hellfire_ev', 'hellmass', 'hellmassacre', 'hellnonefear', 'hello', 'hellonwheelsamc', 'hellotybeeren', 'hellterrorist', 'help', 'helping', 'helpline', 'helpme', 'helpnonehellfire', 'helpnonestorm', 'helpnonewrecked', 'helps', 'helsinki', 'helsinkithunderstorm', 'hem', 'hempoil', 'hempsteadmass', 'henderson', 'hendricks', 'hendy_', 'henry', 'henshaw', 'hensley', 'herearthdemolish', 'herecassadaga', 'heredamage', 'herenawf', 'herenoneblaze', 'herenonesmoke', 'hereticofethicscanadabomb', 'herevolcano', 'herewar', 'hermancranston', 'hermiami', 'hermitage', 'hero', 'heroes', 'heroin', 'heroine', 'herononeburning', 'herring', 'hertfordshire', 'hes', 'hesse', 'hew', 'hexagon', 'hey', 'heyimginog', 'heyitsepark', 'heywoodthe', 'hfxstanfield', 'hgf', 'hhahaha', 'hhbunonedetonate', 'hhs', 'hi', 'hiattwinston', 'hiblood', 'hickson', 'hicksville', 'hidden', 'hide', 'hideous', 'hiding', 'hieroglyphics', 'high', 'higher', 'highest', 'highland', 'highlandswounds', 'highqualitybird', 'highsmith', 'highway', 'higuain', 'hijack', 'hijacker', 'hijacking', 'hijinks', 'hike', 'hikers', 'hilarious', 'hilaryattack', 'hill', 'hillary', 'hillaryclinton', 'hilldeluged', 'hills', 'hillssunk', 'hillsville', 'hilversum', 'himalaya', 'himalayan', 'himalayas', 'himarizona', 'himeruisu', 'himselfnoneelectrocute', 'hinata', 'hinatobotbetween', 'hindsight', 'hindustan', 'hint', 'hinterestin', 'hinton', 'hints', 'hip', 'hiphop', 'hippie', 'hipsters', 'hiring', 'hiringlos', 'hiringnevada', 'hiringtorrance', 'hirochii', 'hiroshima', 'hiroshimanantes', 'hiroshimanewport', 'hiroshimanonedemolition', 'hirsch', 'hisaoyamaku', 'hist', 'historic', 'historicalmages', 'history', 'historythe', 'hit', 'hitch', 'hits', 'hitsthe', 'hitters', 'hitting', 'hixon', 'hkxfymhexsandstorm', 'hlportal', 'hm', 'hmm', 'hmmm', 'hmu', 'hmunonedrown', 'ho', 'hoax', 'hobbit', 'hobby', 'hobo', 'hoc', 'hockey', 'hockeynoneavalanche', 'hoe', 'hoenonesmoke', 'hoes', 'hoffman', 'hogan', 'hoisting', 'hold', 'holdin', 'holding', 'holds', 'hole', 'holed', 'holes', 'holiday', 'holidays', 'holistic', 'holland', 'holly', 'hollyorange', 'hollyw', 'hollywarnexx', 'hollywood', 'holmes', 'holmgren', 'holodomor', 'holt', 'holy', 'holymileyray', 'home', 'homealone', 'homebuyer', 'homederail', 'homeevacuated', 'homefolks', 'homegrown', 'homehazardous', 'homeland', 'homeless', 'homemade', 'homemiamicurfew', 'homenonehurricane', 'homeowners', 'homepage', 'homes', 'homesomecity', 'hometown', 'homeworldgym', 'homicidesnoneinjuries', 'homie', 'homiechasing', 'homosexuality', 'homra', 'homs', 'homshoms', 'honda', 'honest', 'honestly', 'honestlyvirginia', 'honey', 'honeybunzgem', 'honeymoon', 'hong', 'honolulu', 'honor', 'honored', 'honors', 'honshu', 'hood', 'hoof', 'hook', 'hooligans', 'hoop', 'hoops', 'hop', 'hope', 'hopefully', 'hopeinhearts', 'hopes', 'hopfer', 'hoping', 'hopped', 'horiikawa', 'horizon', 'horn', 'horndale', 'hornnonecollided', 'horny', 'hornybigbadwolf', 'horoscope', 'horowitz', 'horrible', 'horrific', 'horrifying', 'horror', 'horrormovies', 'horrors', 'horse', 'horsemind', 'horses', 'horsetalknzsydney', 'hospital', 'hospitality', 'hospitalized', 'hospitals', 'host', 'hostage', 'hostageglenview', 'hostages', 'hostagespune', 'hostageswestwestwestwestwestwestwesthostages', 'hosting', 'hosts', 'hostsomewherecrashed', 'hot', 'hotbox', 'hotboy', 'hotel', 'hotsingaporebloody', 'hotspot', 'hotter', 'hottest', 'hour', 'hourfamine', 'hours', 'hoursaggressive', 'house', 'househe', 'houses', 'housesunk', 'houseth', 'housing', 'houston', 'houstoninjuries', 'houstonwild', 'houstonwindstorm', 'hovecollapse', 'how_fans', 'howheart', 'howlingdrowned', 'hoxton', 'hp', 'hpssjdnoneexplosion', 'hq', 'hr', 'hrbend', 'hrips_k', 'hromadske', 'hronlinetweets', 'hrs', 'hs', 'hse', 'hsjb', 'hsu', 'htarvrglynonehijacker', 'html', 'htt', 'http', 'htxblood', 'htxcurfew', 'hubert', 'hudhud', 'huebel', 'hueco', 'huffman', 'huffpostartsnonebridge', 'huffpostrelignonearson', 'huffpostuk', 'hug', 'huge', 'hugged', 'hughes', 'hugomatzworldwide', 'huh', 'hull', 'human', 'humanconsumptionnew', 'humanconsumptionnonehazardous', 'humanitarian', 'humanity', 'humanityi', 'humanrights', 'humans', 'humaza', 'humble', 'humblelondon', 'humboldt', 'humid', 'humidity', 'humofthecitypaducah', 'hump', 'humphreynonedust', 'hunchback', 'hundreds', 'hung', 'hungarybioterrorism', 'hungaryelectrocute', 'hunger', 'hungerarticles', 'hungrier', 'hungry', 'hunhry', 'hunk', 'hunt', 'hunted', 'hunters', 'hunterston', 'hunting', 'huntington', 'huntley', 'huntsville', 'hunwx', 'hurled', 'hurricane', 'hurricane_dame', 'hurricane_dolce', 'hurricane_surge', 'hurricanechicopee', 'hurricanenonehurricane', 'hurricanes', 'hurry', 'hurt', 'hurts', 'hurtsoxfordsunk', 'husband', 'hush', 'hushlegs', 'hutch', 'huyovoetripolye', 'hvnewsnetworkhudson', 'hvzlaradio', 'hwo', 'hwrf', 'hwy', 'hyatt', 'hybrid', 'hyderabad', 'hyderabadcyclone', 'hyenatown', 'hype', 'hyped', 'hypo', 'hypocrisy', 'hysteria', 'i_electrocute', 'iabomb', 'iafflocal', 'iaffwashington', 'iamdigitalent', 'iamdowntown', 'iamhorsefly', 'iamrrsb', 'iamtonyneal', 'ian', 'ian_bartlett', 'ian_hellfire', 'ianokavo', 'iaobliterate', 'iarazed', 'iartg', 'iaruin', 'iateyourfood', 'iaweapon', 'ibadan', 'ibaraki', 'ibeto', 'ibeyiofficial', 'ibiza', 'ibizablight', 'ibom', 'ibooklove', 'ibrahimmisau', 'ic', 'icarus', 'icaseit', 'ice', 'iceland', 'iceland_reviewnonemudslide', 'icelandreview', 'icemoon', 'ices', 'icicle', 'iclown', 'iconic', 'ictyosaur', 'icymagistrate', 'icymi', 'id', 'idaho', 'idahodestroyed', 'idahodust', 'idahoforest', 'idanger', 'idclisbon', 'iddust', 'idea', 'ideals', 'ideas', 'identicalroppongi', 'identification', 'idfire', 'idfirenonewildfire', 'idgaf', 'idiot', 'idiotmorris', 'idis', 'idk', 'idlenomore', 'idol', 'idp', 'idps', 'idwpublishing', 'idwx', 'ieansquad', 'ieee', 'iembot_hfo', 'ifak', 'ife', 'iflcanada', 'ifunny', 'ig', 'iger', 'igmpj', 'ignite', 'ignition', 'ignorant', 'ignore', 'ignored', 'ihaveepisodesofgg', 'ihhen', 'ii', 'iii', 'iiii', 'iinet', 'iit', 'iiyour', 'ij', 'ijetalertsannapolis', 'ijournalsugar', 'ijustine', 'ika', 'iklen', 'ikoroduinjured', 'ikpeazu', 'il', 'ilbleeding', 'ilbuildings', 'ilchemical', 'ilcrushed', 'ilcurfew', 'ildanger', 'ilderailed', 'ilderailment', 'ildevastated', 'ildrown', 'ildrowning', 'ile', 'ilevacuated', 'ilevacuation', 'ilexplosion', 'ilford', 'ilhazard', 'ill', 'illava', 'illegal', 'illegally', 'illegals', 'illinois', 'illinoisblight', 'illinoisburned', 'illinoiscollapse', 'illinoisemergency', 'illinoishail', 'illinoisobliteration', 'illinoistrauma', 'illness', 'illogical', 'illuminated', 'illumination', 'illusion', 'illusions', 'illusoria', 'illustrated', 'illustration', 'ilnatural', 'ilnewsflash', 'ilpanic', 'ilradiation', 'ilrescued', 'ilrubble', 'ilstorm', 'ilstructural', 'ilsurvivors', 'ilviolent', 'ilwreck', 'im', 'im_razed', 'ima', 'imad', 'image', 'imagecomics', 'images', 'imaginable', 'imagine', 'imagined', 'imaging', 'imass', 'imdb', 'ime', 'imeshika', 'iminchinarescuers', 'immediate', 'immediately', 'immenselythe', 'immigrant', 'immigration', 'immortaltech', 'immune', 'imonew', 'imouto', 'impact', 'impacted', 'impacting', 'impairs', 'impending', 'imperfect', 'imperialism', 'implication', 'implode', 'implores', 'imply', 'importance', 'important', 'imported', 'imposed', 'imposing', 'imposition', 'impossible', 'impressed', 'impressive', 'imprison', 'imprisoning', 'improve', 'improved', 'improvement', 'improvements', 'improves', 'impulse', 'impulsive', 'ims', 'imsushickoflove', 'imtariik', 'ina', 'inbangalore', 'inbetween', 'incapable', 'incase', 'incessant', 'inch', 'inches', 'incident', 'incidental', 'incidents', 'incinerator', 'incitement', 'inciting', 'inciweb', 'include', 'includes', 'including', 'incognitoweapons', 'income', 'incpontevedra', 'increase', 'increased', 'increasing', 'increasingly', 'incredible', 'incredibly', 'incredulous', 'incremental', 'incurfew', 'ind', 'indah', 'indecency', 'indecisiveness', 'indemolished', 'independence', 'independent', 'indepth', 'indexing', 'indi', 'india', 'indiaablaze', 'indiaairplane', 'indiacollapse', 'indiadebris', 'indiaderailment', 'indiaeyewitness', 'indiafatal', 'indiainjured', 'indiakomuntorjawabdo', 'indian', 'indiana', 'indianablew', 'indianacasualties', 'indianaobliteration', 'indianapolis', 'indianawar', 'indiannewsmumbaiderailment', 'indianonederail', 'indianoneinjured', 'indianperpetrated', 'indians', 'indiansbridge', 'indiaobliteration', 'indiapandemonium', 'indiaquarantine', 'indiarefugees', 'indiarioting', 'indiaterrorism', 'indiaterrorist', 'indiatragedy', 'indiatv', 'indiatyphoon', 'indiawreckage', 'indictment', 'indie', 'indiefilm', 'indiegogo', 'indiepopmom', 'indifference', 'indigoe', 'indiland', 'indiscriminate', 'indistinguishable', 'individual', 'individuals', 'indo', 'indonesia', 'indonesialava', 'indonesiapolice', 'indonesiasmoke', 'indonesiastructural', 'indonesiasurvive', 'indonesiawindstorm', 'indoors', 'induced', 'industrial', 'industry', 'indyfest', 'inec', 'inengulfed', 'inevitable', 'inevitably', 'inexplode', 'inexpressible', 'infact', 'infamous', 'infantry', 'infantryman', 'infatality', 'infear', 'infected', 'infectious', 'infectiousdiseases', 'inferno', 'infested', 'infield', 'infiltrated', 'infiltration', 'infinite', 'infinity', 'influenced', 'influential', 'info', 'infomercial', 'infononeflooding', 'informant', 'information', 'infosec', 'infowars', 'infp', 'infrastructure', 'ing', 'inhail', 'initial', 'initiative', 'inj', 'injured', 'injures', 'injuries', 'injuriesnoneinjuries', 'injury', 'injuryhouston', 'injustice', 'ink', 'inner', 'innerhalb', 'inning', 'innings', 'innocent', 'innocents', 'innoneblazing', 'innonesunk', 'innovation', 'innovative', 'innsmouth', 'inputs', 'insane', 'insanelimits', 'insas', 'insects', 'insert', 'inside', 'insidenoneablaze', 'insight', 'insinkhole', 'insomnia', 'insomniacs', 'insomnialeicesterbloody', 'inspection', 'inspections', 'inspi', 'inspired', 'inspiring', 'inst', 'instagram', 'instagramers', 'instagrams', 'install', 'installation', 'installed', 'instant', 'instantly', 'instapundit', 'instaquote', 'instead', 'instincts', 'instruction', 'instructions', 'insula', 'insults', 'insurance', 'insurer', 'insurers', 'int', 'intact', 'intead', 'integrative', 'integrity', 'intel', 'intelligence', 'intendednoneblood', 'intending', 'intense', 'intensifies', 'intensity', 'intensive', 'interactions', 'interested', 'interesting', 'interestingjersey', 'interestraterise', 'interlaken', 'intern', 'internal', 'internally', 'international', 'internationalblood', 'internationalsiren', 'internet', 'internetbellevue', 'internetmeltdown', 'internetradio', 'internetssnowstorm', 'internetzpanic', 'interpretation', 'interrupt', 'intersectio', 'intersection', 'interspersed', 'interstate', 'intertissue', 'intervene', 'interview', 'interviewed', 'interviews', 'intl', 'intoxicated', 'intragenerational', 'intriguing', 'intro', 'introduced', 'introduction', 'inundated', 'inundation', 'invaded', 'invading', 'invalid', 'invasion', 'invented', 'invest', 'invested', 'investigate', 'investigated', 'investigating', 'investigation', 'investigators', 'investing', 'invincible', 'invited', 'invoices', 'invokces', 'involved', 'involves', 'involving', 'invzices', 'inåêchaos', 'io', 'iof', 'iowa', 'iowachemical', 'iowamass', 'iowawild', 'ipa', 'ipad', 'iphone', 'ipo', 'ipod', 'ir', 'iran', 'irandeal', 'irandealnonedestroyed', 'iranian', 'iranians', 'iraq', 'iraqdebris', 'iraqi', 'iraqrocky', 'iredell', 'ireland', 'irelandbloody', 'irelandbomb', 'irelandbuildings', 'irelandcatastrophic', 'irelandchemical', 'irelanddead', 'irelanddemolished', 'irelanddetonate', 'irelandfatalities', 'irelandmudslide', 'irelandobliterated', 'irelandriot', 'ireporter', 'irish', 'irishirr', 'irishspy', 'irishtimesworldnonerescued', 'ironforgehellfire', 'ironic', 'ironically', 'ironmanå', 'irons', 'irony', 'irvine', 'irwin', 'isai', 'isaiah', 'isao', 'iseavancouver', 'ish', 'isil', 'isis', 'islam', 'islamabadcrashed', 'islamaphobe', 'islamic', 'islamist', 'islamkuwait', 'islamnoneengulfed', 'islamophobearsonist', 'islamophobeoil', 'islamophobetyphoon', 'island', 'islandcatastrophic', 'islands', 'islas', 'isle', 'islip', 'isn', 'isnt', 'iso', 'isolated', 'israel', 'israelarson', 'israeldanger', 'israeli', 'israelnoneannihilation', 'israelterrorist', 'issue', 'issued', 'issues', 'ist', 'istgsingaporepanicking', 'istj', 'italian', 'italy', 'italycyclone', 'italydevastation', 'italyoutbreak', 'italypolice', 'italyrubble', 'italysnowstorm', 'italytyphoon', 'itburlington', 'itcedar', 'itcolumbusblaze', 'iteating', 'item', 'items', 'iteptxbody', 'ithellsinkhole', 'itinerary', 'itirapina', 'itkama', 'itlima', 'itlubbock', 'itnonecrashed', 'itnonedanger', 'itnoneexploded', 'itnonestretcher', 'itpennsylvaniacrushed', 'itrawcwbnonetwister', 'itsjustinstuart', 'itsnasb', 'itsqueenbaby', 'itss_selenaluna', 'itthe', 'itunes', 'itunesbioterror', 'itunesmusic', 'ituneswreckage', 'itz', 'ivano', 'ive', 'iwontmakeitmount', 'ixblizzard', 'ixwinburning', 'izi_garcia', 'ja', 'jacinta', 'jack', 'jacket', 'jackholes', 'jackie', 'jackman', 'jackmulholland', 'jackperu', 'jackson', 'jacksonambulance', 'jacksonville', 'jackwilshere', 'jaclynsonne', 'jacque', 'jacqui', 'jacquie', 'jade', 'jadehelmrepublic', 'jag', 'jagexhelpdibi', 'jagexsupport', 'jaiden', 'jail', 'jailbreak', 'jailed', 'jaipur', 'jak', 'jakarta', 'jakartarescued', 'jake', 'jake_adavis', 'jake_blight', 'jakeåê', 'jam', 'jamaica', 'jamaicabush', 'jamaicacollapsed', 'jamaicaexploded', 'jamaicaobserver', 'jamaicaplain', 'jamaicaupheaval', 'james', 'james_justus', 'jamesmelville', 'jamessnyder', 'jamie', 'jamiegriff', 'jamilazzaini', 'jamrock', 'jams', 'jan', 'janata', 'janeiro', 'janeiroblaze', 'janenelson', 'janet', 'janice', 'janiethekillr', 'jannellix', 'january', 'japan', 'japanbomb', 'japandetonate', 'japanese', 'japanexploded', 'japanhailstorm', 'japannuclear', 'japanoutbreak', 'japonnuclear', 'japsnonedeaths', 'japì_n', 'jar', 'jared', 'jasalhad', 'jasmine', 'jasminehuerta', 'jason', 'jason_floyd', 'jasoncundy', 'jass', 'java', 'jawans', 'jax', 'jay', 'jaycootchi', 'jaylenejoybeligan', 'jaymcleanauthornonefire', 'jays', 'jazz', 'jbouie', 'jbumzqpknonesinking', 'jdabe', 'jdb', 'jealous', 'jeannamibian', 'jeannathomas', 'jeans', 'jearthquake', 'jeb', 'jeddah', 'jeep', 'jeepåêsunk', 'jeez', 'jeff', 'jennasjems', 'jennellensbb', 'jenner', 'jennife', 'jennifer', 'jenniferarri_', 'jeremyduns', 'jerkface', 'jerry', 'jersey', 'jerseyblood', 'jerseycasualty', 'jerseycurfew', 'jerseydemolition', 'jerseyeyewitness', 'jerseyfatalities', 'jerseyfatality', 'jerseyfloods', 'jerseyrescue', 'jerseys', 'jerseyscreaming', 'jerseysnowstorm', 'jerusalem', 'jerusalemarson', 'jervis', 'jesse', 'jessica_stclair', 'jessie_novoa_', 'jessienovoarp', 'jesus', 'jet', 'jetixrestored', 'jetstar', 'jewelry', 'jewels', 'jewfnited', 'jewhaditm', 'jewish', 'jewishbajaurarson', 'jez', 'jfb', 'jfcnonesinking', 'jharkhandderail', 'jharkhandseismic', 'jhaustin', 'jhb', 'jhmnyenoneupheaval', 'jihad', 'jihadi', 'jimin', 'jimmozel', 'jimmy', 'jimmyfallon', 'jimskiv', 'jinx', 'jishin_e', 'jitsu', 'jitteringnonefatality', 'jiwonle', 'jkl', 'jlabuz', 'jlyon', 'jmcwrites', 'job', 'jobbing', 'jobkodiak', 'joboozoso', 'jobs', 'jobsaftershock', 'jobsalaskaemergency', 'jobsmississauga', 'jobsseattle', 'jocelyn', 'joe', 'joedawg', 'joegoodmanjr', 'joel', 'joelsherman', 'joestrong', 'joeybats', 'joeysterling', 'jogger', 'johannesburg', 'john', 'johndcgow', 'johnejefferson', 'johnjcampbell', 'johnny', 'johns', 'johnson', 'johnsontionne', 'join', 'joined', 'joint', 'joinvroom', 'joke', 'joked', 'jokin', 'jolie', 'jolly_jinu', 'jon', 'jonas', 'jonathan', 'jonathanferrellcharlotte', 'jonathanferrellearthwounds', 'jones', 'jonesboro', 'jonvoyagemiami', 'jordan', 'jordanrefugees', 'jorrynja', 'jose', 'josebasedgod', 'josedemolition', 'joseph', 'josephjetthelsinkisuicide', 'joshacagan', 'joshcorman', 'joshsternberg', 'joshuaassaraf', 'jota', 'journal', 'journalism', 'journalist', 'journey', 'journeys', 'journo', 'joxroundtable', 'joy', 'joyattacked', 'joys', 'jp', 'jr', 'js', 'jsdf', 'jst', 'jsunnews', 'jt_ruff', 'jtw', 'juan', 'juanmthompson', 'juanny', 'jubail', 'judas', 'jude_mugabi', 'judge', 'judicial', 'judith', 'judson', 'juice', 'juicy', 'jul', 'julharm', 'julian', 'julie', 'juliechen', 'juliedicaro', 'juliekragt', 'juliet', 'july', 'jump', 'jumped', 'jumpernoneengulfed', 'jumpin', 'jumps', 'junction', 'june', 'juneau', 'jungle', 'junko', 'junsuisengen', 'jupiter', 'jupiterthunderstorm', 'jury', 'jus', 'jusstdoitgirl', 'just', 'justice', 'justicemalala', 'justified', 'justifying', 'justin', 'justin_ling', 'justinbieber', 'justintrudeau', 'justjon', 'justsaying', 'justthebottle', 'jutlandbomb', 'jutta', 'jwalkerlyle', 'k_matako_bot', 'kabul', 'kach', 'kadiegrr', 'kaduna', 'kainyusanagi', 'kaiseiw', 'kakajambori', 'kakeru', 'kaldi', 'kalinandmyles', 'kalinwhite', 'kalle', 'kalmikya', 'kamayani', 'kamchatka', 'kamindoz', 'kamkasteiiano', 'kamloops', 'kamubioterrorism', 'kamunt', 'kane', 'kanger', 'kanglaonline', 'kanooutbreak', 'kansas', 'kantoseismic', 'kanye', 'kaotix_blaze', 'kapokekito', 'kappanoneriot', 'karachi', 'karachiambulance', 'karachirescue', 'karachiupheaval', 'kardashianempirebomb', 'karijobe', 'karlsruhe', 'karmanoneweapon', 'karnakarank', 'karnataka', 'karnythia', 'karymsky', 'kasab', 'kasadlla', 'kash', 'kashmir', 'kashmirinjured', 'kasiadear', 'kasiakosek', 'kasich', 'kate', 'katherine', 'kathrynschulz', 'katiecool', 'katiekatcubs', 'katramsland', 'katrina', 'katt', 'katterpì', 'katunews', 'katunewseddyville', 'kaumelite', 'kayla', 'kaylak', 'kaylen', 'kbeastx', 'kc', 'kca', 'kcrw', 'kda', 'ke', 'kebab', 'keegan', 'keen', 'keeper', 'keepingtheviginaclean', 'keeps', 'keepthefaith', 'keith', 'keithboykin', 'kelby', 'kelbytomlinson', 'kellkane', 'kellogg', 'kelly', 'kellyannwx', 'kelowna', 'kenai', 'kendall', 'kenji', 'kennedy', 'kennel', 'kenneth', 'kennethbauer_', 'kenny', 'kensington', 'kent', 'kentarmageddon', 'kentdisaster', 'kentucky', 'kentwhirlwind', 'kentwood', 'kenya', 'kenyaarson', 'kenyacollided', 'kenyaderail', 'kenyahazard', 'kenyainjury', 'kenyainundated', 'kenyaloud', 'kenyarazed', 'kenyaviolent', 'kenyawhirlwind', 'kept', 'keratin', 'kernowweapons', 'kerri', 'kerricktrial', 'kerricktrialnorth', 'kerrykatona', 'kesabaran', 'kessily', 'kessler', 'kettlebell', 'kevin', 'kevinbacon', 'kevinedwardsjr', 'kevr_', 'kexploded', 'key', 'keynes', 'kgb', 'khadidon', 'khaki', 'khalidkkazi', 'khan', 'khannawreckage', 'khartoumhellfire', 'khayelitshafear', 'khq', 'khqaquincyfatal', 'khrone', 'khulna', 'khuzdar', 'ki', 'kick', 'kicked', 'kicking', 'kicks', 'kid', 'kiddie', 'kidding', 'kiddo', 'kidicalmassdc', 'kidnap', 'kidnapped', 'kidneys', 'kids', 'kidscompany', 'kiernan', 'kiev', 'kijangbank', 'kijankenyasiren', 'kijima_matako', 'kilbridearmageddon', 'kilbymeltdown', 'kill', 'killarneydanger', 'killed', 'killer', 'killhardcalgary', 'killin', 'killing', 'killings', 'kills', 'killsåêone', 'kind', 'kinda', 'kinder', 'kinder_morgan', 'kindermorgan', 'kindle', 'kindlecountdown', 'kindlelondondisaster', 'kindly', 'kindness', 'kindof', 'kinesiology', 'kinetic', 'king', 'king_naruto_', 'kingdom', 'kingdomattack', 'kingdombody', 'kingdombuildings', 'kingdombush', 'kingdomcollapse', 'kingdomcyclone', 'kingdomdeluge', 'kingdomdisplaced', 'kingdomexplosion', 'kingdomhazard', 'kingdominundation', 'kingdomnuclear', 'kingdomobliterate', 'kingdomoil', 'kingdompanicking', 'kingdomrioting', 'kingdomsuicide', 'kingdomwounded', 'kingdomwounds', 'kingexploded', 'kingmyth', 'kingnonehail', 'kings', 'kink', 'kinkyconnors', 'kirafrog', 'kiranahmedd', 'kircut', 'kiri', 'kirkmin', 'kiroseattle', 'kirsten', 'kirstiealley', 'kisii', 'kiss', 'kissed', 'kisses', 'kissimmee', 'kisumublown', 'kit', 'kitana', 'kitchen', 'kitchevy', 'kith', 'kitten', 'kiwi_karyn', 'kjfordays', 'kla', 'klarajoelsson', 'kleenex', 'klimkin', 'klitschko', 'klondike', 'km', 'kmactwn', 'kml', 'knee', 'kneedust', 'kneel', 'kneelbotm', 'kneesamsterdam', 'knew', 'knife', 'knight', 'knob', 'knobhead', 'knock', 'knocked', 'knocking', 'knockout', 'knott', 'know', 'knowing', 'knowmo', 'known', 'knownonebody', 'knows', 'knox', 'knoxville', 'knw', 'knxlos', 'kodak', 'kodiak', 'koinnews', 'kokomo', 'kolkatademolish', 'kombat', 'kombatfans', 'komen', 'komo', 'kongdebris', 'konoha', 'kontrolled', 'kooks', 'kopiteluke', 'korea', 'koreans', 'koreaquarantined', 'kororinpa', 'korzhonov', 'kosciusko', 'kotaweather', 'kotolily_', 'kotowsa', 'kou', 'koz', 'kp', 'kpcc', 'kpdied', 'kppolice', 'kraft', 'krefeld', 'kristenkoin', 'kristindavis', 'kristyleemusic', 'ks', 'ksadust', 'ksbombing', 'ksdamage', 'kshllcenterpri', 'ksmass', 'kspanic', 'ksu', 'kswild', 'ku', 'kuala', 'kunalkapoor', 'kung', 'kunstler', 'kurd', 'kurdish', 'kurdistan', 'kurds', 'kurokobotbeside', 'kurtschlichter', 'kurvez', 'kus', 'kutztown', 'kuualohax', 'kuwait', 'kuwaitemergency', 'kwajalein', 'kwara', 'ky', 'kyhijacker', 'kyinundated', 'kyiv', 'kyle', 'kyrainstorm', 'kyrikoni', 'kyriot', 'kì', 'la', 'laaccident', 'laambulance', 'laannihilation', 'lab', 'labattle', 'label', 'laboratory', 'labour', 'labourleadership', 'labs', 'labuan', 'laced', 'lack', 'lacollide', 'lad', 'laden', 'ladesolation', 'ladies', 'lady', 'ladyfleur', 'laemergency', 'laevantine', 'lafear', 'lag', 'lagos', 'lagosdisplaced', 'lagosoutbreak', 'lagospandemonium', 'lagossuicide', 'laguna', 'lagunathreat', 'lahar', 'laid', 'laighign', 'lake', 'lakeflames', 'lakewood', 'lakh', 'lalaloopsy', 'lalava', 'lamarcus', 'lamb', 'lambasts', 'lame', 'lamia', 'lamp', 'lamps', 'lampung', 'lan', 'lana', 'lancashire', 'lancaster', 'lancasterlancaster', 'lancasteronline', 'lance', 'land', 'landfall', 'landing', 'landolina', 'lands', 'landscape', 'landscapes', 'landsli', 'landslide', 'landslides', 'landsuicide', 'lane', 'lanes', 'lanford', 'langata', 'langley', 'language', 'languages', 'languishing', 'lanjut', 'lanka', 'lankaairplane', 'lansdale', 'lansdowne', 'lansing', 'laos', 'lap', 'lapaka', 'laphamsquart', 'lapping', 'lapse', 'lara', 'large', 'larger', 'largest', 'largo', 'larious', 'las', 'lasalle', 'lashes', 'lashings', 'lassics', 'lasted', 'lasting', 'lastma', 'late', 'latechwatchnonevolcano', 'lately', 'later', 'lateral', 'latest', 'latestnews', 'latimes', 'latin', 'latina', 'latino', 'latinos', 'lattice', 'lauded', 'laudner', 'laugh', 'laughing', 'laughs', 'launch', 'launches', 'laundry', 'laura', 'lauranatural', 'laurathorne', 'lauren', 'lauren_miller_', 'laurenjauregui', 'laurennonebombed', 'laurensicle', 'lava', 'lavamadison', 'lavanonelava', 'lavapixcom', 'lavenderpoetrycafe', 'laventillemoorings', 'law', 'lawfulsurvivor', 'lawrence', 'laws', 'lawsuit', 'lawton', 'lax', 'lay', 'layang', 'layer', 'laylovetournay', 'layout', 'lburning', 'lcc', 'ldnr', 'le', 'lead', 'leader', 'leaders', 'leadership', 'leading', 'leads', 'leafs', 'league', 'leak', 'leaked', 'leaking', 'leaning', 'learn', 'learned', 'learni', 'learning', 'leather', 'leave', 'leaves', 'leaving', 'lebanon', 'lebanondust', 'led', 'lee', 'leeds', 'leedsrouge', 'leedsscreams', 'leejasper', 'leelanau', 'leesburg', 'left', 'leftwich', 'leg', 'legacy', 'legal', 'legend', 'legendary', 'legio', 'legion', 'legionna', 'legionnaires', 'legionstrackandfield', 'legislation', 'legit', 'legitimate', 'legitnonethunder', 'lego', 'legs', 'leh', 'lehigh', 'leiaorganasolo', 'leicester', 'leicester_merc', 'leicesterbridge', 'leisure', 'leitchfield', 'lemairelee', 'lembra', 'lemme', 'lemonade', 'len', 'lender', 'lengths', 'lenkaiswaifu', 'lenn_len', 'lennonparham', 'lennox', 'lenore', 'leo', 'leoblakecarter', 'leonalewis', 'leones', 'leos', 'leprosy', 'ler', 'les', 'lesbian', 'lesley_mariiee', 'lesleychappellenonecollide', 'lesnar', 'lesotho', 'lesson', 'lessonforlife', 'lessons', 'lestah', 'let', 'lethal', 'lethbridge', 'lets', 'letsfootball', 'letter', 'letters', 'letting', 'level', 'leveled', 'levels', 'levy', 'lewis', 'lexi', 'lexi_purduee', 'lexingtonambulance', 'lez', 'lfc', 'lgbt', 'lgbtlos', 'lgbtnonearson', 'lgl', 'lgmalbany', 'lh_movie', 'lia', 'liability', 'liable', 'liana_novoa', 'liar', 'libby', 'liberal', 'libertarianluke', 'liberties', 'liberty', 'libraries', 'library', 'libraryeliza', 'libs', 'libya', 'libyan', 'libyanonesuicide', 'licenses', 'lich', 'lie', 'lies', 'liesvidalia', 'liewalking', 'life', 'lifeaintfairkid', 'lifeelvytraumatised', 'lifehacks', 'lifeinjured', 'lifeits', 'lifelandslide', 'lifelong', 'lifephilippineseyewitness', 'lifestyle', 'lifetime', 'lifted', 'lifting', 'lifts', 'light', 'lightbulb', 'lightening', 'lighternoneburning', 'lighting', 'lightning', 'lightning_ooc', 'lightning_wolf_', 'lightningstrike', 'lightrail', 'lights', 'lightseraphs', 'lightumupbeast', 'liguistic', 'like', 'likeavillasboas', 'liked', 'likely', 'likened', 'likenuclear', 'likes', 'likeskoreaobliterate', 'lil', 'lilithsaintcrow', 'lilourry', 'lilreese', 'lily', 'lim', 'lima', 'limaobliterate', 'limerickemergency', 'limit', 'limitations_refugees', 'limited', 'limitscalifornia', 'limpar', 'lincoln', 'lincolninundated', 'lincolnwrecked', 'lind', 'lindasocvat', 'linden', 'lindenhurstcrashed', 'lindenow', 'lindsay', 'lindsay_wynn', 'line', 'linerless', 'link', 'linked', 'linkedin', 'linkpanic', 'links', 'linkury', 'linkwashington', 'lion', 'lionel', 'lions', 'lip', 'lips', 'lipstick', 'liquidation', 'lisavanderpump', 'lisnaskea', 'lisowski', 'lisp', 'list', 'listed', 'listen', 'listening', 'listenlive', 'listenlivenewton', 'listenlivenoneblazing', 'listeria', 'listiast', 'lit', 'lite', 'literally', 'literarycakesrochester', 'literature', 'lith', 'litter', 'little', 'littlebitofbass', 'littleton', 'liv', 'liva_gotta', 'live', 'live_workshop', 'lived', 'liveheed', 'liveleak', 'liveleakfun', 'livelihood', 'livelihoods', 'livelynonecrush', 'livemint', 'livenonecasualty', 'liveonk', 'liveonkportland', 'liveonline', 'liveonstreamate', 'liver', 'liverpool', 'liverpoolcrash', 'liverpoolsinking', 'lives', 'livesindiaderailment', 'livesmumbai', 'livesnonederailment', 'livestream', 'livin', 'living', 'livingsafely', 'livingston', 'liye', 'lizard', 'lizards', 'lizbon', 'lizz', 'lizzie', 'liì', 'ljc', 'lk', 'll', 'llf', 'lloyd', 'lmao', 'lmaononeelectrocute', 'lmaononehazard', 'lmaononescreamed', 'lmaononethunder', 'lmaononewar', 'lmaooklahoma', 'lmfao', 'lmfaocape', 'lmfaoeritreanderail', 'lmfaooo', 'lmfaoooo', 'ln', 'lnp', 'load', 'loaded', 'loading', 'loads', 'loaf', 'loan', 'loans', 'lobby', 'lobo_paranoico', 'local', 'local_arsonist', 'located', 'location', 'locationcollapse', 'lock', 'locka', 'lockdown', 'locke', 'locke_wiggins', 'locked', 'locker', 'lockout', 'locks', 'locksmithing', 'locomotive', 'locomotives', 'locusts', 'lodisilverado', 'log', 'logic', 'logically', 'logistics', 'logo', 'lol', 'lolarlington', 'lolat', 'lolatjesus', 'lolbarbadossurvive', 'lolbrooklyn', 'lolcanterbury', 'lolgop', 'lolhoustontragedy', 'lolhuber', 'lolkaneohecrush', 'lolla', 'lollapalooza', 'lolly_knickers', 'lolmnlruin', 'lolnonecrush', 'lolnoneelectrocuted', 'lolnoneexplode', 'lolnonepanicking', 'lolnonescreamed', 'lolnorthampton', 'lololkirkwalltraumatised', 'lolon', 'lolpsa', 'lolthe', 'lolworldwi', 'lolya', 'lomasvisto', 'london', 'londonannihilated', 'londonbombing', 'londoncasualties', 'londonchemical', 'londoncrashed', 'londondeluged', 'londondemolish', 'londonderail', 'londonderailed', 'londonearthquake', 'londonemergency', 'londonevacuated', 'londonexploded', 'londonexplosion', 'londonfire', 'londonheat', 'londoninjured', 'londoninjuries', 'londonlandslide', 'londonloud', 'londonmassacre', 'londonmayhem', 'londonmeltdown', 'londonmudslide', 'londonnuclear', 'londonobliterate', 'londonquarantined', 'londonrescuers', 'londonriot', 'londonrubble', 'londonseismic', 'londonsiren', 'londonsurvived', 'londontraumatised', 'londontwister', 'londonweapons', 'londonwhirlwind', 'lone', 'lonely', 'lonelyness', 'lonepine', 'loner', 'lonewolffur', 'long', 'longaberger', 'longbreastyat', 'longchicago', 'longer', 'longest', 'longnoneblazing', 'longnonesurvived', 'longs', 'loo', 'look', 'looked', 'looking', 'looks', 'lookss', 'looney', 'loooooolnonenone', 'loop', 'looping', 'loose', 'loot', 'looters', 'looting', 'lopez', 'lord', 'lordrsbiscuits', 'lore', 'loretta', 'lorr', 'lorries', 'lorry', 'los', 'losangeleslos', 'losangelestimes', 'lose', 'loseitchicagoburned', 'loseitlong', 'loses', 'losing', 'loss', 'losses', 'lost', 'lot', 'lotg', 'lotnonecrush', 'lotnonestretcher', 'lotrapped', 'lots', 'lotz', 'lou', 'loud', 'louder', 'loudest', 'loudnoneloud', 'lougheed', 'louis', 'louis_tomlinson', 'louisianabuildings', 'louisianaburning', 'louisianaexplode', 'louisianaobliteration', 'louisville', 'louisweapons', 'love', 'loved', 'lovefood', 'loveislove', 'loveland', 'lovely', 'lovelylikelaura', 'lovelynonenone', 'lovemydentist', 'lovemyjob', 'lovemywife', 'lover', 'loves', 'lovesì', 'lovethterry', 'loveyouuuu', 'loving', 'low', 'lowell', 'lower', 'lowered', 'lowkey', 'lowly', 'lowndes', 'loyalty', 'lpdklnoneblight', 'lrt', 'ls', 'lt', 'ltdave', 'ltz', 'lu', 'lubbock', 'lubrication', 'luchaunderground', 'luciacollision', 'luck', 'lucknow', 'lucky', 'lucymayofficial', 'lucysforsale', 'ludest', 'lugocollapse', 'luis', 'luisnatural', 'luiz', 'luka', 'lukebox', 'lulgzimbestpicts', 'lulu', 'lume', 'lumpur', 'lunasagalle', 'lunch', 'lungcancer', 'lungs', 'lured', 'lurkin', 'lurkingcatastrophic', 'luv', 'luzukokoti', 'lvl', 'lwb', 'lwilliams_', 'lydeard', 'lyeh', 'lying', 'lyme', 'lynbrookwindstorm', 'lynch', 'lynchburg', 'lynchonsports', 'lyndon', 'lynnfield', 'lyrics', 'lytham', 'lì_ckehijack', 'ma', 'maaaaan', 'maailiss', 'maambulance', 'maatmhi', 'mabloody', 'mabuildings', 'mac', 'maca', 'macbreck', 'macdaddy_leo', 'macedoniabody', 'machida', 'machine', 'machines', 'machismo', 'macia', 'mackay', 'mackayim', 'mackem', 'macon', 'macs', 'mad', 'madanger', 'madara', 'maddie', 'maddzz_babby', 'madeinnorthumberlandderail', 'madestroy', 'madhya', 'madinah', 'madison', 'madisonpa_', 'madmakny', 'madrid', 'madridcliff', 'madridwhirlwind', 'madridwild', 'mafatality', 'mafia', 'maflattened', 'mag', 'magazine', 'mageavexis', 'magellan', 'mages', 'magginoodle', 'magic', 'magical', 'magisters', 'magne', 'magner', 'magnetic', 'magnets', 'magnificent', 'magnitude', 'magnitudeåêåêml', 'magnolia', 'magnoliadisplaced', 'magnum', 'magu', 'maharashtraelectrocuted', 'maharashtrahostages', 'maharashtrasurvived', 'maharashtrawreckage', 'mahurricane', 'maid', 'maiga', 'mail', 'main', 'maine', 'mainedeaths', 'maineemergency', 'mainland', 'mainline', 'mainly', 'mainstagecoventryinundated', 'maintain', 'maintained', 'maintenance', 'maj', 'majesty', 'major', 'majority', 'makaifire', 'make', 'makerthe', 'makes', 'maketh', 'making', 'makinmemories', 'malabamiandsons', 'malangriot', 'malatya', 'malaysia', 'malaysiaairlinesnonewreckage', 'malaysiacollide', 'malaysiadebris', 'malaysiaemergency', 'malaysiahijacking', 'malaysiainjury', 'malaysian', 'maldivesdestruction', 'males', 'malibusurvivors', 'malik', 'malistkiss', 'malkaviuscollide', 'mall', 'mallelis', 'mallord', 'malt', 'malta', 'mama', 'mamata', 'mammy', 'man', 'manage', 'managed', 'management', 'manager', 'managers', 'manavadar', 'manchester', 'manchestercollided', 'manchesterdevastated', 'manchesteremergency', 'manchesterlitemanchesterevacuated', 'manchesterpanicking', 'mandate', 'mandatory', 'mandela', 'mane', 'manhattan', 'manhattanpanic', 'manhood', 'mania', 'manila', 'maniladisplaced', 'manitobaobliterated', 'manitobaruin', 'mankato', 'mankind', 'mannequin', 'mannered', 'manor', 'manorannihilated', 'manorblown', 'mansehra', 'mansion', 'mansiondrowned', 'mansionflattened', 'manslaughter', 'mantra', 'manually', 'manuel', 'manufactured', 'manutd', 'manåêarmed', 'maobliterated', 'map', 'maple', 'mapleridge', 'mapmyrun', 'maps', 'mar', 'marainstorm', 'maratha', 'marbella', 'marble', 'marc_holl', 'march', 'marchesnatural', 'marecrashed', 'marek', 'margarita', 'marge', 'marginoferror', 'maria', 'mariaf', 'mariah', 'mariahcarey', 'mariankeyes', 'marians', 'mariasherwood', 'maricopa', 'marijuana', 'marin', 'marine', 'marinelines', 'mariomaraczi', 'mark', 'mark_argent', 'marked', 'marker', 'market', 'marketforce', 'marketingåêmediocrity', 'markets', 'markkriegsman', 'markoturner', 'marks', 'marksmaponyane', 'markwschaefertoronto', 'marlene', 'marley', 'marleyknysh', 'marlon', 'maroute', 'marquez', 'marquis', 'marr', 'marrakech', 'marriage', 'marrie', 'married', 'marsflattened', 'marshall', 'mart', 'martial', 'martinmj', 'martynwaites', 'marvel', 'marvellouschristchurch', 'marvins', 'mary', 'maryland', 'marylandcollision', 'marylanddamage', 'marylandsmoke', 'marynmck', 'marysville', 'mas', 'masandstorm', 'mascara', 'mash', 'mask', 'masnowstorm', 'mason', 'masonite', 'mass', 'massachusetts', 'massachusettsinjury', 'massachusettsinundated', 'massachusettsvolcano', 'massachusettsweapon', 'massacre', 'masse', 'masselectrocute', 'massive', 'master', 'mastercheflynchburg', 'masterpiece', 'masters', 'masturbates', 'masturbation', 'mat', 'mataas', 'matako_', 'matbody', 'match', 'matching', 'matchwood', 'mate', 'matenonecliff', 'mateo', 'materialism', 'materials', 'math', 'matias', 'mats', 'matsepecyclone', 'matt', 'matt_bez', 'matt_kroschel', 'mattburgener', 'mattcohenfake', 'matter', 'matters', 'mattersacramento', 'matthew', 'mattson', 'mattytalks', 'mauds', 'maui', 'mauritiusattacked', 'mauryn', 'max', 'maxi', 'maximum', 'maxsys', 'mayan', 'maybe', 'mayflower', 'maygodhelpusradiation', 'mayhem', 'mayhemboston', 'mayhemglobal', 'mayhemworldwide', 'mayonnaise', 'mayor', 'mayoroflondon', 'mayweather', 'mazing', 'mb', 'mba', 'mbataweel', 'mbikersquarantined', 'mbiwa', 'mc', 'mccain', 'mccainenl', 'mcclain', 'mcconnell', 'mcdonalds', 'mcfaul', 'mcgsecuremarylandhijack', 'mchapmanwsaz', 'mchenry', 'mcilroy', 'mcmahon', 'mcnabbychic', 'mcr', 'mcv', 'md', 'mdash', 'mdbioterror', 'mdburning', 'mdchemical', 'mddanger', 'mddeath', 'mddrowning', 'mdevacuate', 'mdevacuation', 'mdfear', 'mdflattened', 'mdmayhem', 'mdnuclear', 'mdt', 'mdtrauma', 'meade', 'meadowdevastated', 'meaganerd', 'meals', 'mean', 'meaning', 'meaningless', 'means', 'meant', 'measurement', 'meat', 'meats', 'mebaton', 'mebrowardcounty', 'mechanical', 'mechanicsburg', 'med', 'medals', 'medford', 'media', 'mediaatxattacked', 'mediaguido', 'medic', 'medical', 'medicine', 'medics', 'medieval', 'mediterran', 'mediterranean', 'medium', 'meds', 'medusa', 'meek', 'meekatl', 'meekmiami', 'meekmill', 'meereen', 'meerkat', 'meet', 'meeting', 'meetkakarotto', 'meets', 'mefire', 'meflattened', 'meg', 'mega', 'megadeth', 'megalpolis', 'meganbee', 'megancoopy', 'megaquake', 'megatronafc', 'megynkelly', 'mehostage', 'meinlcymbals', 'melbourne', 'melbournebombed', 'melbournecyclone', 'melbournedrowned', 'melbournesurvive', 'melbourneterrorism', 'mello', 'melondonstantraumatised', 'melrosecollapse', 'melt', 'meltdown', 'meltdownnola', 'meltdownnonemeltdown', 'meltebridge', 'melton', 'melts', 'memanchestersnowstorm', 'member', 'members', 'membuahkan', 'meme', 'memenaar', 'memenetflattened', 'memes', 'memesphereobliterate', 'memorable', 'memorial', 'memories', 'memory', 'memphis', 'memphisbioterror', 'memphissinking', 'memphissuicide', 'men', 'menahem', 'menasha', 'mencius', 'menoneblazing', 'menonefatality', 'menoneharm', 'menonepolice', 'menonetraumatised', 'menpa', 'menpunpunlì', 'mens', 'menswear', 'mental', 'mentalhealthgov', 'mentality', 'mentally', 'mention', 'mentioned', 'mentions', 'mentor', 'meowing', 'mercadosnonesuicide', 'mercenary', 'mercy', 'mere', 'meridian', 'merle', 'merycormier', 'mesa', 'mesh', 'meshnewsdeskfloridainjured', 'mesick', 'mesitting', 'mesmerizing', 'mess', 'message', 'messages', 'messed', 'messenger', 'messeymetoo', 'messi', 'messnermatthew', 'met', 'metal', 'metallica', 'metaphorically', 'metastatic', 'meteoearth', 'metepec', 'meter', 'meters', 'methey', 'method', 'metlife', 'metrics', 'metro', 'metrobus', 'metrofmtalk', 'metrofmtalkiraq', 'metrohostages', 'metroid', 'metropolis', 'metropolitan', 'metrotown', 'mets', 'mexican', 'mexico', 'mexicobridge', 'mexicofear', 'mexicoheat', 'meyerbjoern', 'mezcal', 'mf', 'mfi', 'mfrwauthor', 'mfs', 'mgm', 'mgr', 'mgtabvictoria', 'mh', 'mhmmm', 'mhnonedebris', 'mhtnew', 'mhtwfnet', 'mi', 'mi_country_hick', 'mia', 'miami', 'miamidrought', 'miannihilated', 'miblew', 'mic', 'michael', 'michaelsos', 'michaelwestbiz', 'michele', 'michele_nfpaintermountain', 'michelebachman', 'michigan', 'michigancollide', 'michigancollided', 'michiganemergency', 'michiganfirst', 'michiganfloods', 'michigannatural', 'mickinyman', 'micollided', 'micom', 'microchip', 'microlight', 'microphone', 'microsoft', 'microsofts', 'microwave', 'mics', 'mid', 'midamage', 'middle', 'middleeasteye', 'middlesbrough', 'mideath', 'midfield', 'midget', 'midlandsflooding', 'midlandsloud', 'midnight', 'midnightcarregadofear', 'mido', 'midrown', 'midweek', 'midwest', 'midwestern', 'midwesthostages', 'miearthquake', 'mielectrocute', 'mifatality', 'miflattened', 'migrant', 'migrants', 'mika', 'mike', 'mikecroninwmurnew', 'mikeparractor', 'mikeparractoryou', 'mil', 'mild', 'mile', 'miles', 'mili_', 'milioooo_', 'milita', 'militant', 'militants', 'militarism', 'military', 'militarydotcomnonemilitary', 'milk', 'milkshake', 'milky', 'millcityio', 'milledgeville', 'millennium', 'million', 'millions', 'milne', 'milton', 'milwaukee', 'milwaukeemayhem', 'mimeltdown', 'min', 'minaj', 'minamisomanew', 'minato', 'mind', 'minded', 'mindless', 'minds', 'mindstretcher', 'mindsunk', 'minecraft', 'mineness', 'mineral', 'miners', 'mingo', 'minhazmerchant', 'mini', 'miniature', 'minimal', 'minimum', 'mining', 'minion', 'minions', 'minister', 'ministers', 'ministry', 'minneapolis', 'mino', 'minor', 'minority', 'mins', 'minsmelbourne', 'minsuwoongs', 'minuscule', 'minute', 'minutemixsf', 'minutes', 'minutiae', 'mipasho', 'mir', 'miracle', 'mirage', 'miranda', 'mirkwood', 'mirrorlady', 'mirrors', 'miscalculation', 'misdirection', 'misery', 'misfit', 'misfitrarity', 'misfortunebut', 'misguided', 'misha', 'mishacollins', 'mishaps', 'misled', 'miss', 'miss_homasttopa', 'missambear', 'misscharleywebbgwersyllt', 'missdaoh', 'missed', 'misses', 'missiles', 'missing', 'mission', 'missionhills', 'mississauga', 'missjadebrown', 'missleylaha', 'missouri', 'missouridrown', 'missourifirst', 'misstepthe', 'mistake', 'mistaken', 'mistakes', 'mistreated', 'mistress', 'mistresspip', 'mistrustful', 'misty', 'mithitennis', 'mitigation', 'mitragedy', 'mitrauma', 'mitrouble', 'mitt', 'miwhirlwind', 'mix', 'mixes', 'mixtape', 'miyagi', 'miì', 'mk', 'mkayla', 'mkx', 'ml', 'mlb', 'mlbinternetwhirlwind', 'mlbsomewhere', 'mlg', 'mlk', 'mlm', 'mln', 'mlrydalch', 'mm', 'mma', 'mmchale', 'mmfanonepolice', 'mmmmandy', 'mmmmmm', 'mmxi', 'mn', 'mnblown', 'mnchemical', 'mndeaths', 'mnfire', 'mnlinjury', 'mnpdnashville', 'mntrauma', 'mo', 'moaccident', 'moan', 'mobile', 'mobilenonebioterror', 'mock', 'mockingpanems', 'mocrush', 'mod', 'modanger', 'mode', 'model', 'modelaredo', 'modelbubbles', 'models', 'moderate', 'moderately', 'modern', 'modernist', 'modernized', 'modesouthern', 'modest', 'modey', 'modi', 'modibo', 'modified', 'modiministry', 'modis', 'modoc', 'moe', 'mofamine', 'mofanon', 'moferadio', 'mofo', 'mogacola', 'mogadishu', 'mohali', 'mohammed', 'mohijack', 'moines', 'moinjuries', 'moir', 'moist', 'mold', 'mole', 'molecularly', 'molloy', 'mom', 'momassacre', 'moment', 'momentfear', 'momentlondon', 'moments', 'momneedscoffee', 'moms', 'mon', 'moncton', 'monday', 'monetary', 'money', 'moneybushkill', 'monica', 'monitor', 'monitoring', 'monkey', 'monkeys', 'monogram', 'monologue', 'monopolized', 'mons', 'monsoon', 'monster', 'monsters', 'monstrosities', 'montalbanony', 'montana', 'montanaaccident', 'montanamilitary', 'montego', 'monterrey', 'montgomery', 'month', 'monthly', 'months', 'monticello', 'montrealdestruction', 'montroseband', 'montrì', 'mood', 'moodnoneruin', 'moon', 'moonfire', 'mooniighthunty', 'moore', 'moorekauai', 'mooresville', 'moorsmeltdown', 'mooseknuckle', 'mop', 'mopheme', 'moral', 'morales', 'morality', 'morbid', 'morbidmoviesst', 'moreland', 'morels', 'moremogadishu', 'mores', 'morevoicesmichiganevacuated', 'morgan', 'morioh', 'morn', 'morning', 'morningheaded', 'morningsacramento', 'morocco', 'moroccodisaster', 'moron', 'mortal', 'mortar', 'mortified', 'morty', 'moscow', 'moscow_ghost', 'moscowsuicide', 'moseby', 'mosh', 'moshav', 'mosque', 'mosquitoesnoneobliterate', 'mossarsonist', 'moth', 'motha', 'mothe', 'mother', 'mothernature', 'mothernaturenetwork', 'motion', 'motivated', 'motivation', 'motivationnoneblaze', 'motley', 'motogp', 'motor', 'motorcycle', 'motorcyclist', 'motorists', 'motors', 'mount', 'mount_wario', 'mountain', 'mountaineering', 'mountainous', 'mountains', 'mountainsblizzard', 'mountainshostages', 'mountainsweapons', 'mounts', 'mourning', 'mourns', 'mouse', 'mousse', 'mouth', 'moved', 'movement', 'moves', 'movie', 'movienonedemolition', 'movieoregon', 'movies', 'movietheatre', 'moving', 'movingk', 'moyo', 'mp', 'mpers', 'mph', 'mpp', 'mr', 'mrrobinson', 'mrtophypup', 'mrw', 'ms', 'msbioterror', 'msf', 'msgdoingwelfareworks', 'mshail', 'msmiggi', 'msmigot', 'msnbc', 'msoreo_', 'mt', 'mtgrotto', 'mthe', 'mtr', 'mtsalert', 'mtvhottest', 'mtvsummerstar', 'mtwrecked', 'muchbangor', 'muchnonedeluge', 'muchnonehazard', 'mud', 'mudslide', 'mudslidelondonmudslide', 'mudslidenonemudslide', 'mudslidetring', 'muduruattack', 'mueller', 'mufc', 'muffle', 'muhamadjabalnoneoutbreak', 'mulan', 'mulberry', 'mullah', 'mullahcarry', 'mullin', 'multi', 'multidimensi', 'multinational', 'multiplayer', 'multiple', 'mum', 'mumbai', 'mumbaiattack', 'mumbaibridge', 'mumbaiburning', 'mumbaiderailment', 'mumbaiinjured', 'mumbailocals', 'mumbaimumbai', 'mumbaimumbaiderailment', 'mumbainoneattack', 'mumbairiot', 'mumbaiwreckage', 'mumbaix', 'mumbling', 'munch', 'muncle_jim', 'mundofatality', 'municipal', 'muntinlupa', 'muppetderbyflattened', 'murder', 'murdered', 'murderer', 'murdererearthmass', 'murderfiore', 'murderous', 'murders', 'murfreesboro', 'murray', 'muscle', 'muse', 'museum', 'mushroom', 'music', 'musicadvisoryst', 'musician', 'musicians', 'musicnew', 'musicnonefirst', 'musicvideo', 'musik', 'musk', 'muslim', 'muslims', 'mute', 'mutek_montreal', 'muzzamil', 'muzzies', 'mv', 'mwednesdayhustletownmeltdown', 'mwjcdknonedestruction', 'mwnhappy', 'mx', 'myanmar', 'mydrought', 'myelf', 'myers', 'myfitnesspaldcburned', 'myfriendmina', 'mygc', 'mylifestory', 'mylittlepwnies', 'mypillowstudio', 'myreligion', 'mystery', 'mzgraciebaby', 'mzmandilynn', 'mì', 'mì¼sica', 'mìáscollapsed', 'na', 'naaa', 'naayf', 'nadiad', 'naemolgo', 'nafeezahmed', 'nagasaki', 'nagaski', 'nah', 'nail', 'nails', 'nairobi', 'nairobicasualty', 'nairobiderail', 'nairobifatality', 'najib', 'najibrazak', 'naked', 'nakhon', 'nalathekoala', 'named', 'namekians', 'names', 'nan', 'nanaimo', 'nanking', 'nanotech', 'naomi', 'nap', 'napa', 'napervilledisaster', 'napnonesiren', 'nar', 'narcissism', 'narendramodi', 'narniapanic', 'narrated', 'narrative', 'narrowly', 'narry', 'nars', 'nasa', 'nasahurricane', 'nasasolarsystem', 'nashville', 'nashvilleevacuate', 'nashvillefirst', 'nasty', 'natalia', 'natalie', 'nataliealund', 'nataly', 'natgeosouth', 'nathan', 'nation', 'national', 'nationals', 'nations', 'nationwideforest', 'native', 'nativecrush', 'nativehuman', 'nato', 'natsu', 'natural', 'naturaldisasters', 'nature', 'natureusaflooding', 'natwest', 'naval', 'navbl', 'naved', 'navigate', 'navigating', 'navista', 'navy', 'nawh', 'naypyidaw', 'nazi', 'nb', 'nba', 'nbc', 'nbcnews', 'nbcnewsthe', 'nbcnightlynews', 'nbcpolitics', 'nbn', 'nbodesolation', 'nc', 'ncaccident', 'ncambulance', 'ncblew', 'ncbody', 'ncdamage', 'ncdeaths', 'ncdeluge', 'ncdetonate', 'ncemergency', 'ncepicentre', 'ncflames', 'ncforest', 'ncinjured', 'ncmayhem', 'ncpandemonium', 'ncrescued', 'ncsiren', 'ncsnowstorm', 'ncstorm', 'ncstretcher', 'ncterrorism', 'nctornado', 'ncwx', 'nd', 'nda', 'ndabndiv', 'ndasheville', 'ndetention', 'ndflattened', 'ndiablood', 'ndstretcher', 'ndtvnonederailment', 'ndzedze', 'ne', 'neanderrebel', 'neanea', 'near', 'nearby', 'nearing', 'nearly', 'nears', 'neath', 'neattack', 'nebomb', 'nebraska', 'necessary', 'neck', 'necrashed', 'necro', 'neddick', 'need', 'needed', 'needing', 'needle', 'needs', 'negara', 'negative', 'neglect', 'negotiating', 'negros', 'neharm', 'neighborhood', 'neighborhoodgreenpointsinkhole', 'neighboring', 'neighbors', 'neighbour', 'neil', 'neil_eastwood', 'nelson', 'nelspruit', 'nema', 'nemesisk_pes', 'nennicook', 'nenuclear', 'neoprogressive', 'nepal', 'nepd_loyko', 'nerve', 'nervous', 'nestleindia', 'netanyahu', 'netbuildings', 'netflix', 'netflixcrushed', 'netherlands', 'netherlandsbombed', 'netherlandsheat', 'netherlandslightning', 'netherlandsnuclear', 'netherlandsoutbreak', 'netherlandsweapons', 'netkicorp', 'netlabel', 'network', 'neursis', 'nevada', 'nevadachemical', 'nevadaemergency', 'nevadahail', 'nevadaoil', 'nevaehburton', 'neverforgetwales', 'neverland', 'neverlandcrushed', 'nevermore', 'new', 'new_hart', 'newave', 'newbeginningsanimalrescuenew', 'newberg', 'newbie', 'newcastle', 'newcastledeluged', 'newcastledemolished', 'newcastleengulfed', 'newcastlesinkhole', 'newcitychicagodemolition', 'neweapons', 'newest', 'newly', 'newlyweds', 'newport', 'newrelease', 'news', 'newsadl', 'newsamsterdam', 'newsaramaearth', 'newsaramatampa', 'newsaustraliarefugees', 'newsbrisbane', 'newsbuffalo', 'newschicago', 'newscomauhqnonethreat', 'newsconcord', 'newsdebris', 'newsdict', 'newser', 'newsevacuated', 'newsflooding', 'newsfreeport', 'newsgoldcoast', 'newshere', 'newsindiarescue', 'newsindiatragedy', 'newsintweets', 'newsjohannesburg', 'newsmorningsdenver', 'newsmoscowdestruction', 'newsnigeriarescuers', 'newsnonedeaths', 'newsnoneinjured', 'newsnoneoil', 'newsnonequarantined', 'newsnonerescuers', 'newsnonesuicide', 'newsnonetrapped', 'newsnoneweapons', 'newsny', 'newsome', 'newspaper', 'newsroomwounded', 'newsunited', 'newswatch', 'newyork', 'newyorkcity', 'newyorkerquito', 'newz_sacramentononedust', 'nf', 'nfl', 'nflexpertpicks', 'nfpa', 'ngata', 'nghlthlagosdeaths', 'ngx', 'nh', 'nhaccident', 'nhbloody', 'nhl', 'nhnewsconcord', 'nhs', 'nia', 'niagara', 'niall', 'niallhariss', 'nice', 'nick', 'nickcannon', 'nickcocofree', 'nicki', 'nicklee', 'nicolaclements', 'nicole', 'nicoma', 'nicosiafear', 'niece', 'nigeltanner', 'nigeria', 'nigeriablazing', 'nigeriabomb', 'nigeriacliff', 'nigeriademolish', 'nigeriademolition', 'nigeriaderailed', 'nigeriadesolation', 'nigeriadisaster', 'nigeriadisplaced', 'nigeriadrought', 'nigeriafloods', 'nigeriahijack', 'nigerian', 'nigerians', 'nigeriaoutbreak', 'nigeriapandemonium', 'nigeriapolice', 'nigeriarainstorm', 'nigeriarazed', 'nigeriarescued', 'nigeriarubble', 'nigeriasuicide', 'nigeriasurvived', 'nigeriawounds', 'nigga', 'niggas', 'night', 'nightbeat', 'nightmare', 'nightmares', 'nightmarishly', 'nightnoneruin', 'nights', 'niiiicevictoria', 'nike', 'nikeplus', 'nikistitz', 'ninja', 'nino', 'nintendo', 'niqqa', 'nissannews', 'nitclub', 'nite', 'nitishkumar', 'nitroglycerin', 'nixon', 'nj', 'njcasualties', 'njcatastrophe', 'njchemical', 'njcollide', 'njdrowned', 'njemergency', 'njenga', 'njexploded', 'njfatal', 'njfire', 'njfirst', 'njflooding', 'njh', 'njlava', 'njobliteration', 'njsinkhole', 'nkea', 'nkeajresq', 'nkulw', 'nl', 'nlccollide', 'nlm_dimrc', 'nm', 'nmnuclear', 'nnoneterrorist', 'nnw', 'noaa', 'noah_anyname', 'noahcrothman', 'noahshack', 'nobleman', 'nobliterated', 'noches', 'nochilllukehammings', 'noel', 'noemotion', 'noirandeal', 'noise', 'noises', 'nojokenonecollided', 'nolatwister', 'nolausanatural', 'nolocationflooding', 'nolocationfloods', 'nomad', 'nominates', 'nominations', 'nomiya', 'nomorehandoutsscottsdale', 'non', 'noneablaze', 'noneaccident', 'noneaftershock', 'noneairplane', 'noneambulance', 'noneannihilated', 'noneannihilation', 'noneapocalypse', 'nonearmageddon', 'nonearmy', 'nonearson', 'noneattack', 'noneattacked', 'noneavalanche', 'nonebattle', 'nonebioterror', 'nonebioterrorism', 'noneblaze', 'noneblazing', 'nonebleeding', 'noneblew', 'noneblight', 'noneblizzard', 'noneblood', 'nonebloody', 'noneblown', 'nonebody', 'nonebomb', 'nonebombed', 'nonebombing', 'nonebridge', 'nonebuildings', 'noneburned', 'noneburning', 'nonebush', 'nonecasualties', 'nonecasualty', 'nonecatastrophe', 'nonecatastrophic', 'nonechemical', 'nonecliff', 'nonecollapse', 'nonecollapsed', 'nonecollide', 'nonecollided', 'nonecollision', 'nonecrash', 'nonecrashed', 'nonecrush', 'nonecrushed', 'nonecurfew', 'nonecyclone', 'nonedamage', 'nonedanger', 'nonedead', 'nonedeath', 'nonedeaths', 'nonedebris', 'nonedeluge', 'nonedeluged', 'nonedemolished', 'nonedemolition', 'nonederail', 'nonederailed', 'nonederailment', 'nonedesolate', 'nonedesolation', 'nonedestroy', 'nonedestroyed', 'nonedestruction', 'nonedetonate', 'nonedetonation', 'nonedevastated', 'nonedevastation', 'nonedisaster', 'nonedisplaced', 'nonedrought', 'nonedrown', 'nonedrowned', 'nonedrowning', 'nonedust', 'noneearthquake', 'noneelectrocute', 'noneelectrocuted', 'noneemergency', 'noneengulfed', 'noneepicentre', 'noneevacuate', 'noneevacuated', 'noneevacuation', 'noneexplode', 'noneexploded', 'noneexplosion', 'noneeyewitness', 'nonefamine', 'nonefatal', 'nonefatalities', 'nonefatality', 'nonefear', 'nonefire', 'nonefirst', 'noneflames', 'noneflattened', 'noneflood', 'noneflooding', 'nonefloods', 'noneforest', 'nonehail', 'nonehailstorm', 'noneharm', 'nonehazard', 'nonehazardous', 'noneheat', 'nonehellfire', 'nonehijack', 'nonehijacker', 'nonehijacking', 'nonehostage', 'nonehostages', 'nonehurricane', 'noneinjured', 'noneinjuries', 'noneinjury', 'noneinundated', 'nonelandslide', 'nonelava', 'nonelightning', 'noneloud', 'nonemass', 'nonemassacre', 'nonemayhem', 'nonemeltdown', 'nonemilitary', 'nonemudslide', 'nonenatural', 'nonenone', 'nonenuclear', 'noneobliterate', 'noneobliterated', 'noneobliteration', 'noneoil', 'noneoutbreak', 'nonepandemonium', 'nonepanic', 'nonepanicking', 'nonepolice', 'nonequarantine', 'nonequarantined', 'noneradiation', 'nonerainstorm', 'nonerazed', 'nonerefugees', 'nonerescue', 'nonerescued', 'nonerescuers', 'noneriot', 'nonerioting', 'nonerubble', 'noneruin', 'nonesandstorm', 'nonescreamed', 'nonescreaming', 'nonescreams', 'noneseismic', 'nonesinkhole', 'nonesinking', 'nonesiren', 'nonesirens', 'nonesmoke', 'nonesnowstorm', 'nonestorm', 'nonestretcher', 'nonestructural', 'nonesuicide', 'nonesunk', 'nonesurvive', 'nonesurvived', 'nonesurvivors', 'noneterrorism', 'noneterrorist', 'nonethunder', 'nonethunderstorm', 'nonetornado', 'nonetragedy', 'nonetrapped', 'nonetrauma', 'nonetraumatised', 'nonetrouble', 'nonetsunami', 'nonetwister', 'nonetyphoon', 'noneupheaval', 'noneviolent', 'nonevolcano', 'nonewar', 'noneweapon', 'noneweapons', 'nonewhirlwind', 'nonewild', 'nonewildfire', 'nonewindstorm', 'nonewounded', 'nonewounds', 'nonewreck', 'nonewreckage', 'nonewrecked', 'nonexistent', 'nononecollapsed', 'nonprofit', 'nonsensewounds', 'noodles', 'noonan', 'noooo', 'noooooooo', 'noooooooooooo', 'nope', 'nopowernonetsunami', 'nora', 'nordrhein', 'norf', 'norfolk', 'norgeaarhus', 'norgedestroyed', 'normal', 'normally', 'norman', 'norse', 'nort', 'north', 'northbayhealth', 'northbound', 'northeast', 'northern', 'northerncalifornia', 'northfatalities', 'northgate', 'northrazed', 'northwest', 'northwestern', 'norwalk', 'norway', 'norwayattacked', 'norwaymassacre', 'norwaymfa', 'nose', 'nosepennsylvania', 'nosso', 'nostalgia', 'nostrils', 'nosurrender', 'nosy_beafricarescuers', 'note', 'notexplained', 'notgoingoutinthat', 'nother', 'nothingness', 'notice', 'noticed', 'notices', 'notifications', 'notificationstrauma', 'notificationsu', 'notified', 'noting', 'notion', 'notley', 'notoriety', 'notorious', 'notre', 'notrocketsciencetop', 'nottingham', 'nottinghamcatastrophic', 'nottinghammudslide', 'nottsmudslide', 'nouvelle', 'nov', 'nova', 'novalismi', 'novel', 'novelsurvived', 'november', 'novi', 'nowforest', 'nownonefire', 'nowplay', 'nowplaying', 'nowplayingsan', 'nowplayingtoronto', 'nowsan', 'nowshity', 'nowt', 'nowtractor', 'nowwwwww', 'noxdvnonedemolition', 'noxious', 'np', 'nphiladelphia', 'npzp', 'nrahaddonfield', 'nrc', 'nrc_middleeast', 'nri', 'nrwpanic', 'ns', 'nsa', 'nsf', 'nsfw', 'nsfwlive', 'nside', 'nsit_', 'nssurvivors', 'nsw', 'nswblight', 'nswbush', 'ntevacuation', 'ntsb', 'nu', 'nuclear', 'nuclearweapons', 'nude', 'nudes', 'nueva', 'nuff', 'nugget', 'nuggets', 'nuh', 'nuke', 'nuked', 'nukes', 'number', 'numbered', 'numbers', 'numenorsurvivors', 'nurgle', 'nurse', 'nurses', 'nursing', 'nut', 'nuts', 'nuu', 'nuys', 'nv', 'nvburning', 'nvemergency', 'nvfatality', 'nvhostages', 'nvr', 'nw', 'nwo', 'nwoglobalattack', 'nws', 'nwsbayareasan', 'nwspocatello', 'nwt', 'nxwestmidlands', 'ny', 'nyack', 'nyamanwounded', 'nyannihilated', 'nyapocalypse', 'nyattacked', 'nyavalanche', 'nybioterrorism', 'nyblew', 'nyburning', 'nyburst', 'nyc', 'nycairplane', 'nycatastrophic', 'nycattack', 'nycbattle', 'nycbody', 'nycbush', 'nycdeluge', 'nycderailed', 'nycdestruction', 'nycelectrocuted', 'nycha', 'nycollision', 'nycrioting', 'nycscreaming', 'nycupheaval', 'nycwhirlwind', 'nydanger', 'nydeluge', 'nydemolition', 'nydetonate', 'nydevastation', 'nydrowning', 'nyemergency', 'nyengulfed', 'nyeyewitness', 'nyfatal', 'nyfatality', 'nyfear', 'nyflames', 'nyfloods', 'nygnoneinjury', 'nyharm', 'nyhellfire', 'nyhijack', 'nyinjured', 'nyinjuries', 'nykae', 'nykaed_', 'nylon', 'nymilitary', 'nynatural', 'nynuclear', 'nyoil', 'nyoutbreak', 'nypanic', 'nypd', 'nypdnews', 'nypolice', 'nyse', 'nysinkhole', 'nysnowstorm', 'nysuicide', 'nysurvive', 'nyt', 'nytimes', 'nytsunami', 'nyupheaval', 'nyweapon', 'nywounded', 'nywrecked', 'nz', 'nzpanic', 'nå¼', 'o_magazine', 'o_o', 'oak', 'oakland', 'oaklanddesolate', 'oakridge', 'oamsgajagahahah', 'oatlanta', 'obama', 'obedience', 'obispo', 'object', 'objection', 'objects', 'obligations', 'obliterate', 'obliterated', 'obliteratednew', 'obliteratedprob', 'obliteratedsatan', 'obliteratedvalparaiso', 'obliteration', 'obliterationnoneobliteration', 'oblivion', 'observer', 'obsessed', 'obstacles', 'obviously', 'oc', 'ocampo', 'occasion', 'occasionbabove', 'occasionjersey', 'occupants', 'occupational', 'occupyoutbreak', 'occurred', 'occurrence', 'occurs', 'ocean', 'oceans', 'ocnj', 'oct', 'ocx', 'odawara', 'odd', 'oddball', 'odds', 'odeon', 'oem', 'ofentse_tsiein', 'offended', 'offenders', 'offenses', 'offensive', 'offensiveåêcontent', 'offer', 'offers', 'offersgo', 'office', 'officer', 'officers', 'offices', 'official', 'officialcoredjs', 'officially', 'officialrealrap', 'officials', 'officialtjonez', 'offing', 'offline', 'offr', 'offramp', 'offroad', 'offs', 'offshoot', 'offshore', 'offside', 'offsite', 'offspring', 'offtrackhorsenonerescued', 'oficial', 'ofnsixjks', 'ofr', 'ogba', 'ogtomd', 'ogun', 'oh', 'ohaccident', 'ohblaze', 'ohblight', 'ohblood', 'ohbody', 'ohbomb', 'ohcasualty', 'ohcrash', 'ohdead', 'ohexplosion', 'ohfatalities', 'ohh', 'ohhhh', 'ohhostages', 'ohio', 'ohioablaze', 'ohioattack', 'ohioblight', 'ohioblizzard', 'ohiocrush', 'ohiodeluge', 'ohiofatalities', 'ohioinundated', 'ohioquarantined', 'ohiorioting', 'ohiosirens', 'ohioweapons', 'ohmygoshi', 'ohmyloz', 'ohruin', 'ohscreamed', 'ohthreat', 'ohvolcano', 'ohwildfire', 'ohwounds', 'ohyayyyyay', 'oi', 'oil', 'oilnoneheat', 'oils', 'ojodu', 'ok', 'okanagan', 'okanowa', 'okay', 'okaydunwoody', 'okayyyyyy', 'okbuildings', 'okcfoxoklahoma', 'okexplode', 'okgabby_', 'okgooner', 'okheat', 'okinawa', 'okinawan', 'okiowa', 'okla', 'oklahoma', 'oklahomablown', 'oklahomabuildings', 'oklahomaearthquake', 'oklahomahail', 'oklahomalightning', 'oklahomarescue', 'okrazed', 'oks', 'okscreaming', 'oktaviana', 'okthunderstorm', 'oktwister', 'oktxduounited', 'okuma', 'okviolent', 'okwx', 'okwxmidwesttornado', 'okwxoklahoma', 'okwxtornado', 'olap', 'olathe', 'old', 'oldenburg', 'older', 'oldest', 'oli', 'olive', 'oliver', 'oliviaapalmerr', 'oliviamilesnoneriot', 'olliebailey', 'ollymursaus', 'olrules', 'olympia', 'olympic', 'omaha', 'omar', 'omar_molina', 'ombudsmanship', 'omega', 'omfg', 'omg', 'omglandslide', 'ominicanì', 'omron', 'omwnonetwister', 'ona', 'onarmageddon', 'onboard', 'oncollided', 'oncurfew', 'ondoobliterate', 'onebornlondontraumatised', 'onegreenplanetcanadarescued', 'oneheartonemindonecssnonecollapsed', 'ones', 'oneself', 'onevancouver', 'onexplode', 'onfireanders', 'onion', 'online', 'onlinea', 'onlinecommunities', 'onlinemh', 'onlinenonetyphoon', 'onnnnnonesinking', 'onobliterated', 'onr', 'onshit', 'ont', 'ontario', 'ontarioattack', 'ontariobombed', 'ontariocrushed', 'ontariofire', 'ontarioflattened', 'ontarioflood', 'ontariohail', 'ontariorescue', 'ontariostorm', 'ontarioterrorism', 'onthisday', 'onu_france', 'onåê', 'ooh', 'oomf', 'oompah', 'oomrioting', 'oooh', 'oooooohhhh', 'oops', 'op', 'opa', 'oped', 'open', 'opened', 'opener', 'opening', 'openly', 'opens', 'oper', 'opera', 'operation', 'operations', 'ophiuchus', 'opinion', 'opinionated', 'opp', 'oppa', 'oppose', 'opposed', 'opposite', 'opposition', 'oppressed', 'oppressions', 'ops', 'opseaworld', 'optic', 'optic_scumper', 'optical', 'optichcz', 'optimistic', 'optimization', 'option', 'optioned', 'optionnonefire', 'options', 'opus', 'oracle', 'oral', 'orange', 'orangi', 'orbette', 'orcas', 'orcatastrophic', 'orchardalley', 'orchestrated', 'orchid', 'orcot', 'ordained', 'ordeath', 'order', 'ordered', 'orderevacuation', 'orders', 'ore', 'oregon', 'oregonaftershock', 'oregonattack', 'oregoncollision', 'oregondemolished', 'oregonemergency', 'oregonevacuated', 'oregonevacuation', 'oregonforest', 'oregonhostage', 'oregonsurvive', 'oregonupheaval', 'oregonwildfire', 'org', 'organ', 'organic', 'organisms', 'organizations', 'organizers', 'organizing', 'orharm', 'orhazardous', 'ori', 'orianna', 'origin', 'original', 'originalfunko', 'origins', 'orissadestroyed', 'orlando', 'orlandotrapped', 'orleans', 'ormearthquake', 'ormond', 'ornament', 'orontemcurfew', 'orphanage', 'orpol', 'orrubble', 'orseismic', 'orshow', 'orstorm', 'oryx', 'os', 'osakasuicide', 'osama', 'osbourne', 'oshawa', 'oslo', 'oso', 'osteenaftershock', 'ostentatious', 'osun', 'otd', 'oth', 'othcurfew', 'othersnoneharm', 'otherssutton', 'otleyhourukaccident', 'otp', 'otrakansascityelectrocute', 'otrametlife', 'otratmetlifei', 'ottawa', 'ou_wbball', 'ouch', 'ought', 'oun', 'our_mother_mary', 'outage', 'outatlantasmoke', 'outback', 'outbid', 'outbound', 'outbreak', 'outbreed', 'outbroke', 'outcomes', 'outcry', 'outdoor', 'outfield', 'outfit', 'outflow', 'outig', 'outlaw', 'outlet', 'outlook', 'outnj', 'outnumbering', 'outrage', 'outright', 'outrun', 'outs', 'outside', 'outsidebush', 'outta', 'outvirginia', 'ouvindo', 'ouvir', 'ov', 'oven', 'overall', 'overblown', 'overcome', 'overdrive', 'overflow', 'overhead', 'overland', 'overload', 'overlooked', 'overlooking', 'overnight', 'overpriced', 'overrated', 'overrun', 'oversee', 'oversight', 'overtaking', 'overtime', 'overtook', 'overturn', 'overturns', 'overwhelming', 'overåêhostages', 'ovo', 'ovofest', 'owen', 'owenrbroadhurst', 'owner', 'owners', 'ownership', 'oworoshoki', 'oxford', 'oyo', 'oz', 'ozrp_', 'pa', 'paablaze', 'paairplane', 'paannihilated', 'pabioterrorism', 'pablaze', 'pabody', 'pabombed', 'pabuildings', 'paburned', 'pace', 'paci', 'pacific', 'pacificdrowned', 'pacing', 'pack', 'packages', 'packbleeding', 'packed', 'packing', 'packs', 'packåêfor', 'pacquiao', 'pacrushed', 'pact', 'pada', 'padded', 'paddytomlinson', 'padres', 'pads', 'paeds', 'paelectrocute', 'pafatalities', 'pagasa', 'page', 'pageparkescorp', 'paging', 'paid', 'paidcanada', 'paigntonbody', 'pain', 'paineaftershock', 'painful', 'paint', 'painthey', 'painting', 'paintingdallas', 'paints', 'pair', 'pais', 'pajamas', 'pak', 'pakistan', 'pakistanarmy', 'pakistancrashed', 'pakistandeluged', 'pakistanelectrocuted', 'pakistani', 'pakistanoil', 'pakistansurvived', 'pakpattan', 'palaceblood', 'palermo', 'palestine', 'palestinian', 'palestinians', 'palin', 'palm', 'palma', 'palmer', 'palmoil', 'palms', 'palo', 'pam', 'pam_palmater', 'pamela', 'pan', 'panama', 'paname', 'panay', 'pancakes', 'pandemic', 'pandemonium', 'pandemoniumleeds', 'pandemoniumnonepandemonium', 'pandora', 'panel', 'pangandaranmassacre', 'panic', 'panicbrasilpanic', 'panicking', 'panickingoxford', 'panickingvcupanicking', 'panics', 'panik', 'panoramic', 'pantalonesfuego', 'panther', 'pantherattack', 'pantherattackindonesialava', 'panties', 'pantofel', 'pants', 'paobliteration', 'papa', 'papanic', 'papcrdoll', 'paper', 'paperwork', 'papi', 'papicongress', 'papolice', 'paquarantine', 'para', 'paracord', 'parade', 'paradise', 'paradiserefugees', 'paraguay', 'paramedic', 'paramedics', 'paratroopers', 'parazed', 'paraì', 'parched', 'pardon', 'parental', 'parenthood', 'parents', 'paris', 'parissuicide', 'parisvolcano', 'park', 'parker', 'parking', 'parks', 'parley', 'parole', 'pars', 'parsholics', 'partake', 'parter', 'partially', 'participate', 'participating', 'particular', 'particularly', 'particulate', 'partner', 'partnerships', 'parts', 'party', 'pasadena', 'pascalnevada', 'pascoe', 'paso', 'pass', 'passamaquoddyfloods', 'passed', 'passenger', 'passengers', 'passhailstorm', 'passing', 'passion', 'passive', 'password', 'past', 'pasta', 'pastie', 'pastures', 'pasurvive', 'pat', 'patch', 'patched', 'pated', 'paterson', 'path', 'pathfinders', 'pathogen', 'pathogens', 'patience', 'patient', 'patio', 'patna', 'patra', 'patrapped', 'patricia_traina', 'patrick', 'patrickjbutler', 'patrickwslsroanoke', 'patriot', 'patrol', 'pattern', 'patterns', 'pattonoswalt', 'pattyds', 'paul', 'paulinjury', 'paulista', 'paulmassacre', 'paulo', 'pauloblood', 'paulosurvivors', 'paultrauma', 'paved', 'pawindstorm', 'pawneepanicking', 'pawsox', 'pay', 'payarizonahazard', 'payback', 'payday', 'payment', 'pays', 'pb', 'pbban', 'pc', 'pcaldicott', 'pcanada', 'pcps', 'pcs', 'pdp', 'pdx', 'pdxportland', 'pe', 'pea', 'peace', 'peaceful', 'peacefully', 'peacetime', 'peach', 'peachtreedemolish', 'peak', 'pealewashington', 'peanut', 'pearl', 'pearlharbor', 'peasants', 'pedals', 'pedestrian', 'pedestrians', 'pediatric', 'pedophile', 'pedro', 'pee', 'peeked', 'peekskill', 'peeped', 'peeps', 'peers', 'peeters', 'peice', 'pelosi', 'pelotasstretcher', 'penalties', 'penalty', 'pendleton', 'penetrate', 'peninsula', 'penn', 'pennies', 'pennington', 'pennlive', 'pennsylvania', 'pennsylvaniaeyewitness', 'pennsylvaniaforest', 'pennsylvaniasurvivors', 'pennsylvaniawrecked', 'penny', 'pension', 'people', 'peoplepennsylvania', 'peoples', 'peoriabuildings', 'pepper', 'perakdrown', 'percent', 'perenjori', 'perfect', 'perfectlos', 'perfectly', 'perforated', 'perform', 'performance', 'performing', 'period', 'periscope', 'perished', 'perkpearl', 'permanent', 'permanently', 'permission', 'permits', 'perquisite', 'perrie', 'perrybellegarde', 'perrychatindianapolis', 'persecution', 'persist', 'person', 'personal', 'personalinjury', 'personalize', 'personally', 'personnel', 'personnonedamage', 'persons', 'perspectiveright', 'perspectives', 'pertains', 'perth', 'perthbloody', 'perthshire', 'peru', 'perublazing', 'perudisaster', 'perì¼catastrophe', 'pestle', 'pet', 'peta', 'pete', 'petebests', 'petel_mcguire', 'peterborough', 'petereallen', 'peterjukes', 'petersburg', 'petersburgflrefugees', 'petersburgworlddanger', 'petersen', 'petition', 'petroleum', 'pets', 'petting', 'petty', 'pez', 'pfannebeckers', 'pfft', 'pft', 'pg', 'pga', 'pgamertag', 'phalaborwa', 'phandom', 'phantasmal', 'phantom', 'phantrashstorm', 'pharaoh', 'pharaohearth', 'pharrell', 'phase', 'phattack', 'phdsquares', 'phenomenal', 'phew', 'phiddleface', 'phil', 'philadelphia', 'philadelphiadrought', 'philip', 'philipduncan', 'philippine', 'philippines', 'philippinesavalanche', 'philippinescasualties', 'philippinesdesolation', 'philippinesdisaster', 'philippinesevacuated', 'philippinesfloods', 'philippineshazardous', 'philippinesobliterate', 'philippinessirens', 'philippinessoutheast', 'phillip', 'phillips', 'phillipten', 'philly', 'phillystorm', 'phoenix', 'phoenixemergency', 'phoenixrescuers', 'phone', 'phones', 'photo', 'photobloomington', 'photogenic', 'photographed', 'photographer', 'photographs', 'photography', 'photos', 'photoset', 'photoshop', 'phuket', 'physical', 'physically', 'physician', 'physicians', 'pianohands', 'pic', 'pick', 'picked', 'pickens', 'pickerel', 'picking', 'pickle', 'pickles', 'pickpocket', 'pickup', 'pics', 'picsreddit', 'picthis', 'picture', 'piece', 'pieceofme', 'pieces', 'piedmont', 'pierc', 'pierce', 'piercing', 'piercings', 'pig', 'piga', 'pikachu', 'pile', 'pileqnonedeluged', 'piles', 'pileup', 'pilgrims', 'piling', 'pill', 'pilloried', 'pillow', 'pillows', 'pills', 'pilot', 'pilots', 'pin', 'pine', 'piner', 'pineview', 'pink', 'pinpoint', 'pioneer', 'pioneerpress', 'pipe', 'pipeline', 'piper', 'piperwearsthepants', 'piprhys', 'pirate', 'pirates', 'pisco', 'pisgah', 'piss', 'pissed', 'pissing', 'pitch', 'pitched', 'pitcher', 'pitchers', 'pitchwars', 'pits', 'pittsburgh', 'pity', 'pivot', 'pixar', 'pixelcanuck', 'pixelsmovie', 'pizza', 'pizzafatality', 'pizzarev', 'pizzas', 'pjnet', 'pjnt', 'pkk', 'pksparkxxweapon', 'pkwy', 'pl', 'pla', 'place', 'placecollide', 'placed', 'placemelbourne', 'places', 'placing', 'plague', 'plaguing', 'plains', 'plainsemergency', 'plan', 'plane', 'planes', 'planet', 'planetary', 'planing', 'planned', 'plannedparenthood', 'planners', 'planning', 'plano', 'plans', 'plant', 'plantations', 'planted', 'plastic', 'plastics', 'plate', 'platform', 'platinum', 'play', 'playa', 'played', 'player', 'playernoneinjured', 'players', 'playing', 'playingnow', 'playlist', 'playoffs', 'playoffsnoneinjury', 'playoverwatch', 'plays', 'playstation', 'playthroughunknowndamage', 'playthursdays', 'plaza', 'pleaded', 'pleasant', 'pleasanton', 'pleasenoneevacuated', 'pleasure', 'pleasurecrush', 'plebnonedemolition', 'pledge', 'pledged', 'plenty', 'pletch', 'plez', 'plfd', 'pll', 'pllolz', 'pllscreaming', 'ploppytaking', 'plot', 'pls', 'plsss', 'plug', 'plugin', 'plumbing', 'plummetednonebombed', 'plummeting', 'plunging', 'plus', 'pluto', 'plutononecollide', 'plymouth', 'plymouthmudslide', 'pm', 'pmarca', 'pmel', 'pmharper', 'pmmumbaiwreckage', 'pmnoneheat', 'pmnorth', 'pmpunjabwreckage', 'pmwa', 'pnpizodybandungflames', 'pnwobliterate', 'po', 'po_st', 'po_stvitì_ria', 'pocatello', 'pockets', 'pocketsnairobi', 'podcast', 'poddindigul', 'poem', 'pogo', 'poignant', 'point', 'pointing', 'pointless', 'pointold', 'points', 'poisoned', 'pokemon', 'poking', 'pol', 'poland', 'polanddestruction', 'polaroids', 'pole', 'police', 'policeng', 'policies', 'policy', 'policyholders', 'policylab', 'politely', 'politic', 'political', 'politicalthe', 'politicians', 'politicized', 'politics', 'politicsstockholm', 'politifiact', 'poll', 'pollster', 'polluted', 'polygonevacuate', 'pompano', 'pon', 'pond', 'pone', 'pony', 'pool', 'poor', 'poorly', 'pop', 'popehat', 'popeyes', 'poplar', 'pops', 'popular', 'populardemand', 'popularmmos', 'population', 'porcini', 'poreflooding', 'porn', 'porridge', 'port', 'porta', 'portable', 'portage', 'portaloos', 'portion', 'portland', 'portlandevacuated', 'porto', 'portoscreaming', 'portrait', 'portsmouth', 'portugal', 'portugaldead', 'portugalscreaming', 'portugaltwister', 'poses', 'positive', 'positively', 'positivity', 'posnonecrashed', 'possess', 'possible', 'possibly', 'post', 'postal', 'postapocalypticflimflam', 'postcards', 'posted', 'postering', 'posters', 'postexistence', 'posting', 'postlagos', 'postnonequarantined', 'posts', 'pot', 'potential', 'potentially', 'pots', 'potteratthedischurricane', 'potters', 'potus', 'pounded', 'pounding', 'pounds', 'pour', 'poured', 'pouring', 'pov', 'poverty', 'pow', 'poway', 'powder', 'power', 'powerbraking', 'powerful', 'powerlines', 'powers', 'powerwarwick', 'pox', 'pozarmy', 'pp', 'ppact', 'ppereznonecurfew', 'ppfa', 'ppl', 'pple', 'ppor', 'ppsellsbabyparts', 'prabhu', 'prablematicla', 'practically', 'practice', 'practices', 'practicing', 'practitioner', 'pradesh', 'pragniknonedemolished', 'praise', 'praiz', 'pray', 'prayed', 'prayforsaipansaipan', 'prdemolition', 'pre', 'preacher', 'preaching', 'prebreak', 'precedent', 'precipitation', 'precisionistic', 'preconditioning', 'predator', 'predict', 'predicted', 'prediction', 'prefecture', 'prefer', 'preferable', 'pregnant', 'prehistoric', 'premature', 'premier', 'premiere', 'premium', 'premonitions', 'prensa', 'prepare', 'prepared', 'preparedness', 'preparednesschemical', 'prepares', 'preparing', 'prepper', 'preppers', 'preppertalk', 'pres', 'presence', 'present', 'presentation', 'presents', 'preservation', 'preserve', 'president', 'presley', 'press', 'presserqld', 'pressing', 'presstv', 'pressure', 'prestige', 'preston', 'presume', 'pretend', 'pretoriaablaze', 'pretty', 'prettyboyshyflizzy', 'prevent', 'prevention', 'preview', 'previous', 'previously', 'price', 'priceless', 'pricelessnonefloods', 'prices', 'pride', 'priest', 'primal', 'primalkitchen', 'primarily', 'primary', 'prime', 'prince', 'princeoffencing', 'princesscurfew', 'princessduck', 'principality', 'principle', 'principles', 'print', 'printed', 'printing', 'prints', 'prior', 'priorities', 'priority', 'prison', 'prisonplanet', 'private', 'privilege', 'pro', 'probably', 'probablyburning', 'probe', 'problem', 'problems', 'probnonehurricane', 'probs', 'proc', 'procedures', 'proceeds', 'process', 'prod', 'prodding', 'produced', 'producer', 'product', 'producthunt', 'production', 'productive', 'professional', 'professionally', 'profile', 'profit', 'profittothepeoplenonewild', 'program', 'programme', 'programs', 'progress', 'progressablaze', 'progressohio', 'prohibits', 'project', 'projected', 'projectiles', 'projects', 'proliferation', 'prolly', 'prolong', 'promise', 'promised', 'promises', 'promote', 'promoted', 'promotion', 'prompt', 'prompted', 'prompts', 'prone', 'pronouncing', 'proof', 'propagandiststretcher', 'propane', 'propelled', 'proper', 'properly', 'property', 'prophecy', 'prophet', 'prophetmuhammad', 'prophets', 'proportions', 'proposal', 'proposed', 'prosecute', 'prosecuted', 'prosser', 'prosyn', 'protect', 'protectdenaliwolvesnoneemergency', 'protected', 'protecting', 'protectingtitan', 'protection', 'protector', 'protein', 'protest', 'protesters', 'protesting', 'protests', 'proto', 'protoshoggoth', 'proud', 'proudgreenhome', 'proudly', 'proudseattle', 'prove', 'proven', 'provence', 'provide', 'provided', 'providence', 'providenceflattened', 'providers', 'province', 'provocation', 'provoke', 'provokes', 'proxy', 'ps', 'psa', 'psalm', 'psalms', 'psd', 'pseudojuuzousaovdamage', 'psfdanonedemolish', 'psm', 'psomewhere', 'psp', 'psqdnonedesolate', 'psychiatric', 'psychic', 'psychological', 'psychologist', 'pt', 'ptbo', 'pthe', 'ptsd', 'ptsd_chat', 'ptsdchati', 'ptsdchatnonetrauma', 'public', 'publicity', 'publicizing', 'published', 'puck', 'puddle', 'pueblo', 'puente', 'puerto', 'puff', 'pugprobsport', 'pugwash', 'puledo_tech_updatesouth', 'pulkovo', 'pull', 'pulling', 'pulls', 'pulse', 'pummel', 'pump', 'pumper', 'pumpkin', 'pumpkins', 'pun', 'puncak', 'punch', 'puncture', 'pundit', 'pundits', 'punished', 'punishing', 'punishment', 'punjab', 'punjabdisaster', 'punk', 'puntland', 'puny', 'pup', 'puppet', 'puppies', 'puppy', 'puppyshogun', 'purchase', 'purchased', 'purdies', 'purfleetobliterate', 'purgatory', 'purgatoryflames', 'puritan', 'purple', 'purported', 'purse', 'push', 'pushing', 'pushleft', 'pussy', 'pussynonedrown', 'pussyxdestroyer', 'putin', 'puts', 'putting', 'pvc', 'pwhvgwaxnoneflames', 'pxnatosil', 'pydisney', 'pyjamas', 'pyramidhead', 'pyrbliss', 'pyrotechnic', 'qiang', 'qld', 'qnh', 'qosqodust', 'qotring', 'qpr', 'qroanoke', 'qty', 'quadrillion', 'quake', 'quakehawaii', 'qualit', 'quality', 'quals', 'quantico', 'quarantine', 'quarantined', 'quarrel', 'quarter', 'quarters', 'quarterstaff', 'quartz', 'que', 'queanbeyan', 'queen', 'queens', 'queensland', 'queenslandbloody', 'queenslandevacuation', 'queenwendy_', 'queer', 'quem', 'quest', 'questergirl', 'question', 'questioning', 'questions', 'questionscalifornia', 'questsbuhhemergency', 'quick', 'quickhogsmeadeharm', 'quickly', 'quiet', 'quincy', 'quit', 'quite', 'quiz', 'quizzed', 'quora', 'quot', 'quote', 'quoted', 'quotenonefloods', 'quoteoftheday', 'quotes', 'quotessan', 'quran', 'quì', 'qvc', 'qz', 'qzloremftnoneharm', 'r_lauren', 'raccoons', 'race', 'racer', 'rachelcaine', 'rachelrofe', 'racial', 'racing', 'racist', 'radar', 'radianthail', 'radiation', 'radio', 'radioactive', 'radioriffrocks', 'radios', 'radiosinking', 'radioworldavalanche', 'radler', 'radneck', 'rag', 'rage', 'rages', 'raging', 'raheel', 'raid', 'raiders', 'raidersreporter', 'rail', 'railed', 'railguns', 'railroad', 'rails', 'railway', 'railways', 'rain', 'rainbowbuildings', 'rainbows', 'rained', 'raineishida', 'rainfall', 'rainfallpakistandeluged', 'rainforestresqthornton', 'rainier', 'raining', 'rains', 'rainstorm', 'raised', 'raishimi', 'rajasthan', 'raleigh', 'rally', 'ralph', 'ram', 'ramag', 'rammed', 'rampage', 'ran', 'randallpinkston', 'randerson', 'random_tourist', 'randomthoughtmumbaiambulance', 'randpaul', 'randy', 'rang', 'range', 'rangerkaitimay', 'ranked', 'ranking', 'ranks', 'ransacked', 'ransomware', 'rant', 'rants', 'rap', 'rape', 'raped', 'rapenonetraumatised', 'rapid', 'rapidcity', 'rapidly', 'rapids', 'rapper', 'rapperblaze', 'rappers', 'rapping', 'raptors', 'rare', 'rascal', 'rat', 'rate', 'rated', 'rating', 'ratings', 'ratingsnonedestroy', 'ratio', 'rationing', 'raung', 'rave', 'ravioliåêwith', 'raw', 'rawfoodbliss', 'ray', 'raychielovesu', 'raynbowaffair', 'rayner', 'raynor', 'rayquazaerk', 'rays', 'razed', 'razedåê', 'razing', 'raì¼l', 'rb', 'rbcinsurance', 'rbi', 'rchs', 'rcmp', 'rd', 'rdcharlotte', 'rdo', 're_shrimplevy', 'rea', 'reaad', 'reach', 'reaches', 'reaching', 'react', 'reacted', 'reactions', 'reactor', 'reacts', 'read', 'reader', 'reading', 'reads', 'ready', 'reafs', 'reagan', 'real', 'real_liam_payne', 'realderailed', 'realdonaldtrump', 'realdonaldtrumptexaslandslide', 'realestate', 'realhiphop', 'realise', 'realised', 'realism', 'realistic', 'realities', 'reality', 'realitystructural', 'realization', 'realize', 'realized', 'realjaxclone', 'really', 'realm', 'realmandyrain', 'realtime', 'realvillemass', 'reap', 'rear', 'reason', 'reasoncalifornia', 'reasonnonesuicide', 'reasons', 'reassigned', 'reator', 'rebahe', 'rebeccaforreal', 'reblogged', 'reboot', 'rebooting', 'rebound', 'rebuilding', 'recall', 'recalls', 'recap', 'receipts', 'receive', 'receives', 'receiving', 'recent', 'recently', 'recip', 'recipe', 'recipes', 'reckless', 'recognize', 'recommend', 'recommended', 'reconnect', 'record', 'recordand', 'recorded', 'recording', 'recount', 'recover', 'recovered', 'recovery', 'recreates', 'recruiting', 'recruitment', 'recycling', 'red', 'redbull', 'redcliffe', 'redcoatjackpot', 'reddakushgodd', 'redding', 'reddish', 'reddit', 'redditemergency', 'redeem', 'redeemeth', 'redesigned', 'redesigning', 'rediscover', 'rediscovered', 'redistribute', 'redlands', 'redo', 'redondo', 'redsoxmassachusettsburned', 'redsoxnationruin', 'reduce', 'reduced', 'redwing', 'reebok', 'reef', 'reekocrushed', 'refer', 'referencereference', 'referred', 'referring', 'reflect', 'reflected', 'reflections', 'reflects', 'refrigerator', 'refugee', 'refugees', 'refugeesmatter', 'refugeespedophile', 'refugeesuk', 'refugio', 'refuse', 'refused', 'refuses', 'regard', 'regarding', 'regardless', 'regime', 'regimes', 'region', 'regional', 'regionåêåênear', 'register', 'registered', 'regr', 'regress', 'regret', 'regular', 'reid', 'reidlake', 'reign_coco', 'reinstate', 'reject', 'rejected', 'rejects', 'rejoice', 'related', 'relations', 'relationship', 'relatives', 'relax', 'relaxing', 'relay', 'release', 'released', 'releases', 'releasewashington', 'releasing', 'relief', 'reliefweb', 'religion', 'religious', 'relive', 'remade', 'remain', 'remaining', 'remainontop', 'remains', 'remark', 'remarkably', 'remaster', 'remedial', 'remember', 'remembered', 'remembering', 'remembers', 'reminded', 'reminder', 'reminders', 'reminds', 'remix', 'remodeled', 'remorse', 'remorseless', 'removal', 'remove', 'removed', 'removing', 'ren', 'renamed', 'render', 'rendered', 'rene', 'renewed', 'renewhealthbronx', 'renfrew', 'reno', 'renovation', 'renunciedilma', 'reopen', 'reopened', 'reopening', 'rep', 'repair', 'repatriated', 'repatriating', 'repay', 'repdonbeyer', 'repeat', 'repjohnkatko', 'replace', 'replaced', 'replacement', 'replacing', 'replies', 'report', 'reported', 'reportedly', 'reporters', 'reporting', 'reports', 'repped', 'representative', 'representing', 'repression', 'reprises', 'reprocussions', 'reps', 'republic', 'republica', 'republican', 'republicans', 'repulsive', 'reputation', 'repì¼blica', 'requa', 'request', 'requestsflooding', 'requiem', 'required', 'requiredsydneyblight', 'reriellechan', 'res', 'rescind', 'rescue', 'rescuebig', 'rescued', 'rescuers', 'rescuing', 'research', 'researchers', 'reserveexplosion', 'reserves', 'reset', 'reshape', 'reshapes', 'residence', 'residential', 'residentloud', 'residents', 'residualincome', 'resigninshamesunshine', 'resin', 'resistant', 'resolutevanitybeacon', 'resolved', 'resources', 'respect', 'respected', 'respecthooters', 'respecting', 'respects', 'respond', 'responded', 'responder', 'responders', 'responding', 'responds', 'response', 'responsecenter', 'responsibility', 'responsible', 'rest', 'restaurant', 'resting', 'restingdanger', 'restive', 'reston', 'restore', 'restoringpathsbrazilfear', 'restricted', 'restrospectvictoria', 'result', 'resulted', 'resulting', 'results', 'resultsmanchester', 'retail', 'retainers', 'retard', 'retiredfilth', 'retirees', 'retirement', 'retooled', 'retro', 'retroactive', 'return', 'returned', 'returns', 'retweet', 'retweeted', 'reunion', 'reunite', 'reusing', 'reuters', 'reutersearth', 'reutersgarden', 'reutersnonenuclear', 'rev', 'revealed', 'revel', 'revelation', 'revenge', 'revenues', 'reverse', 'review', 'reviewers', 'reviewing', 'reviews', 'revise', 'revitup', 'revolt', 'revolution', 'reward', 'rewatchingthepilot', 'reworked', 'rexyy', 'reycampinas', 'rezaphotography', 'rfcgeom', 'rfp', 'rheinbach', 'rhett', 'rhinestone', 'rhodeislanddemolish', 'rhyme', 'ri', 'ribbon', 'rice', 'riceechrispies', 'rich', 'rich_chandler', 'richard', 'richardson', 'riches', 'richhomeydon', 'richland', 'richmond', 'ricin', 'rick', 'rickets', 'rickybonessxm', 'rico', 'ricobombing', 'ricoscreams', 'ricosurvived', 'ricotrapped', 'ricotta', 'ricowindstorm', 'rid', 'rida', 'ridah', 'ride', 'rider', 'riders', 'ridge', 'ridiculous', 'ridiculously', 'ridiculousnonesuicide', 'riding', 'rifle', 'rifles', 'rig', 'rigged', 'right', 'rightbuffalo', 'righteous', 'rights', 'rightways', 'rightwaystanasiastructural', 'rihanna', 'rin', 'rindou', 'ring', 'rinkydnk', 'rio', 'riocrushed', 'riooooos', 'rioslade', 'riot', 'rioters', 'rioting', 'riotingdublinrioting', 'riotingnonerioting', 'riots', 'rip', 'ripped', 'ripping', 'ripple', 'ripples', 'rips', 'ririnsider', 'ris', 'rise', 'risenoneinundation', 'rises', 'rising', 'risk', 'risks', 'risky', 'rite', 'ritualistic', 'ritzy_jewelscalifornia', 'rivalry', 'riveeeeeernuma', 'river', 'riverhazard', 'rivers', 'riverside', 'riverview', 'rivieres', 'riyadh', 'riyadhheat', 'riyadhhellfire', 'riyadhterrorism', 'rizzo', 'rjkrraj', 'rlive', 'rly', 'rn', 'rnk', 'rnnonetsunami', 'road', 'roads', 'roadway', 'roadworks', 'roaming', 'roanoke', 'roanoketimesroanoke', 'rob', 'robbie', 'robert', 'robertcalifornia', 'robertharding', 'robertoneill', 'roberts', 'robinson', 'robloxaurora', 'robot', 'robot_rainstorm', 'robotcoingame', 'robots', 'robpulsenews', 'rochdale', 'rochesterevacuate', 'rock', 'rockbottomradfm', 'rockefeller_chi', 'rockefelleruniv', 'rocket', 'rockford', 'rockin', 'rocking', 'rockingham', 'rockland', 'rocks', 'rocky', 'rockyfire', 'rodkiainoneambulance', 'rods', 'roger', 'rogers', 'rogue', 'roguewatson', 'roh', 'rohingya', 'rohnertparkdps', 'rohsmantibatamjkt', 'roimentor', 'rokiieee_', 'rolandonabeats', 'role', 'roleplay', 'roles', 'roll', 'roller', 'rolling', 'rolls', 'rolo', 'rom', 'roma', 'roman', 'romance', 'romaniaforest', 'rome', 'romeo', 'romeocrow', 'romequarantined', 'romero', 'romesandstorm', 'romford', 'romp', 'ron', 'ronald', 'ronaldo', 'ronda', 'rondarousey', 'ronge', 'ronnie', 'ronwyden', 'roof', 'roofers', 'roofing', 'roofstragedy', 'rooftops', 'room', 'roomr', 'rooms', 'roosevelt', 'root', 'roots', 'rorington', 'rory', 'rosa', 'rosacasualties', 'rosalie', 'rose', 'rosemarytravale', 'rosenbergs', 'rosenthal', 'roses', 'roseville', 'roskomnadzor', 'ross', 'rossum', 'roster', 'rotary', 'rotation', 'rotations', 'rotherhamruin', 'rotterdam', 'rouge', 'roughdeal', 'round', 'rousey', 'route', 'routecomplex', 'router', 'routes', 'routing', 'rover', 'roving', 'row', 'rowkettering', 'rowyso', 'royal', 'royalcarribean', 'royals', 'rp', 'rpengulfed', 'rpn', 'rqnoneblew', 'rrbcin', 'rrusa', 'rs', 'rsa', 'rsf', 'rskarim', 'rsn', 'rspca', 'rss', 'rt', 'rtbattle', 'rtnigeriainjured', 'rtnoneexplode', 'rtrrt', 'rtrrtcoach', 'rts', 'ru', 'rub', 'rubber', 'rubbery', 'rubbing', 'rubble', 'rubblechester', 'rubi_', 'rubybotnoneflames', 'rudd', 'ruddyyyyyy', 'rude', 'rudead', 'ruebs', 'ruhl', 'ruin', 'ruined', 'ruining', 'ruins', 'rule', 'ruler', 'rules', 'ruling', 'rumah', 'rumbling', 'rumor', 'run', 'runabout', 'runaway', 'runbenrunrescue', 'runflooding', 'runjewels', 'runkeeper', 'runner', 'runner_joy', 'running', 'runninnonefear', 'runs', 'runway', 'ruor', 'rural', 'rush', 'russaky', 'russell', 'russia', 'russiachemical', 'russiainjury', 'russian', 'russianonearmageddon', 'rutherford', 'rv', 'rvfriedmann', 'rwa', 'rwrabbit', 'rwy', 'ryan', 'ryanoss', 'ryans', 'ryleedowns', 'ryrotheunaware', 'rì', 'sa', 'saadthe', 'saalon', 'saat', 'sabbathfloods', 'sabcnewsroom', 'sabotage', 'sabrina', 'sac', 'sacae', 'sackville', 'sacramento', 'sacramentocollision', 'sacramentosacramento', 'sacramentosinking', 'sacrifice', 'sad', 'saddle', 'saddlebrooke', 'sadly', 'safari', 'safe', 'safely', 'safer', 'safes', 'safesurvivors', 'safety', 'safsufa', 'said', 'sail', 'sailing', 'sailors', 'saint', 'saipan', 'saison', 'sake', 'salado', 'salamanca', 'sale', 'salem', 'sales', 'saline', 'salisbury', 'sally', 'salman', 'salmon', 'salt', 'saltillo', 'saltriverwildhorses', 'salty', 'salute', 'salvador', 'salvadoran', 'salvages', 'salvation', 'salvi', 'sam', 'sama', 'samajp', 'samanthaturne', 'samaritans', 'samehermosa', 'sammysosita', 'sample', 'sampling', 'samsmithworld', 'samsung', 'san', 'sanction', 'sanctioned', 'sanctions', 'sanctuary', 'sand', 'sandiego', 'sandra', 'sandrablandtragedy', 'sandstorm', 'sandstormunited', 'sandunes', 'sandwich', 'sandy', 'sanelesstheory', 'sanfrancisco', 'sang', 'sanitised', 'sanity', 'sanonofrenonewild', 'sansa', 'santa', 'santaclara', 'santanico', 'santiago', 'santo', 'santocollide', 'santos', 'sao', 'sapphirescallop', 'sarah', 'sarahksilverman', 'sarahmcpants', 'saranc', 'sarasota', 'sarcasm', 'sarcastic', 'sarniamakchris', 'sarumi', 'sasha', 'sask', 'sassy', 'sat', 'satan', 'satchel', 'satellite', 'satellites', 'satin', 'satire', 'satisfying', 'satoshis', 'saturday', 'saturn', 'saudi', 'saudiarabia', 'saudies', 'saudiåêmosque', 'savage', 'savagenation', 'savages', 'savannah', 'save', 'savebees', 'saved', 'saver', 'saveti', 'saving', 'savior', 'savioursquadåçdust', 'savour', 'savs', 'saw', 'say', 'sayed_ridha', 'saying', 'sayinnonehijack', 'sayn_ae', 'says', 'sb', 'sbnation', 'sc', 'scabs', 'scale', 'scalemass', 'scaligero', 'scalpium', 'scam', 'scandals', 'scandinaviadrowning', 'scandinaviahazard', 'scannihilation', 'scare', 'scared', 'scaredst', 'scarier', 'scariest', 'scarlet', 'scars', 'scary', 'scattered', 'scbody', 'sccrash', 'scdamage', 'scdrought', 'scegnews', 'scenario', 'scene', 'scenes', 'scharm', 'schedule', 'scheer', 'schelbertgeorg', 'scheme', 'schiphol', 'scholars', 'school', 'schoolboy', 'schools', 'schulzaftershock', 'schurricane', 'schwarber', 'science', 'sciencefiction', 'scientists', 'scifi', 'scituate', 'scmp_news', 'scofield', 'scollapsed', 'scorched', 'score', 'scorpions', 'scotiatyphoon', 'scotland', 'scotlandblown', 'scotlandcrashed', 'scotlandelectrocute', 'scotlandemergency', 'scotlandlandslide', 'scotlandmilitary', 'scotlandobliteration', 'scotlandpandemonium', 'scotrail', 'scott', 'scotto', 'scottwalker', 'scourgue', 'scout', 'scouts', 'scraped', 'scraptridentnonecatastrophe', 'scratches', 'scratching', 'scream', 'screamed', 'screamednonescreamed', 'screaming', 'screamingdaddy', 'screamingjustin', 'screamingnonescreaming', 'screamqueens', 'screams', 'screamslabyrinthiascreams', 'screamspoffinscreams', 'screeching', 'screen', 'screening', 'screenshotnonebombed', 'screenshots', 'screw', 'screwed', 'scriptettesar', 'scseestapreparando', 'sct', 'scuf', 'scwar', 'scwx', 'scynic', 'sd', 'sdamage', 'sdcyclone', 'se', 'sea', 'seagulls', 'seal', 'sean', 'seanhannity', 'seanpeconi', 'search', 'searching', 'seas', 'seashore', 'season', 'seasonfrom', 'seasons', 'seat', 'seats', 'seattle', 'seattledot', 'seattlemass', 'seattlerainstorm', 'seattleriot', 'seattletimesseattleinundated', 'seaworld', 'sebeefct', 'sec', 'seclusion', 'second', 'secondontario', 'seconds', 'secret', 'secretdeaths', 'secrets', 'section', 'sections', 'sectionst', 'sector', 'secured', 'securing', 'security', 'securitynonedestroy', 'sedan', 'seduction', 'seed', 'seefatality', 'seeing', 'seek', 'seeker', 'seekers', 'seeking', 'seeks', 'seemeth', 'seemly', 'seen', 'seeprovdeath', 'sees', 'seeyouatamicos', 'sef', 'segment', 'seismic', 'seismicsoftware', 'seize', 'sejorgnoneradiation', 'sel', 'selangorbush', 'select', 'selects', 'selena', 'self', 'selfavowed', 'selfdurand', 'selfie', 'selfies', 'sell', 'seller', 'selling', 'selmaoaklandbuildings', 'selmaoaklandburning', 'selmo', 'selmoooooo', 'semarang', 'semasirtalksìït', 'semekeepschanging', 'semi', 'senate', 'senatemajldr', 'senator', 'send', 'sending', 'sends', 'senior', 'sens', 'senschumer', 'sense', 'senseless', 'senseportsmouth', 'sensitive', 'senso', 'sensor', 'sensory', 'sent', 'sentenced', 'sentient', 'sentinel', 'senttornado', 'sep', 'separated', 'sept', 'september', 'septic', 'sequalae', 'sequel', 'sequelnonewreck', 'sequencecaliforniabattle', 'ser', 'seras', 'serbian', 'serene', 'sergiopiaggio', 'serial', 'series', 'seriously', 'seriousnonedead', 'servants', 'serve', 'served', 'server', 'servers', 'service', 'services', 'servicin', 'session', 'sessions', 'set', 'setanta', 'setlist', 'sets', 'setsuko', 'setting', 'settingsuccess', 'settle', 'settlement', 'setzorah', 'seven', 'sevenfigz', 'sevenfold', 'seventies', 'severe', 'severing', 'sewage', 'seward', 'sewer', 'sex', 'sexual', 'sexuality', 'sexy', 'sexycumshots', 'sexydragonmagic', 'sf', 'sfa', 'sfgate', 'sfgiants', 'sfor', 'sg', 'sh', 'sha', 'shaabi', 'shad', 'shade', 'shadezofgrey', 'shadow', 'shadowed', 'shadowflame', 'shadowman', 'shadows', 'shadowsdebris', 'shady', 'shake', 'shaken', 'shakeology', 'shaker', 'shakes', 'shall', 'shame', 'shamecanadasinking', 'shanaynay', 'shandral', 'shanghai', 'shanghaisurvivors', 'shaniatwain', 'shantae', 'shantaeforsmash', 'shantaehalfgeniehero', 'shaolin', 'shape', 'shaped', 'shaper', 'share', 'shareaholicaustraliasuicide', 'shared', 'sharenoneavalanche', 'sharenonethunder', 'shares', 'sharethis', 'sharethisfederal', 'sharethisnoneelectrocuted', 'sharif', 'shark', 'sharnonetwister', 'sharp', 'sharply', 'shatter', 'shaw', 'shawaftershock', 'shay', 'shayoly', 'shear', 'shed', 'shedding', 'shedid', 'sheenobliterated', 'sheer', 'sheeran', 'sheeting', 'sheff', 'sheffield', 'shelby', 'shell', 'shelley', 'shelli', 'shells', 'shelter', 'shen', 'shepherd', 'sheriff', 'shes', 'shestooyoungmiami', 'shevlin', 'shias', 'shift', 'shii', 'shimmyfab', 'shines', 'ship', 'shipping', 'ships', 'shipwreck', 'shira', 'shireapocalypse', 'shirley', 'shirt', 'shirts', 'shit', 'shitbaltimorewreck', 'shitdallasbuildings', 'shitdallasburning', 'shite', 'shitnonedamage', 'shitnonenone', 'shitsickleshijack', 'shitssarsonist', 'shitton', 'shitty', 'shity', 'shiver', 'shizune', 'shoalstrafficnonewreck', 'shock', 'shocked', 'shocking', 'shoe', 'shoes', 'shoesinstagram', 'sholt', 'shook', 'shoot', 'shootas', 'shooter', 'shooting', 'shootings', 'shootoutåê', 'shop', 'shops', 'shore', 'shoremayhem', 'shores', 'short', 'shorts', 'shot', 'shotgun', 'shots', 'shotsnonewounded', 'shotthe', 'shoulder', 'shoulders', 'shouldn', 'shouout', 'shout', 'shouted', 'shouting', 'shoutout', 'shove', 'shovel', 'showaftershock', 'showcase', 'showcasenoneapocalypse', 'showdown', 'shower', 'showers', 'showing', 'shows', 'shrewsburydemolished', 'shtf', 'shud', 'shuffle', 'shunichiro', 'shut', 'shutdown', 'si', 'sibling', 'sicamous', 'sicily', 'sicilydeaths', 'sick', 'sickcharlotte', 'sided', 'sidelines', 'sidelinesavage', 'sides', 'sidewalk', 'siding', 'sidjsjdjekdjskdjd', 'siena', 'sifting', 'sigalert', 'sigh', 'sight', 'sign', 'signal', 'signatures', 'signed', 'significance', 'significant', 'signing', 'signs', 'sigue', 'sikh', 'silang', 'silas', 'silence', 'silent', 'silentsiris', 'silicon', 'silinski', 'silly', 'silo', 'silver', 'silverman', 'silvermoon', 'silverstar', 'silverwood', 'similar', 'simmering', 'simmons', 'simon', 'simple', 'simplify', 'simply', 'simply_vain', 'simpson', 'simulate', 'simulating', 'simultaneous', 'sin', 'sincerely', 'sincerely_tsunamitsunami', 'sincethe', 'sindh', 'sing', 'singaporearson', 'singaporebloody', 'singer', 'singing', 'single', 'singled', 'singles', 'sinistras', 'sinjar', 'sink', 'sinkhole', 'sinking', 'sinkingshipindy', 'sins', 'sioux', 'siouxlan', 'siouxland', 'sip', 'sippin', 'sir', 'sirbrandonknt', 'siren', 'siren_song', 'siren_voice', 'sirens', 'sirensicebreaker', 'sirensnonesirens', 'sirius', 'sirlagos', 'sirmione', 'sirtitan', 'sirtophamhat', 'sis', 'siskiyou', 'sismo', 'sister', 'sisters', 'sit', 'site', 'sitedrowned', 'sitelp', 'siteschevy', 'sitesearthsuicide', 'sitting', 'sittway', 'sittwe', 'situation', 'sixpenceee', 'sixth', 'sixviolent', 'size', 'sized', 'sizewell', 'sizygwwfnoneobliterated', 'sjcanadatrouble', 'sjubbgamedayburning', 'sk', 'skaggs', 'skanndtyagi', 'skeleton', 'sketch', 'sketchbook', 'skh', 'ski', 'skies', 'skiingnonenone', 'skill', 'skills', 'skimmed', 'skin', 'skinchan', 'skinless', 'skinny', 'skip', 'skipping', 'skippygaming', 'sky', 'skye', 'skyhawkmm', 'skyholdrefugees', 'skylanders', 'skyler', 'skyline', 'skynet', 'skype', 'skyport', 'skywars', 'skyåênews', 'sl', 'slab', 'slain', 'slammed', 'slamming', 'slams', 'slands', 'slanglucci', 'slapping', 'slash', 'slate', 'slated', 'slatenonehijacker', 'slatesouthern', 'slatina', 'slating', 'slatukip', 'slaughter', 'slave', 'slaves', 'slay', 'slayer', 'sleep', 'sleeping', 'sleepjunkies', 'sleepnarnia', 'slew', 'sliced', 'slicker', 'slide', 'slides', 'slight', 'slightest', 'slightly', 'sligo', 'slikrickdarula', 'slimebeast', 'slingnewscaliforniabridge', 'slip', 'slipped', 'slipping', 'slips', 'slithering', 'sllikely', 'slone', 'slopelousas', 'slopeofhope', 'slosher', 'slosheriff', 'slow', 'slowly', 'slows', 'slsandpet', 'slsp', 'slumber', 'slytherinsiren', 'smacklizzy', 'small', 'smallbiz', 'smallbusiness', 'smantibatam', 'smart', 'smartnewsmassachusetts', 'smarttek', 'smash', 'smashing', 'smaug', 'smb', 'smcalifornia', 'smeared', 'smell', 'smelling', 'smells', 'smemottawa', 'smfha', 'smh', 'smhglobalcrush', 'smhnonedisaster', 'smhnonelava', 'smhnonenatural', 'smhnonerefugees', 'smiles', 'smiling', 'smirking', 'smith', 'smithereens', 'smithsonian', 'smnoneearthquake', 'smoak_queen', 'smofcwhirlwind', 'smoke', 'smokenoneexplode', 'smokers', 'smokes', 'smokey', 'smoking', 'smoky', 'smoochy', 'smooth', 'smoothed', 'smp', 'sms', 'smswashington', 'smth', 'smug', 'smugglers', 'smusx', 'sn', 'snacknonebody', 'snacks', 'snake', 'snap', 'snapchat', 'snapchatselfie', 'snapharmony', 'snapping', 'snd', 'sneak', 'sneaks', 'sneezing', 'sni', 'sniff', 'sniiiiiiff', 'snipe', 'sniping', 'snippets', 'snooker', 'snoop', 'snort', 'snotgreen', 'snow', 'snowball', 'snowden', 'snowflake', 'snowstorm', 'snowywolf', 'snuck', 'snuff', 'soak', 'soaked', 'soaker', 'soaking', 'soaring', 'socal', 'soccer', 'sochi', 'social', 'socialism', 'socialists', 'socially', 'socialmedia', 'socialnews', 'socialwots', 'society', 'socket', 'sockets', 'sodamntrue', 'sods', 'sofadust', 'soft', 'softball', 'software', 'soggy', 'soil', 'solano', 'solar', 'sold', 'soldierlancashire', 'soldiers', 'sole', 'solelinks', 'solicitor', 'solid', 'solitude', 'solo', 'soloquiero', 'solosscreams', 'solution', 'solve', 'solving', 'somalia', 'somaliaseismic', 'somaliasomaliaseismic', 'somebody', 'someday', 'someones', 'somerset', 'somethinghemel', 'sometimesi', 'somewherefire', 'somewherefirst', 'son', 'sonaharlem', 'soner', 'song', 'songhey', 'songistanbuldesolation', 'songnonetragedy', 'songs', 'songwriter', 'soni', 'sonia', 'sonisoner', 'sonofbobbob', 'sonofliberty', 'sons', 'sony', 'soo', 'soon', 'soonergrunt', 'soonersportstv', 'soonkajang', 'sooo', 'soooo', 'sooootacollision', 'soothmyslumber', 'sopameer', 'sophia', 'sophie', 'sophieingle', 'sophiewisey', 'sophistication', 'sore', 'sorenoneemergency', 'sorrow', 'sorrower', 'sorrows', 'sorry', 'sort', 'sos', 'sosfam', 'sosfamupdater', 'soshospital', 'sothwestarizonablaze', 'souda', 'soudelor', 'soufside', 'soufsidesmoke', 'sought', 'soul', 'soulja', 'souls', 'soulwherever', 'sound', 'soundcloud', 'soundcloudbangkok', 'soundcloudhamburg', 'soundcloudlahti', 'sounding', 'soundnonedrowning', 'sounds', 'soundtrack', 'soup', 'sour', 'source', 'sources', 'sourmashnumber', 'south', 'southafrica', 'southampton', 'southbound', 'southdowns', 'southeast', 'southern', 'southwest', 'soviet', 'sow', 'soyeh', 'sozleylandobliterated', 'sp', 'spa', 'space', 'space_wolverine', 'spaceangelseven', 'spaceriot', 'spaceship', 'spaceshiptwo', 'spacex', 'spain', 'spaindeath', 'spaindemolished', 'spainheat', 'spainnuclear', 'spainoutbreak', 'span', 'spaniel', 'spaniels', 'spanish', 'spark', 'sparked', 'sparking', 'sparks', 'sparkz', 'sparmy', 'spartans', 'spdetonate', 'speak', 'speaker', 'speaking', 'speakingfromexperienceseattle', 'spears', 'speccy', 'special', 'specialist', 'specialize', 'specialized', 'specially', 'specials', 'species', 'specif', 'specific', 'specifically', 'specimens', 'specs', 'spectacular', 'spectrum', 'speculatio', 'speculation', 'speech', 'speed', 'speeding', 'speedtech', 'spell', 'spells', 'spen', 'spencer_fearon', 'spencers', 'spend', 'spending', 'spends', 'spent', 'spice', 'spider', 'spike', 'spill', 'spilled', 'spilt', 'spin', 'spinnellii', 'spinning', 'spinningbot', 'spins', 'spirit', 'spirits', 'splatdown', 'splatling', 'splatoon', 'splattershot', 'split', 'spoil', 'spoiled', 'spokane', 'spokanedust', 'spoke', 'spokes', 'sponge', 'sponsor', 'sponsorships', 'spontaneously', 'spookyfob', 'sport', 'sportinggoods', 'sports', 'sportwatch', 'spos', 'spot', 'spotting', 'spouting', 'sprains', 'spray', 'spread', 'spreading', 'spreads', 'spring', 'springer', 'springnoneinjury', 'springs', 'springsdrowned', 'sprinter', 'sprite', 'spur', 'spurgeonnew', 'sputnik', 'sputnikinthighlands', 'spying', 'squabble', 'squad', 'square', 'squeaver', 'squeeze', 'squeezed', 'squirrel', 'sr', 'sri', 'srinagar', 'sriramk', 'srk', 'srsly', 'ss', 'ssarsonist', 'ssp', 'ssshhheeesshh', 'ssu', 'ssw', 'st', 'stab', 'stabbing', 'stable', 'stacdemon', 'stacedemon', 'stacey', 'stack', 'stacks', 'stacywausau', 'stadium', 'staff', 'staffing', 'stage', 'staged', 'stages', 'staggering', 'staidsomewhere', 'staining', 'staking', 'stalag', 'stalin', 'stallion', 'stamp', 'stan', 'stand', 'standard', 'standardised', 'standforwolves', 'standing', 'stands', 'standstill', 'standup', 'standwithpp', 'stankyboy', 'stans', 'star', 'starbuck_scully', 'starbucks', 'stardate', 'stare', 'starflame_girl', 'starmade', 'starr', 'starring', 'stars', 'start', 'started', 'starter', 'startide', 'starting', 'startminority', 'starts', 'startsnoneharm', 'startup', 'startupnonetsunami', 'startups', 'starve', 'starving', 'stat', 'state', 'statehailstorm', 'statement', 'statements', 'staten', 'staterainstorm', 'staterioting', 'states', 'statesandstorm', 'statesannihilation', 'statesarmageddon', 'statesarsonist', 'statesbioterror', 'statesblight', 'statesblizzard', 'statesbombing', 'statescatastrophic', 'stateschemical', 'statescollapse', 'statesdead', 'statesdevastation', 'statesdrowned', 'statesevacuation', 'statesfamine', 'statesfire', 'statesflames', 'statesflood', 'stateshail', 'stateshazardous', 'statesrescued', 'statesrubble', 'statessandstorm', 'statesscreams', 'statessuicide', 'statessurvive', 'statestwister', 'statesville', 'statesweapon', 'stateswounded', 'stateswounds', 'stateswreck', 'stateswrecked', 'statetrauma', 'statetyphoon', 'statewildfire', 'station', 'stationderailed', 'stations', 'statistically', 'stats', 'status', 'stavernise', 'stavola', 'stay', 'staying', 'staymì', 'stays', 'steady', 'steak', 'steal', 'stealing', 'steals', 'steam', 'steamcanada', 'stearns', 'steel', 'steel_lord', 'stefanejones', 'step', 'steph', 'stephanenny', 'stephaniemarija', 'stephen', 'stephen_georg', 'stephenking', 'stephenscifi', 'stepkans', 'stepped', 'steps', 'stereo', 'sterlingknight', 'stern', 'steve', 'steven', 'stevenontwatter', 'stevenrulles', 'steveycheese', 'stevie', 'stewart', 'stick', 'sticker', 'sticking', 'sticks', 'stickynyc', 'stil', 'stillness', 'stir', 'stirring', 'stl', 'stlnd', 'stlouis', 'stm', 'stnew', 'sto', 'stock', 'stockholm', 'stocks', 'stockton', 'stokes', 'stole', 'stolen', 'stomach', 'stone', 'stonebrewingco', 'stones', 'stonewall', 'stood', 'stop', 'stoponesounds', 'stopped', 'stopping', 'stops', 'stopå_', 'store', 'storen', 'stores', 'storey', 'stories', 'storm', 'stormbeard', 'stormchase', 'stormcomingnoneforest', 'stormpittsborostorm', 'storms', 'stortford', 'story', 'storybrooke', 'storyelectrocute', 'stout', 'stowmarketsurvivors', 'straight', 'straightfirenoneforest', 'strain', 'strains', 'straits', 'strand', 'stranded', 'strange', 'strap', 'strategicpatience', 'strategies', 'strategy', 'stratford', 'strawberries', 'strawberry', 'strawberrysoryu', 'streak', 'stream', 'streaming', 'streams', 'streamyx', 'stree', 'street', 'streetmayhem', 'streetnonenone', 'streetorbost', 'streets', 'strength', 'strengthening', 'stress', 'stressed', 'stressednonepanicking', 'stresses', 'stressful', 'stressing', 'stretched', 'stretcher', 'stretchernonestretcher', 'strict', 'strictly', 'strike', 'striker', 'strikerleedsflattened', 'strikers', 'strikes', 'striking', 'strip', 'stripe', 'strips', 'striptease', 'strives', 'stroke', 'strong', 'stronger', 'strongest', 'strongly', 'struck', 'structural', 'structure', 'structures', 'struggle', 'struggles', 'strutted', 'strutting', 'sts', 'stu', 'stuart', 'stuartbroad', 'stuck', 'stuckinbooks', 'studded', 'studebaker', 'student', 'students', 'studies', 'studio', 'studioarmy', 'study', 'stuff', 'stuffneil', 'stump', 'stunckle', 'stung', 'stunned', 'stunningly', 'stuns', 'stuntfmpandemonium', 'stupid', 'stupid_niggr', 'stupiditysuicide', 'sturgis', 'stury', 'stycrashed', 'style', 'styled', 'stylish', 'stylishly', 'stylist', 'su', 'sub', 'subatomic', 'subcommittee', 'subconscious', 'subconscioussiren', 'subcontractor', 'subject', 'subjected', 'submerged', 'submissions', 'submitt', 'submitting', 'subreddits', 'subs', 'subscribersweapons', 'subscription', 'substantial', 'subtle', 'subtlety', 'suburban', 'subwaychicago', 'succeed', 'success', 'suck', 'sucked', 'suckers', 'sucks', 'sudan', 'sudantornado', 'sudden', 'suddenly', 'sue', 'suelinflower', 'suffer', 'suffered', 'suffering', 'suffers', 'suffice', 'sufficiently', 'suffield', 'sugar', 'sugarhouse', 'suginami', 'suh', 'suho', 'suicide', 'suicides', 'suit', 'suitable', 'suite', 'suites', 'suitlandblazing', 'sul', 'sulrainstorm', 'sultry', 'sumatera', 'summary', 'summer', 'summerfate', 'summerfatebournemouthdevastated', 'summerfateleeds', 'summerinsweden', 'summerknonedrowned', 'summerslam', 'summertime', 'summit', 'summon', 'summons', 'sumn', 'sumter', 'sun', 'sunbathe', 'sunburned', 'sunburst', 'sunbury', 'sunday', 'sundayderbysunk', 'sundays', 'sundowns', 'suniversity', 'sunk', 'sunnis', 'sunny', 'sunnymeade', 'sunnyvale', 'suns', 'sunseismic', 'sunset', 'sunsets', 'sunshine', 'suny_orange', 'super', 'superb', 'superclusterhailstorm', 'superficial', 'superhero', 'superintende', 'superintendent', 'superiority', 'supernatural', 'supernovalester', 'superpower', 'superstitions', 'superv', 'supervisor', 'suplex', 'supply', 'support', 'supporter', 'supporters', 'supporting', 'supports', 'suppose', 'supposed', 'supposedly', 'supremacist', 'supreme', 'supremo', 'surah', 'sure', 'surely', 'surenonecrash', 'suresh', 'sureshpprabhu', 'surety', 'surf', 'surf_photo', 'surface', 'surfers', 'surge', 'surgery', 'surges', 'surprise', 'surprised', 'surprisednonedisaster', 'surprises', 'surrender', 'surrey', 'surrounded', 'surrounding', 'surry', 'surulere', 'suruì', 'survey', 'surveys', 'survival', 'survive', 'survived', 'survivenonesurvive', 'surviving', 'survivor', 'survivorlava', 'survivors', 'survivorsnonesurvivors', 'suryaray', 'susanj', 'sushi', 'susinesses', 'susiya', 'suspect', 'suspected', 'suspects', 'suspectspain', 'suspend', 'suspended', 'suspending', 'suspense', 'suspicious', 'sustainability', 'sustainabilityny', 'sustainable', 'sutherland', 'suv', 'suva', 'suvs', 'sw', 'sw_trains', 'swag', 'swaggdestroyed', 'swallowed', 'swallows', 'swam', 'swansea', 'swarm', 'swb', 'swea', 'swear', 'swearwonderland', 'sweat', 'sweated', 'sweater', 'sweden', 'swedenbuildings', 'swedencatastrophe', 'swedendead', 'swedendesolation', 'swedenmass', 'swedenoutbreak', 'swedentraumatised', 'swedish', 'sweeping', 'sweeps', 'sweet', 'sweetiebirks', 'sweetyoung', 'swells', 'swept', 'swiftstretcher', 'swiftycommissh', 'swim', 'swiming', 'swimming', 'swimportugaldrown', 'swindoninundated', 'swing', 'swingman', 'swiss', 'switch', 'switching', 'switzerland', 'switzerlandaftershock', 'switzerlandrefugees', 'swivels', 'swmobombing', 'swmotyphoon', 'sworn', 'sws', 'syd', 'sydney', 'sydneyblizzard', 'sydneycasualties', 'sydneyrescue', 'sydneysirens', 'sydneywhirlwind', 'sydneywreckage', 'syjexo', 'symantec', 'symbol', 'symbolicjensen', 'sympathy', 'symphony', 'symptoms', 'synapsenkotze', 'syndrome', 'syria', 'syrian', 'syriasuicide', 'syringetoanger', 'systematic', 'systemelectrocuted', 'systemnonestructural', 'systems', 'szmnextdoor', 'szuter', 'sì', 'taaylordarr', 'tab', 'table', 'tablet', 'tac', 'tacit', 'tackettdc', 'taco', 'tacoma', 'tactful', 'tactics', 'tadhgtgmtel', 'tae', 'tafekop', 'tafs', 'tag', 'tagged', 'tagging', 'tahini', 'tahoe', 'tail', 'taint', 'taipei', 'taiwan', 'tak', 'takeaways', 'takecaliforniatornado', 'taken', 'takes', 'taking', 'takis', 'tale', 'talent', 'taliban', 'talibans', 'talisman', 'talk', 'talked', 'talkin', 'talking', 'talkinghell', 'talkradio', 'talks', 'tallahassee', 'tallest', 'tama', 'tambo', 'tambourine', 'tamilnadu', 'tamilnaduweapon', 'tammy_w', 'tampa', 'tampabay', 'tampadrowned', 'tampons', 'tamworth', 'tan', 'tanehisicoates', 'tangled', 'tangletalkilmeltdown', 'tank', 'tankmoss', 'tanknoneavalanche', 'tanks', 'tanstaafl', 'tantrums', 'taoistinsight', 'tapas', 'tape', 'tarbox', 'tardissiren', 'targe', 'target', 'targeted', 'targeting', 'targets', 'tarleton_sophie', 'tarp', 'tarragonarefugees', 'tarynel', 'task', 'tasks', 'taste', 'tasted', 'tastemycupcakee', 'tastes', 'tattoo', 'tattooed', 'taufikcjbandar', 'taught', 'tawfmcawnoneexplosion', 'tax', 'taxes', 'taxi', 'taxis', 'taxiways', 'taxpayers', 'tayiorrmade', 'taykreidler', 'taylor', 'taylorswift', 'tb', 'tbh', 'tbr', 'tbs', 'tbt', 'tc', 'tcc', 'tcgreno', 'tch', 'tcot', 'tcotmi', 'tcotto', 'tcotyour', 'tcotåê', 'tdm', 'tdp', 'te', 'tea', 'teacher', 'teachers', 'teachersnonefire', 'teaching', 'teahivetweets', 'team', 'teamatowinner', 'teamhendrick', 'teamhennessy', 'teammates', 'teamo', 'teams', 'teamscorpion', 'teamsurvivors', 'teamvodg', 'teanoneobliterate', 'tear', 'tears', 'tearsin', 'teases', 'tech', 'techesback', 'techfish', 'techirving', 'techmumbaicollision', 'technews', 'technica', 'technical', 'technique', 'technologies', 'technology', 'technoneexploded', 'tecno', 'ted', 'tedcruz', 'teduka', 'tee', 'teeess', 'teemo', 'teen', 'teenagers', 'teenfiction', 'teens', 'tees', 'teesside', 'teeth', 'teh', 'tejasrubble', 'tejcnoneupheaval', 'telangana', 'telanganabagalkote', 'telanganafamine', 'telegraph', 'telegraphworld', 'telemarketing', 'teleported', 'television', 'tell', 'telling', 'tells', 'telly', 'tellyfckngo', 'telnet', 'tema', 'temecafreeman', 'temecula', 'temp', 'temper', 'temperature', 'tempered', 'temple', 'temporarily', 'temporary', 'temps', 'temptation', 'tend', 'tends', 'tenement', 'tennessee', 'tennesseecollided', 'tennesseecrash', 'tennesseedamage', 'tennesseefatality', 'tennesseeobliterated', 'tennesseeseismic', 'tennesseeslightning', 'tennesseewindstorm', 'tennesseewreck', 'tennews', 'tenno', 'tennoatax', 'tens', 'tenshi', 'tensift', 'tension', 'tent', 'tents', 'tepat', 'tepco', 'ter_ell', 'term', 'termnr', 'terms', 'terrantrapped', 'terrible', 'terriblefashion', 'terrific', 'terrified', 'terrifying', 'territoryburning', 'territorybush', 'territorynonetyphoon', 'territoryobliteration', 'territoryrainstorm', 'terror', 'terrorism', 'terrorismnonehostages', 'terrorismnoneterrorism', 'terrorismtoronto', 'terrorist', 'terroristfloridaterrorist', 'terroristgrimsby', 'terrorists', 'tersestuff', 'terwilliger', 'tesco', 'teslas', 'test', 'testa', 'tested', 'testified', 'testify', 'testimony', 'testing', 'tests', 'testy', 'tewkesbury', 'texans', 'texas', 'texasairplane', 'texasannihilation', 'texasapocalypse', 'texasarson', 'texasbleeding', 'texaschainsawmassacre', 'texaschemical', 'texascollide', 'texascollision', 'texasdamage', 'texasdestroyed', 'texasdust', 'texasexplosion', 'texasfamine', 'texasfatalities', 'texasflattened', 'texasflooding', 'texashostages', 'texaslandslide', 'texasmilitary', 'texasobliterate', 'texaspolice', 'texasruin', 'texasscreams', 'texassssiren', 'texassurvive', 'texassurvivors', 'texaswindstorm', 'texaswrecked', 'text', 'texting', 'texts', 'tfb', 'tflbusalerts', 'tfnonesmoke', 'tfw', 'tgirl', 'th', 'thai', 'thailand', 'thailanddetonation', 'thailandwhirlwind', 'thalapathi', 'thammaratfatal', 'thancredscreamed', 'thanefatal', 'thanjavurhostages', 'thank', 'thankful', 'thankfully', 'thanking', 'thankkk', 'thanks', 'thanku', 'that_fat_guy', 'thatdes', 'thatniagara', 'thatnonepanic', 'thatpersianguy', 'thatrussianman', 'thats', 'thatsabinegirl', 'thatswhatfriendsarefornonewrecked', 'thattorontopanic', 'thatwitchem', 'thda', 'the_af', 'theadvocatemag', 'theashesunited', 'theater', 'theatershooting', 'theatlantic', 'theatre', 'theatres', 'thebk', 'theblackshag', 'theblaze', 'thebookclub', 'theboyofmasks', 'thebriankrause', 'thebuffshow', 'theburnageblue', 'thecomedyquote', 'thedarktower', 'thedayctcedar', 'thedoolinggroup', 'thee', 'theeconomist', 'theellenshow', 'theemobrago', 'theevilolives', 'theft', 'thegame', 'thegamenorth', 'theghostparty', 'thegreenparty', 'thehammers_', 'thehighfessions', 'theirs', 'thejenmorillo', 'thejonesesvoice', 'thekama', 'theleadernewsnonecasualties', 'thelegendblue', 'thelonevirologi', 'themagickidraps', 'themed', 'themermacorn', 'themexplode', 'themhe', 'themnonecasualty', 'themnoneobliterate', 'themsomewhere', 'themwinston', 'theneeds', 'thenewshypewashingtonrescuers', 'theological', 'theory', 'thepartyofmeanness', 'theramin', 'therapies', 'therapy', 'thereaccess', 'thereairplane', 'thereal', 'therealrittz', 'therearmageddon', 'theredisplaced', 'therefire', 'thereheat', 'thereisonlysexpomfret', 'thereof', 'theres', 'theresmorewherethatcamefrom', 'therewhirlwind', 'thesensualeye', 'thesteveharveyshow', 'thestrainnonebuildings', 'thetawniest', 'thetimepast', 'thetshirtkid', 'thetwister', 'thetwisterokc', 'thewebbeffect', 'thewesterngaz', 'theyre', 'theywounds', 'thibodaux', 'thief', 'thighs', 'thing', 'things', 'thingsihate', 'thingsnonesmoke', 'think', 'thinking', 'thinkkenyacasualty', 'thinknonerioting', 'thinks', 'thinner', 'thirst', 'thirsty', 'thisdayinhistory', 'thisisfaz', 'thisisperidot', 'thisispublichealthcolumbus', 'thisiswhywecanthavenicethingshickville', 'thisizbwright', 'thisstarling', 'thjayankondacholapuram', 'thnk', 'tho', 'thomas', 'thomind', 'thononeflooding', 'thorgan', 'thorium', 'thoroughly', 'thothe', 'thoughleeds', 'thought', 'thoughts', 'thoughtsburning', 'thoughtsfire', 'thousand', 'thousands', 'thoutaylorbrown', 'thowaistdeep', 'thr', 'thranduil', 'thrarchives', 'thread', 'threat', 'threatconnect', 'threaten', 'threatening', 'threatens', 'threatinteleverywherethreat', 'threats', 'threw', 'thriller', 'throat', 'throw', 'throwback', 'throwin', 'throwing', 'throwingknifes', 'thrown', 'tht', 'thu', 'thucydiplease', 'thuggin', 'thugging', 'thunder', 'thundernonethunder', 'thundersnow', 'thunderstorm', 'thunderstorms', 'thurlow', 'thurs', 'thursd', 'thursday', 'thursdays', 'thx', 'thxca', 'thy', 'thyroid', 'tiara_marei', 'tic', 'ticket', 'ticketed', 'tickets', 'ticklemeshawn', 'tidal', 'tidalhifi', 'tide', 'tides', 'tie', 'tied', 'tier', 'tiffanyfrizzell', 'tigers', 'tigersjostun', 'tiggr_', 'tight', 'tightly', 'tightropedeluge', 'til', 'til_now', 'tiles', 'till', 'tim_micallef', 'timaru', 'time', 'timebomb', 'timeline', 'timemasinking', 'timeme_sews', 'timempela', 'timenonerainstorm', 'timenonesinking', 'times', 'timesofindianew', 'timestack', 'timesweapon', 'timeworldnonedevastation', 'timey', 'timing', 'timkaine', 'tin', 'tinder', 'tinderbox', 'tindering', 'tinted', 'tinybaby', 'tinyjecht', 'tip', 'tips', 'tire', 'tired', 'tita', 'titan', 'titanic', 'title', 'titolo', 'titortau', 'tittie', 'titty', 'tix', 'tj', 'tj_robertson', 'tkyonlyfmk', 'tlc', 'tlk', 'tloz', 'tlvfaces', 'tmgcgart', 'tmid_airplane', 'tmp', 'tmrscreams', 'tmsaustraliainundated', 'tmw', 'tn', 'tna', 'tnarmy', 'tnbleeding', 'tnbomb', 'tndevastation', 'tnevacuated', 'tnexplode', 'tnfatality', 'tnfirst', 'tnflood', 'tnfranklin', 'tnhazardous', 'tnlava', 'tnmass', 'tnmudslide', 'tnn', 'tnonetornado', 'tnsurvived', 'tntrauma', 'tnwrecked', 'tnwxnonenone', 'tobagorescue', 'tobagosinkhole', 'tod', 'today', 'todayhave', 'todayi', 'todayngnoneevacuation', 'todays', 'todaysbigstock', 'todd', 'todd_calfee', 'toddler', 'toddstarnes', 'toddyrockstar', 'toe', 'togthe', 'toilet', 'toiletnonenuclear', 'tokteacher', 'tokyo', 'tokyoapocalypse', 'tokyocollapsed', 'tokyohijacking', 'tokyowreckage', 'told', 'toledo', 'tolerated', 'tolewant', 'toll', 'tolled', 'tom', 'tomarse', 'tomatoes', 'tomcatarts', 'tomfromireland', 'tomlinson', 'tommorow', 'tomorrow', 'tomorrowhouston', 'tomorrowjamdungfamine', 'tomorrownonecollapsed', 'ton', 'tone', 'tongue', 'tonight', 'tonightnoneobliterated', 'tonightwaukesha', 'tonne', 'tons', 'tonto', 'tonycottee', 'tonyhsieh', 'tonyj', 'tonymcguinness', 'tonysandos', 'toocodtodd', 'took', 'tookitlikeaman', 'tool', 'tools', 'toononeexplosion', 'toononemilitary', 'toooooo', 'toosoon', 'tooth', 'tootrue', 'topderailed', 'topeka', 'tops', 'topstories', 'topstoriesindiaderailment', 'tor', 'toraunited', 'torch', 'torching', 'tore', 'tories', 'tormented', 'torn', 'tornado', 'tornadoes', 'tornadogiveaway', 'tornados', 'toronto', 'torontoairplane', 'torontoannihilated', 'torontobuildings', 'torontocatastrophic', 'torontocollided', 'torontoinjuries', 'torontoobliterate', 'torontotornado', 'torontoviolent', 'torontoweapons', 'torrance', 'torrecilla', 'torrent', 'torrential', 'torso', 'tort', 'torture', 'tory', 'tosssmash', 'tosu', 'total', 'totaling', 'totalitarian', 'totalitarianism', 'totally', 'tote', 'totes', 'totoooooo', 'totoooooooooo', 'tottenham', 'touch', 'touchdown', 'touched', 'tough', 'toughens', 'tour', 'tourists', 'tournament', 'tournaments', 'tourofutah', 'towboat', 'towel', 'tower', 'towersdesolate', 'town', 'townfatalities', 'townrescued', 'township', 'towntornado', 'toxic', 'toxicsavior_', 'tozlet', 'tp_kotc', 'tpfa', 'tprimo', 'tps', 'tr', 'tr_jdavis', 'trace', 'tracey', 'track', 'tracking', 'tracklist', 'tracks', 'traction', 'tractor', 'tracy', 'trad', 'tradcatknight', 'trade', 'trading', 'traditional', 'traffic', 'trafficmanchester', 'trafford', 'tragedy', 'tragedylos', 'tragic', 'trail', 'trailed', 'trailer', 'trailheads', 'train', 'training', 'trains', 'traintragedy', 'traitorcharleston', 'tram', 'trampling', 'trancy', 'trancyv', 'transfer', 'transformation', 'transformed', 'transgender', 'transgendered', 'transgress', 'transit', 'translated', 'transport', 'transporta', 'transportation', 'transporting', 'transwomen', 'trap', 'traplord_', 'trapmusic', 'trapped', 'trash', 'trashednonetrouble', 'trauma', 'traumatised', 'traumatiseddublin', 'traumatisednonetraumatised', 'traumatisednorth', 'travel', 'travelbody', 'travellers', 'travelling', 'traverse', 'travis', 'tray', 'treasure', 'treat', 'treated', 'treating', 'treatmen', 'treatment', 'treatments', 'treaty', 'tree', 'treepornhampshire', 'treepornmountainssnowstorm', 'trees', 'treescape', 'trek', 'trekkers', 'tremont', 'tremors', 'tren', 'trench', 'trend', 'trending', 'trends', 'trent', 'trestle', 'trey', 'treyarch', 'trfc', 'tri', 'triad', 'trial', 'trials', 'trib', 'tribal', 'tribe', 'tribune', 'triciaoneill', 'triciaoneillphoto', 'trickshot', 'trickxie', 'tricky', 'tricycle', 'trident', 'tried', 'tries', 'triggered', 'trillac_', 'trillion', 'trillrebel_danger', 'tring', 'trinidad', 'trinity', 'trinna', 'trip', 'triple', 'tripoli', 'tripsburg', 'triskeliontrauma', 'triumph', 'triumphant', 'trivium', 'trois', 'trolley', 'trollkrattos', 'trooper', 'troops', 'trophy', 'tropical', 'trost', 'trouble', 'troublemanila', 'troublenonetrouble', 'troubleonmymindtoronto', 'troubling', 'troupe', 'troy', 'trpreston', 'trs', 'tru', 'trubgme', 'truck', 'truckcrash', 'truckload', 'trucks', 'true', 'truediagnosis', 'truein', 'truelove', 'truhijacker', 'truly', 'truly_stings', 'trump', 'trunk', 'trust', 'trusted', 'trusting', 'trusty', 'trustymclusty', 'truth', 'truths', 'try', 'trying', 'tryna', 'trynna', 'tryout', 'tryouts', 'tryprobably', 'ts', 'tsipras', 'tsunami', 'tsunamieast', 'tsunamiin', 'tsutomi', 'tt', 'ttes', 'ttw', 'tu', 'tube', 'tubenonehostages', 'tubestrike', 'tubestrikelondon', 'tucson', 'tuesday', 'tuffers', 'tuicruises', 'tullamarine', 'tulsa', 'tumbles', 'tumbling', 'tumblr', 'tunas', 'tunbridge', 'tune', 'tuned', 'tunein', 'tunes', 'tunes_wgg', 'tuning', 'tunisia', 'tunisian', 'tunnel', 'turbine', 'turdnado', 'turkey', 'turkish', 'turkmen', 'turkmenistanobliteration', 'turn', 'turned', 'turnedonfetaboo', 'turner', 'turning', 'turns', 'tutor', 'tutorial', 'tutorials', 'tv', 'tvdscreaming', 'tvjnewskingston', 'tvshowtime', 'tw', 'twcnews', 'twcnewsclt', 'tweak', 'tween', 'tweet', 'tweetinglew', 'tweetlikeitsseptemberth', 'tweetnonescreaming', 'tweets', 'tweetslondontwister', 'tweetsneaking', 'tweettaiji', 'twentynine', 'twi', 'twia', 'twiaaustin', 'twice', 'twiceunited', 'twilight', 'twin', 'twins', 'twist', 'twister', 'twisterlovesshania', 'twisternonetwister', 'twisterstl', 'twisterå', 'twitch', 'twitter', 'twitterdesolation', 'twon', 'twoptwips', 'twos', 'twrw', 'twx', 'tx', 'txaccident', 'txapocalypse', 'txattack', 'txbattle', 'txblazing', 'txbleeding', 'txblizzard', 'txbody', 'txcollide', 'txcollided', 'txcrush', 'txcrushed', 'txdeluged', 'txdestroy', 'txdestruction', 'txdust', 'txelectrocute', 'txemergency', 'txexplode', 'txfatal', 'txflooding', 'txheat', 'txhijack', 'txhijacker', 'txinjuries', 'txinjury', 'txlege', 'txmeltdown', 'txnuclear', 'txpandemonium', 'txruin', 'txsnowstorm', 'txt', 'txtornado', 'txtrauma', 'txtyphoon', 'txwhirlwind', 'txwindstorm', 'txwreck', 'ty', 'tyar', 'tyler', 'tyleroakley', 'tyne', 'tynedeluge', 'type', 'types', 'typewriter', 'typhoon', 'typhoonnonefloods', 'typical', 'typography', 'typos', 'tyre', 'tyrepakistancollided', 'tìüp', 'uaerubble', 'uber', 'ublown', 'ucaliforniablaze', 'uchicago', 'uchwtlcbzjughydlbiwruin', 'ud', 'udhampur', 'udhampuragain', 'udom', 'ufn', 'ufoublogeuropedreieich', 'uganda', 'ugandacurfew', 'ugc', 'ugh', 'ugliest', 'ugliness', 'ugly', 'uglypeoplehouston', 'uh', 'uhc', 'uhhhhh', 'uitm', 'uk', 'ukaccident', 'ukannihilated', 'ukavalanche', 'ukblown', 'ukbomb', 'ukbombed', 'ukbridge', 'ukcasualty', 'ukdeaths', 'ukdemolish', 'ukdemolished', 'ukderailment', 'ukdesolation', 'ukdestroy', 'ukdevastation', 'ukengulfed', 'ukevacuated', 'ukexplosion', 'ukeyewitness', 'ukfear', 'ukfirst', 'ukflattened', 'ukfloods', 'ukhellfire', 'ukinjuries', 'ukinundated', 'uklandslide', 'uklightning', 'ukloud', 'ukmassacre', 'ukmayhem', 'uknuclear', 'ukobliterate', 'ukobliteration', 'ukpandemonium', 'ukpanicking', 'ukpolice', 'ukraine', 'ukrainefamine', 'ukriot', 'uksnowstorm', 'ukthunder', 'uktraumatised', 'ukupheaval', 'ukwild', 'ukwreck', 'ulive', 'ullman', 'ultimalucha', 'ultimate', 'ultra', 'um', 'umbrella', 'umntu', 'un_women', 'unaddressed', 'unarmed', 'unavoidable', 'unawares', 'uncertainty', 'uncles', 'uncomfortable', 'uncommon', 'unconditional', 'unconfirmed', 'unconscious', 'unconsciously', 'uncontrollable', 'uncover', 'undercover', 'underestimate', 'undergroundbestsellers', 'undergroundrailraodalabamarioting', 'undergroundrailraodvista', 'underpasses', 'understand', 'understandable', 'understanding', 'underwater', 'underway', 'underwriter', 'undetected', 'undone', 'unending', 'unexercised', 'unexplainable', 'unfair', 'unfilled', 'unfml', 'unfolded', 'unfoldoshawa', 'unfollow', 'unfortunately', 'unfortunemelody', 'unhappiness', 'unharmed', 'unhealed', 'unhinged', 'unholy', 'uniform', 'uniforms', 'unilagsuicide', 'unimpressed', 'union', 'uniondesolation', 'unions', 'unique', 'unit', 'unite', 'unitebluenyc', 'united', 'units', 'unity', 'universe', 'universefamine', 'universemeltdown', 'university', 'univsfoundation', 'unknowingly', 'unknown', 'unless', 'unlicensed', 'unloads', 'unlocked', 'unlocking', 'unnamed', 'unnecessary', 'unnewsteamnonedevastated', 'unonedestroy', 'unpacked', 'unplug', 'unprecedentedlondondeluge', 'unpredictable', 'unprepared', 'unqualified', 'unr', 'unreal', 'unrealtouch', 'unrecognized', 'unrelenting', 'unrest', 'unsafe', 'unscreened', 'unsecured', 'unsensibly', 'unsigned', 'unstable', 'unstoppable', 'unsuckdcmetro', 'unsure', 'unsurprisingly', 'untameddirewolf', 'untill', 'untmdoutdoors', 'unto', 'unu', 'unveiled', 'unwarranted', 'upa', 'upbrooklyn', 'upcoloradohellfire', 'upcoming', 'update', 'updated', 'updates', 'upgrade', 'upgraded', 'upheaval', 'uphi', 'uphill', 'uploading', 'uplondondeluge', 'upnoneblew', 'upnoneblown', 'upnonedesolate', 'upnonedrowned', 'upnoneflood', 'upnonescreamed', 'upnonetrouble', 'upper', 'uprootin', 'upset', 'upsetting', 'upstairs', 'upstate', 'upward', 'upwards', 'upwherever', 'ur', 'uranium', 'urban', 'urbanfashion', 'urbanisation', 'urged', 'urgent', 'urgentthere', 'urgnoneinjuries', 'uribe', 'uriminzok', 'urine', 'urogyn', 'urs', 'urself', 'ursula', 'uruan', 'urufusanragu', 'uruguay', 'usa', 'usaablaze', 'usaairplane', 'usaambulance', 'usaannihilated', 'usaannihilation', 'usaapocalypse', 'usaarmageddon', 'usaarson', 'usaattack', 'usaattacked', 'usablew', 'usablight', 'usablizzard', 'usabody', 'usabombing', 'usacasualties', 'usacatastrophe', 'usachemical', 'usacliff', 'usacollapsed', 'usacollide', 'usacollided', 'usacrash', 'usacurfew', 'usadamage', 'usadeath', 'usadeluge', 'usademolished', 'usademolition', 'usaderail', 'usaderailed', 'usadesolate', 'usadestroy', 'usadestroyed', 'usadestruction', 'usadrown', 'usadrowning', 'usaearthquake', 'usaelectrocute', 'usaelectrocuted', 'usaemergency', 'usaengulfed', 'usaevacuation', 'usaexploded', 'usaeyewitness', 'usafamine', 'usafatalities', 'usafatality', 'usafear', 'usaflood', 'usaflooding', 'usafloods', 'usaforest', 'usaftershock', 'usage', 'usagi', 'usagov', 'usahijack', 'usahurricane', 'usainjured', 'usainjuries', 'usalandslide', 'usalava', 'usamass', 'usami', 'usamilitary', 'usanatural', 'usanuclear', 'usapolice', 'usaquarantine', 'usar', 'usaradiation', 'usarainstorm', 'usarescue', 'usarescued', 'usariot', 'usasandstorm', 'usascreamed', 'usascreams', 'usasinkhole', 'usasiren', 'usasirens', 'usasnowstorm', 'usastructural', 'usasuicide', 'usasunk', 'usasurvived', 'usat', 'usaterrorism', 'usathunder', 'usatoday_nfl', 'usatodayncbioterror', 'usatodayoxford', 'usatodaywilmington', 'usatragedy', 'usatrapped', 'usatrouble', 'usatyphoon', 'usaupheaval', 'usavolcano', 'usawar', 'usaweapon', 'usaweapons', 'usawild', 'usawildfire', 'usawindstorm', 'usawounded', 'usbioterror', 'usbombing', 'usd', 'usderailed', 'usderailment', 'usdot', 'use', 'used', 'useless', 'user', 'users', 'uses', 'usg', 'usgs', 'ushanka', 'ushedyogya', 'ushiocomics', 'using', 'usmntcambridge', 'usnoaagov', 'usnoneapocalypse', 'usnuclear', 'usnwsgov', 'ussandstorm', 'usual', 'usually', 'usuallyweapon', 'usw', 'uswarcrimesenglandweapons', 'ut', 'utahbattle', 'utahcanary', 'utahcrush', 'utahgrizz', 'utblown', 'utc', 'utcollapse', 'utd', 'utfirenonewildfire', 'utility', 'utilized', 'utopian', 'utp', 'utrechtflood', 'utter', 'utterly', 'utterrorism', 'utv', 'uud', 'uv', 'uvopwznonedust', 'ux', 'uyo', 'va', 'vaavalanche', 'vabengal', 'vableeding', 'vabuildings', 'vaca', 'vacancies', 'vacant', 'vacation', 'vaccine', 'vaccines', 'vacollided', 'vaderailed', 'vadesolation', 'vadisaster', 'vadrowned', 'vaflames', 'vaginaorcake', 'vaharm', 'vahazard', 'vahijack', 'vail', 'val', 'valandslide', 'valdes', 'vale', 'valentine', 'valle', 'vallerand', 'valley', 'valleybombing', 'valleyforest', 'valleytragedy', 'valleywildfire', 'valleywxhuntsville', 'valuations', 'value', 'values', 'valuesps', 'vamassacre', 'vamayhem', 'vampiro', 'van', 'vancouver', 'vancouvercollision', 'vandalized', 'vanderbilt', 'vanessa', 'vanilla', 'vanished', 'vanishing', 'vannuyscouncillos', 'vanpolinicola', 'vantage', 'vanuatu', 'vaping', 'varainstorm', 'varanasifatal', 'variety', 'varioting', 'various', 'vassalboro', 'vasunk', 'vasurvivors', 'vathreat', 'vault', 've', 'vector', 'vedders', 'veg', 'vegan', 'vegas', 'vegasbloody', 'vegasblown', 'vegetables', 'vegetarian', 'vehicle', 'vehicles', 'veil', 'vela', 'veneto', 'venezuela', 'venezuelaearthquake', 'venezuelawounded', 'venice', 'venoms', 'vent', 'ventura', 'venture', 'verde', 'verdict', 'vermont', 'vernon', 'veronicadlcruz', 'version', 'versionnonerescued', 'versions', 'vessels', 'vest', 'vestment', 'vestnonesuicide', 'vet', 'veteran', 'veterans', 'vets', 'vgbootcamp', 'vi', 'viab', 'vibe', 'vibez', 'vibrate', 'vic', 'vice', 'vicinity', 'vickie', 'victim', 'victimiser', 'victims', 'victimsasheville', 'victoria', 'victoriaflattened', 'victoriagittins', 'victoriapanicking', 'victorinox', 'victorious', 'victorville', 'victory', 'vid', 'vidaliaweapon', 'vidanonecrush', 'video', 'videobrasilavalanche', 'videogamenonestorm', 'videonewark', 'videononedebris', 'videononeemergency', 'videononetornado', 'videos', 'videoveranomtv', 'vietnam', 'vietnamese', 'view', 'views', 'viewsdrowned', 'vigilent', 'vigils', 'vikings', 'vilelunar', 'villa', 'village', 'villageevacuate', 'villagers', 'villages', 'ville', 'villicanaalicia', 'vilniuscyclone', 'vimeo', 'vimvith', 'vince', 'vincent', 'vine', 'vines', 'vinesnonedeluge', 'vineyardhurricane', 'vintage', 'vinustrip', 'vinyl', 'violations', 'violators', 'violence', 'violent', 'violets', 'violin', 'vip', 'viralspell', 'virgil', 'virgin', 'virginia', 'virginiacasualty', 'virginiacrashed', 'virginiaemergency', 'virginianuclear', 'virgo', 'virtual', 'virus', 'viscous', 'visibility', 'vision', 'visit', 'visited', 'visits', 'vistacrushed', 'visting', 'vita', 'vital', 'vitaly', 'vitesse', 'vivid', 'vixmeldrew', 'vixstuart', 'vj', 'vladimir', 'vmas', 'voc', 'vocal', 'vocals', 'vodka', 'vods', 'voice', 'void', 'vol', 'volcano', 'volcano_tornado', 'volcanodiscovertìáchira', 'volcanoes', 'volcanoåêinåêrussia', 'volga', 'volgagrad', 'voltaic', 'voltaire', 'voluntary', 'volunteers', 'vont', 'voodoo', 'voodoo_ben', 'voortrekker', 'vor', 'vortex', 'vote', 'votejktid', 'voter', 'votes', 'voting', 'vra', 'vroman', 'vrwcfamine', 'vs', 'vtc', 'vtradiation', 'vuitton', 'vulcan', 'vuln', 'vulnerability', 'vulnerable', 'vuzuhustlecloud', 'vzwsupport', 'vì_deo', 'wa', 'waattack', 'wabattle', 'wablaze', 'wablood', 'waburning', 'wackoes', 'wackos', 'waco', 'wacollapsed', 'wacollision', 'wacrushed', 'waddesdonflood', 'wadrought', 'waearthquake', 'waemergency', 'wafear', 'wafer', 'waffisuicide', 'wage', 'wahhabism', 'wahpeton', 'waimate', 'waimea', 'waist', 'waistnoneinjuries', 'wait', 'waited', 'waiting', 'waits', 'waiver', 'wake', 'wakefield', 'wakho', 'waking', 'waldo', 'wale', 'walerga', 'wales', 'walesavalanche', 'walesbioterrorism', 'walesbody', 'waleschemical', 'walesemergency', 'walessnowstorm', 'walessunk', 'waleswreck', 'walightning', 'walk', 'walked', 'walker', 'walkerholland', 'walking', 'walkingnonebleeding', 'walknonedrown', 'walkthrough', 'wall', 'wallahi', 'walls', 'wallybaiter', 'walmart', 'waltdisney', 'walter', 'wander', 'wanderlustrescue', 'wankdalkeith', 'wanna', 'wannabe', 'want', 'wantbroadview', 'wanted', 'wanting', 'wants', 'waportland', 'war', 'warcraft', 'warcraftearthbattle', 'ward', 'warfare', 'warfighting', 'warm', 'warmbodiesoaklandapocalypse', 'warming', 'warmth', 'warn', 'warne', 'warned', 'warnerrobins', 'warning', 'warnings', 'warns', 'warra', 'warrandyte', 'warranted', 'warringtonpanicking', 'warrior', 'warriorcord', 'warrirefugees', 'wars', 'warship', 'warships', 'wart', 'waseismic', 'wash', 'washard', 'washed', 'washington', 'washingtonannihilation', 'washingtonchemical', 'washingtondebris', 'washingtonevacuation', 'washingtonfear', 'washingtonpost', 'washingtonupheaval', 'wasilla', 'wasirens', 'wasn', 'waste', 'wasteland', 'wastelands', 'wasting', 'watch', 'watched', 'watches', 'watchin', 'watching', 'watchout', 'watchthevideo', 'water', 'waterboarding', 'waterford', 'waterloo', 'watermeloann', 'waters', 'watersafety', 'watertown', 'waterways', 'wattashit', 'wattle', 'wattpad', 'wattys', 'wave', 'waved', 'waves', 'waving', 'way', 'wayne', 'waynesteratl', 'waynonemassacre', 'waypeterborough', 'ways', 'waythe', 'wayward', 'waziristan', 'wbcnoneblew', 'wbcshirl', 'wblondondestruction', 'wbre', 'wbu', 'wc', 'wce', 'wcvbboston', 'wd', 'wdtv', 'wdyouth', 'weak', 'weakening', 'weaknesses', 'wealilknowa', 'weallheartonedirection', 'wealth', 'wealthy', 'weapon', 'weapon_x_music', 'weaponnoneweapon', 'weapons', 'weaponsely', 'wear', 'wearethenews', 'wearing', 'wears', 'weather', 'weatherit', 'weatherknoxville', 'weathernetwork', 'webannihilation', 'webcam', 'webcamablaze', 'webcollapsed', 'webinar', 'webinjured', 'webriot', 'websiren', 'website', 'websitefatalities', 'websites', 'webster', 'wed', 'wedding', 'weddinghour', 'weddingsdallas', 'wedgie', 'wedn', 'wedneday', 'wednes', 'wednesday', 'wee', 'weeaboosrioting', 'weeblypalm', 'weed', 'weei', 'week', 'weekend', 'weekendmiami', 'weekends', 'weeklong', 'weeks', 'weeksnew', 'weep', 'weigh', 'weighs', 'weight', 'weights', 'weird', 'weirdompls', 'welcome', 'welcomes', 'welcomethe', 'welfare', 'welles_', 'wellington', 'wellstraumatised', 'weloverobdyrdek', 'welshninja', 'wema', 'wen', 'wendell', 'wengernonebombed', 'went', 'weren', 'wesleylowery', 'west', 'westbuildings', 'westchester', 'westchesterbloody', 'westcoast', 'westend', 'western', 'westeros', 'westfalendetonate', 'westminister', 'weston', 'wet', 'wews', 'weyburn', 'weyburndeaths', 'weyrey_gidi', 'wfaaweather', 'wfp', 'wftv', 'wha', 'whack', 'whale', 'whales', 'whao', 'whatcanthedooxford', 'whatevs', 'whats', 'whatsapp', 'wheel', 'wheeler', 'wheelers', 'wheels', 'whensoever', 'wherebleeding', 'whereflames', 'whereveri', 'whiletulalip', 'whimsy', 'whipe', 'whippany', 'whipped', 'whippenz', 'whirlwind', 'whirlwindpittsburghwhirlwind', 'whiskey', 'whistle', 'whistleblower', 'whitbourne', 'whitby', 'white', 'whitehouse', 'whitewashes', 'whoa', 'whocareslondon', 'wholesale', 'whomever', 'whoops', 'whopper_jr_', 'whs', 'wht', 'whts', 'whyor', 'whythe', 'wi', 'wiarson', 'wiblizzard', 'wicdiv', 'wicked', 'wide', 'widebuildings', 'widedetonate', 'wider', 'widespread', 'widout', 'widrowning', 'width', 'wiedemer', 'wielding', 'wiemergency', 'wife', 'wifi', 'wii', 'wikipedia', 'wilava', 'wilbraham', 'wild', 'wild_lionx', 'wilden', 'wildfire', 'wildfires', 'wildfiresnonenone', 'wildhorses', 'wildwestsixgun', 'william', 'williams', 'willie_am_i', 'willing', 'willinghearted', 'willis', 'willow', 'wilmington', 'wilshere', 'wilsheresomeplace', 'wilson', 'wimbledonwandsworth', 'wimpdenver', 'win', 'wind', 'window', 'windows', 'windowsill', 'winds', 'windsor', 'windsorlandslide', 'windstorm', 'windstormåêinsurer', 'windwaker', 'windy', 'wine', 'winechatnonenuclear', 'wineminneapolis', 'wing', 'winged', 'wings', 'winik', 'winner', 'winning', 'winnipeg', 'winnipegexplode', 'winnoneinjured', 'winnonescreams', 'wins', 'winston', 'winter', 'wiped', 'wipes', 'wipp', 'wire', 'wired', 'wireless', 'wiscomass', 'wisconsin', 'wisconsinbattle', 'wisconsinbody', 'wisconsincollided', 'wisconsinmayhem', 'wisconsinsunk', 'wisdc', 'wisdomwed', 'wisenews', 'wish', 'wished', 'wishing', 'wishlist', 'wit', 'witch', 'witches', 'wither', 'withoutnj', 'withoutnonecollide', 'withstand', 'withåêannihilation', 'witness', 'witnessed', 'witnessing', 'witter', 'wiupheaval', 'wiwnpfxa', 'wizard', 'wk', 'wmata', 'wmatawashington', 'wmv', 'wnd', 'wnw', 'wnybomb', 'wo', 'woah', 'wocowae', 'wod', 'woes', 'wogc', 'woke', 'woken', 'wolforth', 'wolfpanamìá', 'wolmers', 'wolter', 'wolverhampton', 'wolverhamptontrouble', 'wom', 'woman', 'women', 'womengirls', 'womenproudly', 'womens', 'wompppp', 'won', 'wonder', 'wonderful', 'wondering', 'wonderkid', 'wonderlandrioting', 'wonderousallure', 'wonders', 'wont', 'wood', 'woodchucksnonetwister', 'woodcreek', 'woodland', 'woodlawn', 'woodobliterated', 'woods', 'woodward', 'wooooooo', 'woosleyupheaval', 'word', 'wording', 'wordk', 'words', 'wordsi', 'work', 'workdrought', 'worked', 'worker', 'workers', 'working', 'workiupui', 'worknoneforest', 'workout', 'workplace', 'works', 'workspace', 'world', 'worldblood', 'worldearthquake', 'worldhijacking', 'worldhostage', 'worldmass', 'worldnetdaily', 'worldnetdailyborn', 'worldnetdailynoneobliteration', 'worldnews', 'worldnewsusaambulance', 'worldnonewrecked', 'worldnyc', 'worldoil', 'worldpay', 'worldquarantine', 'worldrubble', 'worlds', 'worldscreamed', 'worldsnowstorm', 'worldvision', 'worldweapon', 'worldwhirlwind', 'worldwide', 'worldwideambulance', 'worldwidearmageddon', 'worldwidearsonist', 'worldwideblazing', 'worldwidecatastrophe', 'worldwidecyclone', 'worldwidedemolish', 'worldwidedetonate', 'worldwidedust', 'worldwidefirst', 'worldwidehijacker', 'worldwideinjured', 'worldwidemayhem', 'worldwiderazed', 'worldwiderescuers', 'worldwidesuicide', 'worldwidetrapped', 'worldwideviolent', 'worldwidewebdrowned', 'worldwidewildfire', 'worldworld', 'wormcroydoninundated', 'worn', 'worried', 'worries', 'worry', 'worrying', 'worse', 'worseits', 'worsemarylandinundated', 'worsenottingham', 'worship', 'worst', 'worstsummerjobatlantaelectrocuted', 'worstsummerjobchicago', 'worstsummerjobnoneevacuate', 'worstsummerjobnoneexploded', 'worth', 'worthless', 'worthpandemonium', 'wouldn', 'wound', 'wounded', 'woundedpigeon', 'wounds', 'woundsnonewounds', 'wow', 'wowo', 'wowsavannah', 'wpd', 'wpononemassacre', 'wqow', 'wraith', 'wrap', 'wrapped', 'wrapup', 'wreck', 'wreckage', 'wrecked', 'wreckedwrecked', 'wrecknonewreck', 'wrestleon', 'wrigley', 'wrinkled', 'wrist', 'wristband', 'write', 'writebothfists', 'writer', 'writescoffee', 'writing', 'writings', 'written', 'wrong', 'wrongperson', 'wrought', 'wsaz_brittany', 'wsj', 'wsjthinktank', 'wsls', 'wsvrb', 'wtf', 'wtfcharlotte', 'wud', 'wut', 'wv', 'wvhellfire', 'wvsnowstorm', 'ww', 'wwa', 'wwat', 'wwe', 'wwexdreamer', 'wwi', 'wwii', 'www', 'wxii', 'wxkyunited', 'wxunited', 'wy', 'wyattb', 'wyewreck', 'wyflooding', 'wyoming', 'wyou', 'wyright', 'wyrmwood', 'wzbtgettysburg', 'xavier', 'xavier_marquis', 'xb', 'xbox', 'xboxa', 'xboxnonelava', 'xboxone', 'xboxontario', 'xd', 'xdescry', 'xdetroit', 'xdhalifax', 'xdnearest', 'xdojjjj', 'xekstrin', 'xela', 'xeni', 'xharm', 'xicodesolation', 'xicotragedy', 'xii', 'xiumin', 'xkdrxnonesinking', 'xl', 'xmass', 'xnonearmy', 'xo', 'xojademarie', 'xoxodarlingtoncrash', 'xp', 'xtra', 'xv', 'xvii', 'xxxmanchesterdevastated', 'xxxnonetraumatised', 'ya', 'yagitudeh', 'yahistorical', 'yahoo', 'yahooaustraliadeluge', 'yahoocare', 'yahoofinance', 'yahoonewsbased', 'yahoonewsdigestxi', 'yahoonewsunited', 'yahooschwab', 'yahootvbuffalo', 'yakub', 'yall', 'yamaguchi', 'yamaku', 'yamashiro', 'yankees', 'yard', 'yay', 'yazidi', 'yazidi_shingal_genocide', 'yazidis', 'ybtheprophet', 'yday', 'ye', 'yea', 'yeaahhsan', 'yeah', 'yeahs', 'year', 'years', 'yearsoklahoma', 'yearstrinity', 'yearuniversity', 'yeatnoneinjured', 'yeda', 'yelled', 'yelling', 'yellow', 'yellowknife', 'yellows', 'yemen', 'yep', 'yes', 'yeshayad', 'yesinside', 'yesterday', 'yesterdays', 'yetashburn', 'yetnonesunk', 'yetsinking', 'yeun', 'yewa', 'yiayplan', 'yield', 'yikes', 'yiraneuni', 'ymcglaun', 'yo', 'yobe', 'yoenis', 'yogurt', 'yokohama', 'yolandaph', 'yolk', 'yonewsnonesinkhole', 'yonewssinkhole', 'yooooooodestruction', 'yor', 'yorcasualties', 'york', 'yorkarmy', 'yorkavalanche', 'yorkbioterror', 'yorkblazing', 'yorkbody', 'yorkbombed', 'yorkburning', 'yorkcasualties', 'yorkcollide', 'yorkdebris', 'yorkdesolation', 'yorkdetonation', 'yorkdisplaced', 'yorkdrowning', 'yorkemergency', 'yorker', 'yorkexplosion', 'yorkfatalities', 'yorkfear', 'yorkflames', 'yorkflood', 'yorkhurricane', 'yorkmass', 'yorknatural', 'yorkobliterated', 'yorkquarantine', 'yorkrioting', 'yorkshire', 'yorkshirechemical', 'yorksnowstorm', 'yorksunk', 'yorktragedy', 'yorktrauma', 'yorkwhirlwind', 'yorkwounded', 'yosemitedust', 'youbetween', 'youcollapsed', 'youdeluge', 'yoududetownobliterate', 'yougov', 'youlakewood', 'young', 'younger', 'youngheroesid', 'youngsafe', 'younoneharm', 'younonehurricane', 'yourbody', 'yourselfla', 'yourselfnonetsunami', 'youssefyamani', 'youth', 'youthe', 'youtube', 'youtubeegyptlandslide', 'youtubeeverywherepanic', 'youtubehondurasdestroy', 'youtubejaipur', 'youtubenew', 'youtubenoneapocalypse', 'youtubenonechemical', 'youtubenonecrush', 'youtubenoneeyewitness', 'youtubenonefire', 'youtubenonehail', 'youtubenonetsunami', 'youtubenonetwister', 'youtubenonewreck', 'youtubeon', 'youtubesouthern', 'youtubespainannihilation', 'youtubeu', 'youtubeunited', 'youuu', 'ypg', 'ypres', 'yr', 'yrs', 'yuan', 'yucatìánruin', 'yugkolkatainjured', 'yugoslav', 'yugvaninoneambulance', 'yugvaninoneflooding', 'yugvaniproud', 'yuin', 'yuki', 'yum', 'yumiko', 'yup', 'yuppies', 'yuuko', 'yuvi', 'yyc', 'yycfringe', 'yycstorm', 'yycwalkscalgary', 'yycweather', 'yygb', 'yyjvictoria', 'yzfyellowknifeevacuation', 'zaatari', 'zac', 'zacb_', 'zach', 'zachlowe_nba', 'zaibatsunews', 'zak_bagans', 'zakuun', 'zaman', 'zamtriossu', 'zar', 'zaragozablazing', 'zarharzar', 'zarry', 'zayn', 'zaynharm', 'zaynmaiikist', 'zaynmalik', 'zeal', 'zealand', 'zealandbloody', 'zealandearthquake', 'zealandfloods', 'zealandrefugees', 'zealandupheaval', 'zealandviolent', 'zeerust', 'zenande_mcfen', 'zenit', 'zeno', 'zero', 'zeronsuicide', 'zerosnonesurvive', 'zhejiang', 'zicac', 'zimbabwe', 'zimmer', 'zionism', 'zionismbirmingham', 'zionist', 'zip', 'zipped', 'zippednews', 'zipper', 'zmne', 'zodiac', 'zojadelin', 'zomatoaus', 'zombie', 'zombiefunrunback', 'zone', 'zonecasualties', 'zonefear', 'zonein', 'zonelouisianawar', 'zonenonewar', 'zones', 'zonewe', 'zoom', 'zotar', 'zouma', 'zourryart', 'zrnfnoneannihilated', 'zss', 'zumiez', 'zwe', 'zxathetis', 'zzzzphbloody', 'ââ', 'åá', 'åç', 'åè', 'åèn', 'åê', 'åêi', 'åêm', 'åø', 'åøderailed', 'êwagger', 'ìäcossedemolition', 'ìït', 'ìñ', 'ìñmexico', 'ìøåàå_t', 'ìü', 'û_', 'û_ahhh', 'û_brooklyn', 'û_california', 'û_elk', 'û_greensburg', 'û_jamaicatragedy', 'û_maldivesaccident', 'û_mumbaiquarantine', 'û_new', 'û_nigeriasuicide', 'û_noneapocalypse', 'û_nonearmageddon', 'û_nonebioterror', 'û_nonebombing', 'û_nonedamage', 'û_nonedrought', 'û_noneflooding', 'û_nonehailstorm', 'û_nonehurricane', 'û_noneinjury', 'û_nonenone', 'û_nonequarantined', 'û_nonerescuers', 'û_nonerioting', 'û_noneseismic', 'û_one', 'û_seattledevastation', 'û_seattleobliterate', 'û_singaporebombing', 'û_singaporeinundated', 'û_st', 'û_that', 'û_tripoli', 'û_turns', 'û_united', 'û_usacyclone', 'û_williamsbridge', 'û_you', 'ûª', 'ûªarabia', 'ûªd', 'ûªm', 'ûªnonenuclear', 'ûªre', 'ûªs', 'ûªt', 'ûªve', 'ûï', 'ûïa', 'ûïafter', 'ûïall', 'ûïhatchet', 'ûïi', 'ûïlove', 'ûïmake', 'ûïnews', 'ûïnumbers', 'ûïparties', 'ûïrichmond', 'ûïsippin', 'ûïstretcher', 'ûïthat', 'ûïthe', 'ûïwe', 'ûïwhen', 'ûïyou', 'ûò', 'ûòthe', 'ûó', 'ûóher', 'ûókody', 'ûónegligence']\""
      ]
     },
     "execution_count": 163,
     "metadata": {},
     "output_type": "execute_result"
    }
   ],
   "source": [
    "lem_x"
   ]
  },
  {
   "cell_type": "markdown",
   "metadata": {},
   "source": [
    "# Stemming"
   ]
  },
  {
   "cell_type": "code",
   "execution_count": 86,
   "metadata": {},
   "outputs": [],
   "source": [
    "from nltk.stem import PorterStemmer"
   ]
  },
  {
   "cell_type": "code",
   "execution_count": 87,
   "metadata": {},
   "outputs": [],
   "source": [
    "ps = PorterStemmer()"
   ]
  },
  {
   "cell_type": "code",
   "execution_count": 91,
   "metadata": {},
   "outputs": [
    {
     "data": {
      "text/plain": [
       "0       Our Deeds are the Reason of this #earthquake M...\n",
       "1          Forest fire near La Ronge Sask. CanadaNoneNone\n",
       "2       All residents asked to 'shelter in place' are ...\n",
       "3       , people receive #wildfires evacuation orders ...\n",
       "4       Just got sent this photo from Ruby #Alaska as ...\n",
       "                              ...                        \n",
       "7608    Two giant cranes holding a bridge collapse int...\n",
       "7609    @aria_ahrary @TheTawniest The out of control w...\n",
       "7610                  M. [: UTC]?km S of Volcano Hawaii. \n",
       "7611    Police investigating after an e-bike collided ...\n",
       "7612    The Latest: More Homes Razed by Northern Calif...\n",
       "Name: text, Length: 7613, dtype: object"
      ]
     },
     "execution_count": 91,
     "metadata": {},
     "output_type": "execute_result"
    }
   ],
   "source": [
    "x"
   ]
  },
  {
   "cell_type": "markdown",
   "metadata": {},
   "source": [
    "# Continue"
   ]
  },
  {
   "cell_type": "code",
   "execution_count": 19,
   "metadata": {},
   "outputs": [],
   "source": [
    "x = df['text']\n",
    "y = df['target']"
   ]
  },
  {
   "cell_type": "code",
   "execution_count": 20,
   "metadata": {},
   "outputs": [],
   "source": [
    "xtrain,xtest,ytrain,ytest= train_test_split(x,y,test_size=0.3, random_state=123)"
   ]
  },
  {
   "cell_type": "code",
   "execution_count": 21,
   "metadata": {},
   "outputs": [],
   "source": [
    "cv = CountVectorizer(stop_words='english')"
   ]
  },
  {
   "cell_type": "code",
   "execution_count": 22,
   "metadata": {},
   "outputs": [],
   "source": [
    "train = cv.fit_transform(xtrain.values)"
   ]
  },
  {
   "cell_type": "code",
   "execution_count": 23,
   "metadata": {},
   "outputs": [
    {
     "data": {
      "text/plain": [
       "['__',\n",
       " '__ohhmyjoshh',\n",
       " '_animaladvocate',\n",
       " '_ashj',\n",
       " '_charleyisqueen',\n",
       " '_dangdaddy',\n",
       " '_dangerousbeans',\n",
       " '_dc',\n",
       " '_dmerida',\n",
       " '_doofus_',\n",
       " '_edvinnn',\n",
       " '_freemarketeer',\n",
       " '_gaabyx',\n",
       " '_itsdanie_',\n",
       " '_itsmegss_',\n",
       " '_itzsteven',\n",
       " '_keits',\n",
       " '_minimehh',\n",
       " '_ohhsehuns',\n",
       " '_oliviaann_',\n",
       " '_one',\n",
       " '_reddevillife_',\n",
       " '_rosewell',\n",
       " '_stiiilo',\n",
       " '_wildfire__',\n",
       " 'a__cee',\n",
       " 'aa',\n",
       " 'aaaa',\n",
       " 'aaaaaand',\n",
       " 'aaarrrgghhh',\n",
       " 'aace_org',\n",
       " 'aamerica',\n",
       " 'aannnnd',\n",
       " 'aar',\n",
       " 'aashiqui',\n",
       " 'ab',\n",
       " 'aba',\n",
       " 'abablaze',\n",
       " 'abandon',\n",
       " 'abandoned',\n",
       " 'abandonedpics',\n",
       " 'abandoning',\n",
       " 'abbandoned',\n",
       " 'abbott',\n",
       " 'abbruchsimulator',\n",
       " 'abbswinston',\n",
       " 'abc',\n",
       " 'abcnews',\n",
       " 'abcnonebioterrorism',\n",
       " 'abcnorio',\n",
       " 'abdisaster',\n",
       " 'abe',\n",
       " 'abemergency',\n",
       " 'aberdeen',\n",
       " 'abha',\n",
       " 'abhail',\n",
       " 'abhailstorm',\n",
       " 'abia',\n",
       " 'ability',\n",
       " 'ablaze',\n",
       " 'ablazenoneablaze',\n",
       " 'ablazephiladelphia',\n",
       " 'able',\n",
       " 'ableg',\n",
       " 'abninfvet',\n",
       " 'abomb',\n",
       " 'abomination',\n",
       " 'abortion',\n",
       " 'abortions',\n",
       " 'abouts',\n",
       " 'abq',\n",
       " 'abran_caballero',\n",
       " 'abs',\n",
       " 'absence',\n",
       " 'absolut_sumyaindiacollapse',\n",
       " 'absolute',\n",
       " 'absolutely',\n",
       " 'abstorm',\n",
       " 'abstormcalgary',\n",
       " 'abstormcochrane',\n",
       " 'abstormleduc',\n",
       " 'abstormnonehail',\n",
       " 'abstract',\n",
       " 'absurd',\n",
       " 'absurdly',\n",
       " 'abu_baraa',\n",
       " 'abuja',\n",
       " 'abuse',\n",
       " 'abused',\n",
       " 'abuses',\n",
       " 'abusing',\n",
       " 'ac',\n",
       " 'academianonewounded',\n",
       " 'academy',\n",
       " 'academyscreams',\n",
       " 'acarewornheart',\n",
       " 'accept',\n",
       " 'accepte',\n",
       " 'accepts',\n",
       " 'access',\n",
       " 'accident',\n",
       " 'accidentally',\n",
       " 'accidentindonesiaairplane',\n",
       " 'accidents',\n",
       " 'accionempresa',\n",
       " 'accompanying',\n",
       " 'according',\n",
       " 'accordinglynoneobliterated',\n",
       " 'account',\n",
       " 'accountable',\n",
       " 'accra',\n",
       " 'accuracy',\n",
       " 'accused',\n",
       " 'accuses',\n",
       " 'acdcd',\n",
       " 'acdelco',\n",
       " 'ace',\n",
       " 'acebabes',\n",
       " 'acebreakingnews',\n",
       " 'acesse',\n",
       " 'achedin',\n",
       " 'achieve',\n",
       " 'achievement',\n",
       " 'achieving',\n",
       " 'achimota',\n",
       " 'aching',\n",
       " 'acid',\n",
       " 'acmilan',\n",
       " 'acoustic',\n",
       " 'acquire',\n",
       " 'acquired',\n",
       " 'acquisitions',\n",
       " 'acquisitionsmadison',\n",
       " 'acres',\n",
       " 'acrylic',\n",
       " 'act',\n",
       " 'acted',\n",
       " 'actin',\n",
       " 'acting',\n",
       " 'action',\n",
       " 'actionheat',\n",
       " 'actionmoviestaughtus',\n",
       " 'actions',\n",
       " 'activate',\n",
       " 'activated',\n",
       " 'activates',\n",
       " 'active',\n",
       " 'actively',\n",
       " 'activist',\n",
       " 'activities',\n",
       " 'activity',\n",
       " 'actnoneharm',\n",
       " 'actor',\n",
       " 'actress',\n",
       " 'acts',\n",
       " 'actual',\n",
       " 'actually',\n",
       " 'actweapon',\n",
       " 'acute',\n",
       " 'ad',\n",
       " 'adam',\n",
       " 'adamantly',\n",
       " 'adamnibloe',\n",
       " 'adamrubinespn',\n",
       " 'adanne___',\n",
       " 'adaptation',\n",
       " 'add',\n",
       " 'added',\n",
       " 'addict',\n",
       " 'addiction',\n",
       " 'addicts',\n",
       " 'adding',\n",
       " 'addition',\n",
       " 'address',\n",
       " 'addtexastonextdtour',\n",
       " 'adeaths',\n",
       " 'adelaide',\n",
       " 'adidas',\n",
       " 'adjust',\n",
       " 'adjustable',\n",
       " 'adjusted',\n",
       " 'admin',\n",
       " 'administration',\n",
       " 'admit',\n",
       " 'admits',\n",
       " 'adopt',\n",
       " 'adoption',\n",
       " 'adorable',\n",
       " 'adrian_peel',\n",
       " 'adriasimon_',\n",
       " 'ads',\n",
       " 'adult',\n",
       " 'adultblackmale',\n",
       " 'adultnonedeaths',\n",
       " 'adults',\n",
       " 'adumbbb',\n",
       " 'advance',\n",
       " 'advanced',\n",
       " 'advances',\n",
       " 'advantages',\n",
       " 'adventurenatural',\n",
       " 'adventures',\n",
       " 'adverse',\n",
       " 'advertise',\n",
       " 'advice',\n",
       " 'advised',\n",
       " 'advisory',\n",
       " 'adweek',\n",
       " 'aeg',\n",
       " 'aelinrhee',\n",
       " 'aerospace',\n",
       " 'aesop',\n",
       " 'aesthetic',\n",
       " 'aesthijacking',\n",
       " 'aevacuate',\n",
       " 'af',\n",
       " 'afc',\n",
       " 'affair',\n",
       " 'affect',\n",
       " 'affected',\n",
       " 'affecting',\n",
       " 'affects',\n",
       " 'affiliation',\n",
       " 'affleck',\n",
       " 'affliction',\n",
       " 'afghan',\n",
       " 'afghanistan',\n",
       " 'afghetc',\n",
       " 'afloat',\n",
       " 'afp',\n",
       " 'afpnonebioterrorism',\n",
       " 'afraid',\n",
       " 'africa',\n",
       " 'africaablaze',\n",
       " 'africaburning',\n",
       " 'africacollided',\n",
       " 'africademolish',\n",
       " 'africaeyewitness',\n",
       " 'africahijacker',\n",
       " 'africainundated',\n",
       " 'african',\n",
       " 'africans',\n",
       " 'africanterrorist',\n",
       " 'africanuclear',\n",
       " 'africaquarantine',\n",
       " 'africaquarantined',\n",
       " 'africarubble',\n",
       " 'africastructural',\n",
       " 'africaupheaval',\n",
       " 'africawild',\n",
       " 'afrin',\n",
       " 'afte',\n",
       " 'afterhaiyan',\n",
       " 'afterlife',\n",
       " 'afterlifenonehellfire',\n",
       " 'aftermath',\n",
       " 'afternoon',\n",
       " 'aftershock',\n",
       " 'aftershock_delo',\n",
       " 'aftershock_orgnoneaftershock',\n",
       " 'aftershocknoneaftershock',\n",
       " 'aftershocks',\n",
       " 'afycso',\n",
       " 'ag_usanonedrown',\n",
       " 'againcalifornia',\n",
       " 'againnonecurfew',\n",
       " 'agalloch',\n",
       " 'agdq',\n",
       " 'age',\n",
       " 'aged',\n",
       " 'agencies',\n",
       " 'agency',\n",
       " 'agents',\n",
       " 'ages',\n",
       " 'aggarwal',\n",
       " 'aggressif',\n",
       " 'aggressive',\n",
       " 'aggressively',\n",
       " 'aggressivemalaysiabloody',\n",
       " 'ago',\n",
       " 'agononebleeding',\n",
       " 'agontario',\n",
       " 'agony',\n",
       " 'agree',\n",
       " 'agreed',\n",
       " 'agreedbirmingham',\n",
       " 'agreements',\n",
       " 'agrees',\n",
       " 'agscreamed',\n",
       " 'aguero',\n",
       " 'agw',\n",
       " 'ah',\n",
       " 'ahead',\n",
       " 'ahh',\n",
       " 'ahhhh',\n",
       " 'ahhhhh',\n",
       " 'ahhtheenikki',\n",
       " 'aia',\n",
       " 'aid',\n",
       " 'aida_de',\n",
       " 'aidan',\n",
       " 'aids',\n",
       " 'aiginsurance',\n",
       " 'aiiamericangiri',\n",
       " 'aiii',\n",
       " 'aim',\n",
       " 'ain',\n",
       " 'aintsheperty',\n",
       " 'air',\n",
       " 'airasia',\n",
       " 'airbullet',\n",
       " 'aircraft',\n",
       " 'aires',\n",
       " 'airesblood',\n",
       " 'airescrashed',\n",
       " 'airhead',\n",
       " 'airhorns',\n",
       " 'airlift',\n",
       " 'airlines',\n",
       " 'airnonebombing',\n",
       " 'airplane',\n",
       " 'airplaneåê',\n",
       " 'airport',\n",
       " 'airportrefugees',\n",
       " 'airports',\n",
       " 'airstrikes',\n",
       " 'airwaves',\n",
       " 'aisle',\n",
       " 'aitchkaycee',\n",
       " 'aix',\n",
       " 'ajabrown',\n",
       " 'ajw',\n",
       " 'ak',\n",
       " 'aka',\n",
       " 'akarb',\n",
       " 'akcsl',\n",
       " 'akderailed',\n",
       " 'akemergency',\n",
       " 'akfatal',\n",
       " 'akgovbillwalker',\n",
       " 'akilah',\n",
       " 'akito',\n",
       " 'akram',\n",
       " 'aks',\n",
       " 'akwa',\n",
       " 'akxbskdn',\n",
       " 'akxnoneemergency',\n",
       " 'al',\n",
       " 'alabama',\n",
       " 'alabamaemergency',\n",
       " 'alabamaflooding',\n",
       " 'alabamaquake',\n",
       " 'aladdin',\n",
       " 'alam',\n",
       " 'alameda',\n",
       " 'alamexplode',\n",
       " 'alamodc',\n",
       " 'alanhahn',\n",
       " 'alarm',\n",
       " 'alarmed',\n",
       " 'alarming',\n",
       " 'alarmingly',\n",
       " 'alarms',\n",
       " 'alas',\n",
       " 'alaska',\n",
       " 'alaskan',\n",
       " 'alaskaseafood',\n",
       " 'alba',\n",
       " 'albany',\n",
       " 'alberta',\n",
       " 'albertablight',\n",
       " 'albertabomb',\n",
       " 'albertafatal',\n",
       " 'albertahailstorm',\n",
       " 'albertans',\n",
       " 'albertastorm',\n",
       " 'albertatwister',\n",
       " 'albuildings',\n",
       " 'album',\n",
       " 'albums',\n",
       " 'albuquerque',\n",
       " 'alchemist',\n",
       " 'alcohol',\n",
       " 'alcoholandmetal',\n",
       " 'alcoholism',\n",
       " 'aldridge',\n",
       " 'alec',\n",
       " 'alegre',\n",
       " 'alekalicante',\n",
       " 'alert',\n",
       " 'alerts',\n",
       " 'alex',\n",
       " 'alexalltimelow',\n",
       " 'alexandrapullin',\n",
       " 'alexandrian',\n",
       " 'alexeivolkov',\n",
       " 'alexis',\n",
       " 'alexis_sanchez',\n",
       " 'alexjacobsonpfs',\n",
       " 'alextucker',\n",
       " 'alfapedia',\n",
       " 'alflooding',\n",
       " 'alhaji',\n",
       " 'alien',\n",
       " 'aliens',\n",
       " 'alifadithamedan',\n",
       " 'align',\n",
       " 'alipaper',\n",
       " 'alisonannyoung',\n",
       " 'alive',\n",
       " 'aliveafter',\n",
       " 'allah',\n",
       " 'allay',\n",
       " 'allday_cumshots',\n",
       " 'allegations',\n",
       " 'alleged',\n",
       " 'allegedly',\n",
       " 'allegiance',\n",
       " 'allergic',\n",
       " 'alley',\n",
       " 'alliance',\n",
       " 'allied',\n",
       " 'allies',\n",
       " 'allinwithchris',\n",
       " 'alllivesmatter',\n",
       " 'allnonenone',\n",
       " 'allocating',\n",
       " 'allow',\n",
       " 'allowed',\n",
       " 'allowing',\n",
       " 'allows',\n",
       " 'alloy',\n",
       " 'allthekidneybeansandsorbetmisha',\n",
       " 'allthenewsindiaattack',\n",
       " 'ally',\n",
       " 'alma',\n",
       " 'almass',\n",
       " 'almighty',\n",
       " 'aloil',\n",
       " 'alois',\n",
       " 'alonenonesuicide',\n",
       " 'alot',\n",
       " 'alpha',\n",
       " 'alps',\n",
       " 'alrasyiditurasya',\n",
       " 'alright',\n",
       " 'alrighty',\n",
       " 'alsobombed',\n",
       " 'alsosomewhere',\n",
       " 'alsowhat',\n",
       " 'alt',\n",
       " 'altamonte',\n",
       " 'alternative',\n",
       " 'alternatives',\n",
       " 'alto',\n",
       " 'alton',\n",
       " 'aluminum',\n",
       " 'alvarez',\n",
       " 'alvinnelson',\n",
       " 'alwsl',\n",
       " 'ama',\n",
       " 'amageddon',\n",
       " 'amalie',\n",
       " 'amateur',\n",
       " 'amateurnesterukblight',\n",
       " 'amazed',\n",
       " 'amazin',\n",
       " 'amazing',\n",
       " 'amazingall',\n",
       " 'amazingness',\n",
       " 'amazon',\n",
       " 'amazondeals',\n",
       " 'amazonthe',\n",
       " 'amber',\n",
       " 'ambleside',\n",
       " 'ambulance',\n",
       " 'ambulancenorth',\n",
       " 'ambulances',\n",
       " 'amc',\n",
       " 'amcx',\n",
       " 'ameenshaikh',\n",
       " 'amends',\n",
       " 'ameribag',\n",
       " 'america',\n",
       " 'americaarsonist',\n",
       " 'americafloods',\n",
       " 'american',\n",
       " 'americans',\n",
       " 'americarainstorm',\n",
       " 'americarioting',\n",
       " 'americatyphoon',\n",
       " 'americaupheaval',\n",
       " 'ames',\n",
       " 'amesocialaction',\n",
       " 'amico',\n",
       " 'amicospizzato',\n",
       " 'amid',\n",
       " 'amiibos',\n",
       " 'amin_akh',\n",
       " 'aminespn',\n",
       " 'amirite',\n",
       " 'amiritelondon',\n",
       " 'amman',\n",
       " 'amnew',\n",
       " 'amotorry',\n",
       " 'amp',\n",
       " 'amreading',\n",
       " 'amritsar',\n",
       " 'amssummerraleigh',\n",
       " 'amsterdam',\n",
       " 'amukpanicking',\n",
       " 'amumumux',\n",
       " 'amznfavorites',\n",
       " 'ana',\n",
       " 'anakin',\n",
       " 'analog',\n",
       " 'analysis',\n",
       " 'anarchic_teapot',\n",
       " 'anathemazhiv',\n",
       " 'anatomy',\n",
       " 'anchorage',\n",
       " 'ancient',\n",
       " 'anders',\n",
       " 'anderson',\n",
       " 'andnonesunk',\n",
       " 'andre',\n",
       " 'andrea',\n",
       " 'andrew',\n",
       " 'andy',\n",
       " 'andygilder',\n",
       " 'andåêchina',\n",
       " 'anellatulip',\n",
       " 'angel',\n",
       " 'angel_star',\n",
       " 'angeles',\n",
       " 'angelesblown',\n",
       " 'angelesderailment',\n",
       " 'angelesdisaster',\n",
       " 'angelesdrought',\n",
       " 'angelesfire',\n",
       " 'angeleshellfire',\n",
       " 'angelesinjury',\n",
       " 'angelesmass',\n",
       " 'angelesnatural',\n",
       " 'angelespandemonium',\n",
       " 'angelesriot',\n",
       " 'angelina',\n",
       " 'angelriveralib',\n",
       " 'angels',\n",
       " 'anger',\n",
       " 'angharadjames',\n",
       " 'angioplasty',\n",
       " 'angry',\n",
       " 'anhqdc',\n",
       " 'ani',\n",
       " 'animal',\n",
       " 'animallogic',\n",
       " 'animalrescue',\n",
       " 'animalrescuenonerescue',\n",
       " 'animals',\n",
       " 'anime',\n",
       " 'aniston',\n",
       " 'anjem',\n",
       " 'ankle',\n",
       " 'ankles',\n",
       " 'anna',\n",
       " 'annaciclismo',\n",
       " 'anne',\n",
       " 'annealiz',\n",
       " 'annihilated',\n",
       " 'annihilating',\n",
       " 'annihilation',\n",
       " 'annihilationrock',\n",
       " 'annihilationwild',\n",
       " 'anniversary',\n",
       " 'annonymous',\n",
       " 'announced',\n",
       " 'announcement',\n",
       " 'announces',\n",
       " 'annoyed',\n",
       " 'annoying',\n",
       " 'annual',\n",
       " 'anonchimp',\n",
       " 'anoneinundation',\n",
       " 'anonymousmass',\n",
       " 'anonymousnor',\n",
       " 'answer',\n",
       " 'answers',\n",
       " 'ant',\n",
       " 'antarcticamass',\n",
       " 'ante',\n",
       " 'anthology',\n",
       " 'anthonys',\n",
       " 'anthrax',\n",
       " 'anthxvy',\n",
       " 'anti',\n",
       " 'antichrist',\n",
       " 'antigua',\n",
       " 'antioch',\n",
       " 'antiochhickoryhollow',\n",
       " 'antioquiasmoke',\n",
       " 'antisscreamed',\n",
       " 'antonio',\n",
       " 'antoniooooo',\n",
       " 'antony',\n",
       " 'antpips',\n",
       " 'anu',\n",
       " 'anusawounded',\n",
       " 'anxiety',\n",
       " 'anxietyproblemssouth',\n",
       " 'anxious',\n",
       " 'anybody',\n",
       " 'anymore',\n",
       " 'anymoreazerothcatastrophe',\n",
       " 'anythingsheffield',\n",
       " 'anytime',\n",
       " 'anywayaustin',\n",
       " 'anyways',\n",
       " 'anywherefatalities',\n",
       " 'anza',\n",
       " 'aoms',\n",
       " 'ap',\n",
       " 'apano',\n",
       " 'apart',\n",
       " 'apartment',\n",
       " 'apartments',\n",
       " 'apazcrayford',\n",
       " 'apc',\n",
       " 'apch',\n",
       " 'apcåêpdp',\n",
       " 'apd',\n",
       " 'apga',\n",
       " 'aphiabeta',\n",
       " 'aphl',\n",
       " 'apiece',\n",
       " 'aplos',\n",
       " 'apocalpytic',\n",
       " 'apocalypse',\n",
       " 'apocalypsealbuquerqueapocalypse',\n",
       " 'apocalypsenoneapocalypse',\n",
       " 'apocalypsenoneevacuate',\n",
       " 'apocalyptic',\n",
       " 'apollo',\n",
       " 'apollobrown',\n",
       " 'apologies',\n",
       " 'apologise',\n",
       " 'apologized',\n",
       " 'app',\n",
       " 'appalling',\n",
       " 'apparent',\n",
       " 'apparently',\n",
       " 'appclick',\n",
       " 'appealsadelaideemergency',\n",
       " 'appears',\n",
       " 'appease',\n",
       " 'appetite',\n",
       " 'applaud',\n",
       " 'apple',\n",
       " 'applications',\n",
       " 'applied',\n",
       " 'applies',\n",
       " 'apply',\n",
       " 'appointment',\n",
       " 'appraisal',\n",
       " 'appreciate',\n",
       " 'appreciatednoneemergency',\n",
       " 'appreciativeinquiry',\n",
       " 'approach',\n",
       " 'approaches',\n",
       " 'approaching',\n",
       " 'appropriation',\n",
       " 'approval',\n",
       " 'approvalnonenuclear',\n",
       " 'approves',\n",
       " 'appx',\n",
       " 'apr',\n",
       " 'april',\n",
       " 'apropos',\n",
       " 'aptly_engineerd',\n",
       " 'apts',\n",
       " 'aqua',\n",
       " 'aquarium',\n",
       " 'aquecollide',\n",
       " 'ar',\n",
       " 'ara',\n",
       " 'arab',\n",
       " 'arabia',\n",
       " 'arabiacollapse',\n",
       " 'arabian',\n",
       " 'arabiasuicide',\n",
       " 'arabic',\n",
       " 'araulobliterate',\n",
       " 'arcade',\n",
       " 'arceen',\n",
       " 'archipelagowolves',\n",
       " 'architect',\n",
       " 'architects',\n",
       " 'architecture',\n",
       " 'arcollide',\n",
       " 'ardrowning',\n",
       " 'area',\n",
       " 'areaarsonist',\n",
       " 'areabioterror',\n",
       " 'areablown',\n",
       " 'areaburned',\n",
       " 'areacollapsed',\n",
       " 'areadesolate',\n",
       " 'areahostage',\n",
       " 'areaobliteration',\n",
       " 'arearescue',\n",
       " 'areas',\n",
       " 'aren',\n",
       " 'arena',\n",
       " 'arent',\n",
       " 'areva',\n",
       " 'argentaelite',\n",
       " 'argentina',\n",
       " 'argentinaapocalypse',\n",
       " 'argentinadestroyed',\n",
       " 'argentinaearthquake',\n",
       " 'argentinasinking',\n",
       " 'argentinawreck',\n",
       " 'argentinean',\n",
       " 'argh',\n",
       " 'argue',\n",
       " 'argues',\n",
       " 'argument',\n",
       " 'argus_',\n",
       " 'ari',\n",
       " 'aria_ahrary',\n",
       " 'ariabrisard',\n",
       " 'arian',\n",
       " 'ariana',\n",
       " 'arianagrande',\n",
       " 'arizona',\n",
       " 'arizonadot',\n",
       " 'arizonamassacre',\n",
       " 'arkan',\n",
       " 'arkansas',\n",
       " 'arkansasscreamed',\n",
       " 'arkansasthunderstorm',\n",
       " 'arlington',\n",
       " 'arm',\n",
       " 'armageddon',\n",
       " 'armageddonderry',\n",
       " 'armageddoneast',\n",
       " 'armageddonnonearmageddon',\n",
       " 'armed',\n",
       " 'armory',\n",
       " 'arms',\n",
       " 'armsattacked',\n",
       " 'armscasualty',\n",
       " 'army',\n",
       " 'arnhem',\n",
       " 'arnley',\n",
       " 'arobotlegion',\n",
       " 'arounddeluge',\n",
       " 'arranged',\n",
       " 'arrechosdisaster',\n",
       " 'arrest',\n",
       " 'arrested',\n",
       " 'arrestpastornganga',\n",
       " 'arrests',\n",
       " 'arrive',\n",
       " 'arrived',\n",
       " 'arrives',\n",
       " 'arriving',\n",
       " 'arrogant',\n",
       " 'ars',\n",
       " 'arse',\n",
       " 'arsenal',\n",
       " 'arsenalsomewhere',\n",
       " 'arson',\n",
       " 'arsonist',\n",
       " 'arsonistmusic',\n",
       " 'arsonistnonearsonist',\n",
       " 'arsonists',\n",
       " 'arsonnorth',\n",
       " 'art',\n",
       " 'art_brut_',\n",
       " 'artbelgraderiot',\n",
       " 'artectura',\n",
       " 'article',\n",
       " 'articles',\n",
       " 'artificial',\n",
       " 'artillery',\n",
       " 'artist',\n",
       " 'artisteoftheweekfact',\n",
       " 'artistnonebleeding',\n",
       " 'artists',\n",
       " 'artistsunitedworldwidedanger',\n",
       " 'artrauma',\n",
       " 'artsidnbombed',\n",
       " 'artsnonewildfire',\n",
       " 'artwork',\n",
       " 'arvindkejriwal',\n",
       " 'arwxmidwesttornado',\n",
       " 'ary',\n",
       " 'asae',\n",
       " 'asap',\n",
       " 'asb',\n",
       " 'ascend',\n",
       " 'aseer',\n",
       " 'asf',\n",
       " 'ash',\n",
       " 'ashayo',\n",
       " 'ashes',\n",
       " 'ashesashesjohannesburg',\n",
       " 'asheswe',\n",
       " 'asheville',\n",
       " 'ashley',\n",
       " 'ashrafiyah',\n",
       " 'ashville',\n",
       " 'asia',\n",
       " 'asiafire',\n",
       " 'asian',\n",
       " 'asiasurvived',\n",
       " 'asics',\n",
       " 'aside',\n",
       " 'asimtanvir',\n",
       " 'ask',\n",
       " 'askcharleydundalk',\n",
       " 'askconnor',\n",
       " 'asked',\n",
       " 'askforalaska',\n",
       " 'askhcz',\n",
       " 'askin',\n",
       " 'asking',\n",
       " 'askingdamage',\n",
       " 'asks',\n",
       " 'aslava',\n",
       " 'asleep',\n",
       " 'asotattacked',\n",
       " 'aspects',\n",
       " 'ass',\n",
       " 'assad',\n",
       " 'assailant',\n",
       " 'assassinkpg',\n",
       " 'assassins',\n",
       " 'assault',\n",
       " 'assembly',\n",
       " 'assertative',\n",
       " 'assessment',\n",
       " 'assessomewhere',\n",
       " 'assets',\n",
       " 'asshole',\n",
       " 'assholes',\n",
       " 'assistance',\n",
       " 'assistant',\n",
       " 'assisting',\n",
       " 'assnchatraleigh',\n",
       " 'associated',\n",
       " 'association',\n",
       " 'assume',\n",
       " 'assured',\n",
       " 'asterpuppet',\n",
       " 'astonishing',\n",
       " 'astrakhan',\n",
       " 'astrologian',\n",
       " 'astrology',\n",
       " 'astros',\n",
       " 'astroturfers',\n",
       " 'asukager',\n",
       " 'asylum',\n",
       " 'atamathon',\n",
       " 'atblew',\n",
       " 'ate',\n",
       " 'atheistic_',\n",
       " 'athens',\n",
       " 'athlete',\n",
       " 'athletics',\n",
       " 'atk',\n",
       " 'atl',\n",
       " 'atl_events',\n",
       " 'atlanta',\n",
       " 'atlantic',\n",
       " 'atlanticbioterror',\n",
       " 'atlas',\n",
       " 'atleast',\n",
       " 'atmosphere',\n",
       " 'atmospheric',\n",
       " 'atmrzl',\n",
       " 'atnew',\n",
       " 'atom',\n",
       " 'atomic',\n",
       " 'atomicbomb',\n",
       " 'atornado',\n",
       " 'attached',\n",
       " 'attack',\n",
       " 'attacked',\n",
       " 'attackedanna',\n",
       " 'attackedtexas',\n",
       " 'attacking',\n",
       " 'attackonstiles',\n",
       " 'attackrowyso',\n",
       " 'attacks',\n",
       " 'attempt',\n",
       " 'attempted',\n",
       " 'attempting',\n",
       " 'attendance',\n",
       " 'attended',\n",
       " 'attending',\n",
       " 'attention',\n",
       " 'attic',\n",
       " 'attjcdemos',\n",
       " 'attraction',\n",
       " 'attractionplay',\n",
       " 'attractive',\n",
       " 'au',\n",
       " 'aubilenon',\n",
       " 'aubrey',\n",
       " 'auburn',\n",
       " 'auckland',\n",
       " 'auction',\n",
       " 'auctions',\n",
       " 'audaciousspunknoneharm',\n",
       " 'audacityjamesta',\n",
       " 'audience',\n",
       " 'audiences',\n",
       " 'audinonewrecked',\n",
       " 'audio',\n",
       " 'audit',\n",
       " 'aug',\n",
       " 'aughris',\n",
       " 'august',\n",
       " 'aul',\n",
       " 'aunt',\n",
       " 'auntiedote',\n",
       " 'aurora',\n",
       " 'ausbloody',\n",
       " 'auspol',\n",
       " 'auspolstatute',\n",
       " 'aussie',\n",
       " 'aussies',\n",
       " 'aussiesindiariot',\n",
       " 'aussiesmumbairiot',\n",
       " 'aust',\n",
       " 'austell',\n",
       " 'austin',\n",
       " 'austinpearcy',\n",
       " 'austintornado',\n",
       " 'australia',\n",
       " 'australiaarsonist',\n",
       " 'australiabloody',\n",
       " 'australiabuildings',\n",
       " 'australiaburning',\n",
       " 'australiabush',\n",
       " 'australiachemical',\n",
       " 'australiacliff',\n",
       " 'australiacollapsed',\n",
       " 'australiacrash',\n",
       " 'australiacurfew',\n",
       " 'australiaevacuate',\n",
       " 'australiaevacuated',\n",
       " 'australiaevacuation',\n",
       " 'australiaexplode',\n",
       " 'australiafatal',\n",
       " 'australiafire',\n",
       " 'australiaflood',\n",
       " 'australiaharm',\n",
       " 'australiahijacking',\n",
       " 'australiainundated',\n",
       " 'australiamass',\n",
       " 'australian',\n",
       " 'australianoneweapons',\n",
       " 'australians',\n",
       " 'australiarefugees',\n",
       " 'australiasnowstorm',\n",
       " 'australiatrouble',\n",
       " 'australiavolcano',\n",
       " 'austrian',\n",
       " 'auth',\n",
       " 'authentic',\n",
       " 'authenticating',\n",
       " 'author',\n",
       " 'authorities',\n",
       " 'authorjohannesburg',\n",
       " 'authors',\n",
       " 'autismawarenessnonepanic',\n",
       " 'auto',\n",
       " 'autobiography',\n",
       " 'autoinsurance',\n",
       " 'automatic',\n",
       " 'autumn',\n",
       " 'autì_noma',\n",
       " 'auz',\n",
       " 'av',\n",
       " 'avalanche',\n",
       " 'avalancheguaravitasavalanche',\n",
       " 'avalanches',\n",
       " 'avasurvive',\n",
       " 'avbronstein',\n",
       " 'ave',\n",
       " 'aveiro',\n",
       " 'avenged',\n",
       " 'avengers',\n",
       " 'avenue',\n",
       " 'average',\n",
       " 'avert',\n",
       " 'averted',\n",
       " ...]"
      ]
     },
     "execution_count": 23,
     "metadata": {},
     "output_type": "execute_result"
    }
   ],
   "source": [
    "cv.get_feature_names()"
   ]
  },
  {
   "cell_type": "code",
   "execution_count": 24,
   "metadata": {},
   "outputs": [],
   "source": [
    "test = cv.transform(xtest.values)"
   ]
  },
  {
   "cell_type": "markdown",
   "metadata": {},
   "source": [
    "# Scores UDF"
   ]
  },
  {
   "cell_type": "code",
   "execution_count": 62,
   "metadata": {},
   "outputs": [],
   "source": [
    "from sklearn.metrics import accuracy_score, confusion_matrix"
   ]
  },
  {
   "cell_type": "code",
   "execution_count": 72,
   "metadata": {},
   "outputs": [],
   "source": [
    "def scores(x,y):\n",
    "    print(accuracy_score(x,y)) \n",
    "\n",
    "    print(confusion_matrix(x,y))"
   ]
  },
  {
   "cell_type": "markdown",
   "metadata": {},
   "source": [
    "# Naive Bayes"
   ]
  },
  {
   "cell_type": "code",
   "execution_count": 31,
   "metadata": {},
   "outputs": [],
   "source": [
    "from sklearn.naive_bayes import MultinomialNB"
   ]
  },
  {
   "cell_type": "code",
   "execution_count": 171,
   "metadata": {},
   "outputs": [],
   "source": [
    "nb_classifier = MultinomialNB(alpha=1.2)"
   ]
  },
  {
   "cell_type": "code",
   "execution_count": 172,
   "metadata": {},
   "outputs": [
    {
     "data": {
      "text/plain": [
       "MultinomialNB(alpha=1.2, class_prior=None, fit_prior=True)"
      ]
     },
     "execution_count": 172,
     "metadata": {},
     "output_type": "execute_result"
    }
   ],
   "source": [
    "nb_classifier.fit(train,ytrain)"
   ]
  },
  {
   "cell_type": "code",
   "execution_count": 173,
   "metadata": {},
   "outputs": [],
   "source": [
    "pred = nb_classifier.predict(test)"
   ]
  },
  {
   "cell_type": "code",
   "execution_count": 174,
   "metadata": {},
   "outputs": [
    {
     "data": {
      "text/plain": [
       "0.7915936952714536"
      ]
     },
     "execution_count": 174,
     "metadata": {},
     "output_type": "execute_result"
    }
   ],
   "source": [
    "accuracy_score(ytest,pred)"
   ]
  },
  {
   "cell_type": "code",
   "execution_count": 175,
   "metadata": {},
   "outputs": [
    {
     "data": {
      "text/plain": [
       "array([[1087,  226],\n",
       "       [ 250,  721]], dtype=int64)"
      ]
     },
     "execution_count": 175,
     "metadata": {},
     "output_type": "execute_result"
    }
   ],
   "source": [
    "confusion_matrix(ytest,pred)"
   ]
  },
  {
   "cell_type": "markdown",
   "metadata": {},
   "source": [
    "# Random Forest"
   ]
  },
  {
   "cell_type": "code",
   "execution_count": 133,
   "metadata": {},
   "outputs": [],
   "source": [
    "from sklearn.ensemble import RandomForestClassifier"
   ]
  },
  {
   "cell_type": "code",
   "execution_count": 134,
   "metadata": {},
   "outputs": [],
   "source": [
    "rf = RandomForestClassifier(n_estimators = 150)"
   ]
  },
  {
   "cell_type": "code",
   "execution_count": 135,
   "metadata": {},
   "outputs": [
    {
     "data": {
      "text/plain": [
       "RandomForestClassifier(bootstrap=True, class_weight=None, criterion='gini',\n",
       "            max_depth=None, max_features='auto', max_leaf_nodes=None,\n",
       "            min_impurity_decrease=0.0, min_impurity_split=None,\n",
       "            min_samples_leaf=1, min_samples_split=2,\n",
       "            min_weight_fraction_leaf=0.0, n_estimators=150, n_jobs=None,\n",
       "            oob_score=False, random_state=None, verbose=0,\n",
       "            warm_start=False)"
      ]
     },
     "execution_count": 135,
     "metadata": {},
     "output_type": "execute_result"
    }
   ],
   "source": [
    "rf.fit(train,ytrain)"
   ]
  },
  {
   "cell_type": "code",
   "execution_count": 136,
   "metadata": {},
   "outputs": [],
   "source": [
    "pred_rf = rf.predict(test)"
   ]
  },
  {
   "cell_type": "code",
   "execution_count": 137,
   "metadata": {},
   "outputs": [
    {
     "data": {
      "text/plain": [
       "0.7876532399299475"
      ]
     },
     "execution_count": 137,
     "metadata": {},
     "output_type": "execute_result"
    }
   ],
   "source": [
    "accuracy_score(ytest,pred_rf)"
   ]
  },
  {
   "cell_type": "markdown",
   "metadata": {},
   "source": [
    "# Tpot Classifier"
   ]
  },
  {
   "cell_type": "code",
   "execution_count": 138,
   "metadata": {},
   "outputs": [],
   "source": [
    "from tpot import TPOTClassifier"
   ]
  },
  {
   "cell_type": "code",
   "execution_count": 95,
   "metadata": {},
   "outputs": [],
   "source": [
    "tpot = TPOTClassifier(generations = 5, population_size=5,verbosity=2, offspring_size = 3, scoring = 'accuracy', \n",
    "                     cv=3,early_stop = 3, random_state = 12, config_dict = 'TPOT sparse' )"
   ]
  },
  {
   "cell_type": "code",
   "execution_count": 96,
   "metadata": {},
   "outputs": [
    {
     "data": {
      "application/vnd.jupyter.widget-view+json": {
       "model_id": "b1586cd3b5f243488c5c134f6ea666f1",
       "version_major": 2,
       "version_minor": 0
      },
      "text/plain": [
       "HBox(children=(IntProgress(value=0, description='Optimization Progress', max=20, style=ProgressStyle(descripti…"
      ]
     },
     "metadata": {},
     "output_type": "display_data"
    },
    {
     "name": "stdout",
     "output_type": "stream",
     "text": [
      "Generation 1 - Current best internal CV score: 0.7894587332662265\n",
      "Generation 2 - Current best internal CV score: 0.7894587332662265\n",
      "\n",
      "The optimized pipeline was not improved after evaluating 3 more generations. Will end the optimization process.\n",
      "\n",
      "TPOT closed prematurely. Will use the current best pipeline.\n",
      "\n",
      "Best pipeline: LogisticRegression(input_matrix, C=0.5, dual=False, penalty=l2)\n"
     ]
    },
    {
     "data": {
      "text/plain": [
       "TPOTClassifier(config_dict='TPOT sparse', crossover_rate=0.1, cv=3,\n",
       "        disable_update_check=False, early_stop=3, generations=5,\n",
       "        max_eval_time_mins=5, max_time_mins=None, memory=None,\n",
       "        mutation_rate=0.9, n_jobs=1, offspring_size=3,\n",
       "        periodic_checkpoint_folder=None, population_size=5,\n",
       "        random_state=12, scoring='accuracy', subsample=1.0,\n",
       "        template='RandomTree', use_dask=False, verbosity=2,\n",
       "        warm_start=False)"
      ]
     },
     "execution_count": 96,
     "metadata": {},
     "output_type": "execute_result"
    }
   ],
   "source": [
    "tpot.fit(train,ytrain)"
   ]
  },
  {
   "cell_type": "code",
   "execution_count": 129,
   "metadata": {},
   "outputs": [],
   "source": [
    "pred_tpot = tpot.predict(test)"
   ]
  },
  {
   "cell_type": "code",
   "execution_count": 130,
   "metadata": {},
   "outputs": [
    {
     "data": {
      "text/plain": [
       "0.8069176882661997"
      ]
     },
     "execution_count": 130,
     "metadata": {},
     "output_type": "execute_result"
    }
   ],
   "source": [
    "accuracy_score(ytest,pred_tpot)"
   ]
  },
  {
   "cell_type": "code",
   "execution_count": 273,
   "metadata": {},
   "outputs": [
    {
     "data": {
      "text/plain": [
       "array([[1178,  135],\n",
       "       [ 306,  665]], dtype=int64)"
      ]
     },
     "execution_count": 273,
     "metadata": {},
     "output_type": "execute_result"
    }
   ],
   "source": [
    "confusion_matrix(ytest,pred_tpot)"
   ]
  },
  {
   "cell_type": "markdown",
   "metadata": {},
   "source": [
    "# Logistic Regression"
   ]
  },
  {
   "cell_type": "code",
   "execution_count": 25,
   "metadata": {},
   "outputs": [],
   "source": [
    "from sklearn.linear_model import LogisticRegression"
   ]
  },
  {
   "cell_type": "code",
   "execution_count": 52,
   "metadata": {},
   "outputs": [],
   "source": [
    "lr = LogisticRegression(penalty='l2', solver='sag')"
   ]
  },
  {
   "cell_type": "code",
   "execution_count": 53,
   "metadata": {},
   "outputs": [
    {
     "name": "stderr",
     "output_type": "stream",
     "text": [
      "C:\\Users\\Pradeep\\Anaconda3\\lib\\site-packages\\sklearn\\linear_model\\sag.py:334: ConvergenceWarning: The max_iter was reached which means the coef_ did not converge\n",
      "  \"the coef_ did not converge\", ConvergenceWarning)\n"
     ]
    }
   ],
   "source": [
    "model_lr = lr.fit(train,ytrain)"
   ]
  },
  {
   "cell_type": "code",
   "execution_count": 54,
   "metadata": {},
   "outputs": [],
   "source": [
    "predict_lr = model_lr.predict(test)"
   ]
  },
  {
   "cell_type": "code",
   "execution_count": 55,
   "metadata": {},
   "outputs": [
    {
     "data": {
      "text/plain": [
       "0.792907180385289"
      ]
     },
     "execution_count": 55,
     "metadata": {},
     "output_type": "execute_result"
    }
   ],
   "source": [
    "accuracy_score(ytest,predict_lr)"
   ]
  },
  {
   "cell_type": "code",
   "execution_count": 56,
   "metadata": {},
   "outputs": [
    {
     "data": {
      "text/plain": [
       "array([[1142,  171],\n",
       "       [ 302,  669]], dtype=int64)"
      ]
     },
     "execution_count": 56,
     "metadata": {},
     "output_type": "execute_result"
    }
   ],
   "source": [
    "confusion_matrix(ytest,predict_lr)"
   ]
  },
  {
   "cell_type": "markdown",
   "metadata": {},
   "source": [
    "# XGBoost"
   ]
  },
  {
   "cell_type": "code",
   "execution_count": 57,
   "metadata": {},
   "outputs": [],
   "source": [
    "from xgboost import XGBClassifier"
   ]
  },
  {
   "cell_type": "code",
   "execution_count": 82,
   "metadata": {},
   "outputs": [],
   "source": [
    "xgb = XGBClassifier(n_estimators=3000, max_depth=4, n_jobs=-1)"
   ]
  },
  {
   "cell_type": "code",
   "execution_count": 83,
   "metadata": {},
   "outputs": [],
   "source": [
    "model_xgb= xgb.fit(train,ytrain)"
   ]
  },
  {
   "cell_type": "code",
   "execution_count": 84,
   "metadata": {},
   "outputs": [],
   "source": [
    "predict_xgb = model_xgb.predict(test)"
   ]
  },
  {
   "cell_type": "code",
   "execution_count": 85,
   "metadata": {},
   "outputs": [
    {
     "name": "stdout",
     "output_type": "stream",
     "text": [
      "0.7692644483362522\n",
      "[[1073  240]\n",
      " [ 287  684]]\n"
     ]
    }
   ],
   "source": [
    "scores(ytest,predict_xgb)"
   ]
  },
  {
   "cell_type": "markdown",
   "metadata": {},
   "source": [
    "# Test Data Prediction"
   ]
  },
  {
   "cell_type": "code",
   "execution_count": 84,
   "metadata": {},
   "outputs": [],
   "source": [
    "test_text = df_test['text']"
   ]
  },
  {
   "cell_type": "code",
   "execution_count": 85,
   "metadata": {},
   "outputs": [
    {
     "data": {
      "text/plain": [
       "0                      Just happened a terrible car crash\n",
       "1       Heard about #earthquake is different cities, s...\n",
       "2       there is a forest fire at spot pond, geese are...\n",
       "3                Apocalypse lighting. #Spokane #wildfires\n",
       "4           Typhoon Soudelor kills 28 in China and Taiwan\n",
       "                              ...                        \n",
       "3258    EARTHQUAKE SAFETY LOS ANGELES ÛÒ SAFETY FASTE...\n",
       "3259    Storm in RI worse than last hurricane. My city...\n",
       "3260    Green Line derailment in Chicago http://t.co/U...\n",
       "3261    MEG issues Hazardous Weather Outlook (HWO) htt...\n",
       "3262    #CityofCalgary has activated its Municipal Eme...\n",
       "Name: text, Length: 3263, dtype: object"
      ]
     },
     "execution_count": 85,
     "metadata": {},
     "output_type": "execute_result"
    }
   ],
   "source": [
    "test_text"
   ]
  },
  {
   "cell_type": "code",
   "execution_count": 86,
   "metadata": {},
   "outputs": [],
   "source": [
    "test_cv = cv.transform(test_text.values)"
   ]
  },
  {
   "cell_type": "code",
   "execution_count": 87,
   "metadata": {},
   "outputs": [],
   "source": [
    "test_predict= nb_classifier.predict(test_cv)"
   ]
  },
  {
   "cell_type": "code",
   "execution_count": 88,
   "metadata": {},
   "outputs": [
    {
     "data": {
      "text/plain": [
       "array([0, 1, 1, ..., 1, 1, 1], dtype=int64)"
      ]
     },
     "execution_count": 88,
     "metadata": {},
     "output_type": "execute_result"
    }
   ],
   "source": [
    "test_predict"
   ]
  },
  {
   "cell_type": "code",
   "execution_count": 89,
   "metadata": {},
   "outputs": [],
   "source": [
    "submission = pd.DataFrame({'id':df_test['id'],'target':test_predict})"
   ]
  },
  {
   "cell_type": "code",
   "execution_count": 90,
   "metadata": {},
   "outputs": [],
   "source": [
    "submission.to_csv('Tweet_2.csv', index=False)"
   ]
  },
  {
   "cell_type": "code",
   "execution_count": null,
   "metadata": {},
   "outputs": [],
   "source": []
  }
 ],
 "metadata": {
  "kernelspec": {
   "display_name": "Python 3",
   "language": "python",
   "name": "python3"
  },
  "language_info": {
   "codemirror_mode": {
    "name": "ipython",
    "version": 3
   },
   "file_extension": ".py",
   "mimetype": "text/x-python",
   "name": "python",
   "nbconvert_exporter": "python",
   "pygments_lexer": "ipython3",
   "version": "3.7.6"
  }
 },
 "nbformat": 4,
 "nbformat_minor": 2
}
